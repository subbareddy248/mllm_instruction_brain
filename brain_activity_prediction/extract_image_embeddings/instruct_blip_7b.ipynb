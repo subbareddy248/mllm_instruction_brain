{
 "cells": [
  {
   "cell_type": "code",
   "execution_count": null,
   "id": "bbe94f2f-e70d-4c37-b19c-341d230ec66f",
   "metadata": {
    "tags": []
   },
   "outputs": [],
   "source": [
    "!conda env list"
   ]
  },
  {
   "cell_type": "code",
   "execution_count": null,
   "id": "2218251e-a2b2-4d19-aaf7-2bb62164877c",
   "metadata": {
    "tags": []
   },
   "outputs": [],
   "source": [
    "!pip install -q timm"
   ]
  },
  {
   "cell_type": "code",
   "execution_count": null,
   "id": "20c014e2-3f56-4a26-8c44-e5c68a55106a",
   "metadata": {
    "tags": []
   },
   "outputs": [],
   "source": [
    "import transformers"
   ]
  },
  {
   "cell_type": "code",
   "execution_count": null,
   "id": "66e47938-a53b-4578-afd9-0a93d86d9f92",
   "metadata": {
    "tags": []
   },
   "outputs": [],
   "source": [
    "PROMPTS = {\n",
    "    \"instruction\": \"Describe the image\",\n",
    "}"
   ]
  },
  {
   "cell_type": "code",
   "execution_count": null,
   "id": "06207c3b-5ddf-4faf-8204-11e866294bc4",
   "metadata": {
    "tags": []
   },
   "outputs": [],
   "source": [
    "MODEL_ID = \"Salesforce/instructblip-vicuna-7b\"\n",
    "CONFIG_CLASS = transformers.InstructBlipConfig\n",
    "MODEL_CLASS = transformers.InstructBlipForConditionalGeneration\n",
    "PROCESSOR_CLASS = transformers.InstructBlipProcessor"
   ]
  },
  {
   "cell_type": "code",
   "execution_count": null,
   "id": "42d3609d-50cd-4aab-91e3-39b0fb146d25",
   "metadata": {
    "tags": []
   },
   "outputs": [],
   "source": [
    "MODEL_NAME = MODEL_ID.replace(\"/\", \"_\").replace(\" \", \"_\")"
   ]
  },
  {
   "cell_type": "code",
   "execution_count": null,
   "id": "4f77280c-82ca-4b0a-bcd6-523e3a383df3",
   "metadata": {
    "tags": []
   },
   "outputs": [],
   "source": [
    "BASE_DIR = \"/tmp/akshett.jindal\"\n",
    "SUBJECT = 1\n",
    "TO_CACHE = False"
   ]
  },
  {
   "cell_type": "code",
   "execution_count": null,
   "id": "55eab070-d36e-4315-982b-b078feec9abd",
   "metadata": {
    "tags": []
   },
   "outputs": [],
   "source": [
    "import os.path\n",
    "\n",
    "HUGGINGFACE_CACHE_DIR = os.path.join(BASE_DIR, \".huggingface_cache\")\n",
    "OUTPUT_DIR = os.path.join(BASE_DIR, \"image_embeddings\", MODEL_NAME, f\"subject_0{SUBJECT}\")\n",
    "MODEL_CHECKPOINTS_DIR = os.path.join(BASE_DIR, \"cached_models\", MODEL_NAME)"
   ]
  },
  {
   "cell_type": "code",
   "execution_count": null,
   "id": "1115e505-1a12-42ca-bc97-966499a3cdaf",
   "metadata": {
    "tags": []
   },
   "outputs": [],
   "source": [
    "from os import makedirs\n",
    "\n",
    "makedirs(OUTPUT_DIR, exist_ok=True)"
   ]
  },
  {
   "cell_type": "code",
   "execution_count": null,
   "id": "6bfab0b8-4c04-41ec-9078-ff84254df9ec",
   "metadata": {
    "tags": []
   },
   "outputs": [],
   "source": [
    "import torch\n",
    "from accelerate import init_empty_weights, load_checkpoint_and_dispatch"
   ]
  },
  {
   "cell_type": "code",
   "execution_count": null,
   "id": "05321b18-1c6d-447f-b1a1-9cc6968cd177",
   "metadata": {
    "tags": []
   },
   "outputs": [],
   "source": [
    "processor = PROCESSOR_CLASS.from_pretrained(\n",
    "    MODEL_ID,\n",
    "    cache_dir=HUGGINGFACE_CACHE_DIR,\n",
    ")"
   ]
  },
  {
   "cell_type": "code",
   "execution_count": null,
   "id": "557500ab-5b14-4a08-95d9-b066e1816c5e",
   "metadata": {
    "tags": []
   },
   "outputs": [],
   "source": [
    "model_config = CONFIG_CLASS.from_pretrained(MODEL_ID)\n",
    "model_config.output_hidden_states = True\n",
    "model_config.vision_config.output_hidden_states = True\n",
    "model_config.qformer_config.output_hidden_states = True"
   ]
  },
  {
   "cell_type": "code",
   "execution_count": null,
   "id": "25e39f35-b3d2-4808-9f94-1043731cad89",
   "metadata": {
    "tags": []
   },
   "outputs": [],
   "source": [
    "if TO_CACHE:\n",
    "    model = MODEL_CLASS.from_pretrained(\n",
    "        MODEL_ID,\n",
    "        config=model_config,\n",
    "        cache_dir=HUGGINGFACE_CACHE_DIR,\n",
    "    )\n",
    "    model.save_pretrained(MODEL_CHECKPOINTS_DIR)\n",
    "    del model"
   ]
  },
  {
   "cell_type": "code",
   "execution_count": null,
   "id": "3b077b27-ca93-4952-a5e8-6f847d244484",
   "metadata": {
    "tags": []
   },
   "outputs": [],
   "source": [
    "with init_empty_weights():\n",
    "    model = MODEL_CLASS(model_config)\n",
    "\n",
    "model = load_checkpoint_and_dispatch(\n",
    "    model,\n",
    "    checkpoint=MODEL_CHECKPOINTS_DIR,\n",
    "    device_map=\"auto\",\n",
    ")"
   ]
  },
  {
   "cell_type": "code",
   "execution_count": null,
   "id": "d4c1a2e2-0e8b-49d3-a45e-2a326f7662aa",
   "metadata": {
    "tags": []
   },
   "outputs": [],
   "source": [
    "import nsd_dataset.mind_eye_nsd_utils as menutils\n",
    "from datasets import Dataset\n",
    "\n",
    "image_ids, images = menutils.get_subject_images(BASE_DIR, SUBJECT)\n",
    "\n",
    "def data_generator():\n",
    "    for image_id, image in zip(image_ids, images):\n",
    "        yield {\"id\": image_id, \"image\": image}\n",
    "\n",
    "dataset = Dataset.from_generator(data_generator)\n",
    "dataset"
   ]
  },
  {
   "cell_type": "code",
   "execution_count": null,
   "id": "717dc90a-6542-44dd-b5f5-9f3d753f8399",
   "metadata": {
    "tags": []
   },
   "outputs": [],
   "source": [
    "def batch(iterable, n=1):\n",
    "    l = len(iterable)\n",
    "    for ndx in range(0, l, n):\n",
    "        yield iterable[ndx:min(ndx + n, l)]"
   ]
  },
  {
   "cell_type": "code",
   "execution_count": null,
   "id": "830a1721-300a-4634-a231-8bb017e2d00a",
   "metadata": {
    "tags": []
   },
   "outputs": [],
   "source": [
    "BATCH_SIZE = 2"
   ]
  },
  {
   "cell_type": "code",
   "execution_count": null,
   "id": "3e34cdf5-f14a-4492-bb39-648df3a332c8",
   "metadata": {
    "tags": []
   },
   "outputs": [],
   "source": [
    "from collections import OrderedDict\n",
    "\n",
    "def to_cpu(value):\n",
    "    if isinstance(value, torch.Tensor):\n",
    "        return value.cpu()\n",
    "    elif isinstance(value, tuple):\n",
    "        return tuple(to_cpu(v) for v in value)\n",
    "    elif isinstance(value, list):\n",
    "        return list(to_cpu(v) for v in value)\n",
    "    elif isinstance(value, set):\n",
    "        return set(list(to_cpu(v) for v in value))\n",
    "    elif isinstance(value, dict) or isinstance(value, OrderedDict):\n",
    "        return {\n",
    "            k: to_cpu(v)\n",
    "            for k, v in value.items()\n",
    "        }\n",
    "    else:\n",
    "        print('unknown type:', key, value)"
   ]
  },
  {
   "cell_type": "code",
   "execution_count": null,
   "id": "dd75d5bb-17f4-4377-87c4-7e0c9066fe0e",
   "metadata": {
    "tags": []
   },
   "outputs": [],
   "source": [
    "from tqdm.auto import tqdm\n",
    "import pickle\n",
    "import json\n",
    "\n",
    "buffer = []\n",
    "\n",
    "model.eval()\n",
    "\n",
    "with torch.inference_mode():\n",
    "    for batch_num, d in tqdm(enumerate(batch(dataset, n=BATCH_SIZE)), total=len(dataset) // BATCH_SIZE):\n",
    "        inputs = processor(\n",
    "            images=torch.tensor(d[\"image\"]),\n",
    "            text=[PROMPTS[\"instruction\"]] * BATCH_SIZE,\n",
    "            return_tensors=\"pt\",\n",
    "        )\n",
    "\n",
    "        outputs = model(**inputs)\n",
    "        outputs = to_cpu(outputs)\n",
    "\n",
    "        logits = outputs[\"logits\"]\n",
    "        vision_outputs = outputs[\"vision_outputs\"]\n",
    "        qformer_outputs = outputs[\"qformer_outputs\"]\n",
    "        language_model_outputs = outputs[\"language_model_outputs\"]\n",
    "\n",
    "        vision_hidden_states = list(vision_outputs[\"hidden_states\"])\n",
    "        qformer_hidden_states = list(qformer_outputs[\"hidden_states\"])\n",
    "\n",
    "        buffer.append({\n",
    "            \"image_ids\": d[\"id\"],\n",
    "            \"vision_hidden_states\": vision_hidden_states,\n",
    "            \"qformer_hidden_states\": qformer_hidden_states,\n",
    "        })\n",
    "\n",
    "        if len(buffer) == 100:\n",
    "            batch_file = os.path.join(OUTPUT_DIR, f\"batch_{batch_num+1}.pkl\")\n",
    "            with open(batch_file, \"wb\") as f:\n",
    "                pickle.dump(buffer, f)\n",
    "            buffer = []\n",
    "\n",
    "if len(buffer) > 0:\n",
    "    batch_file = os.path.join(OUTPUT_DIR, f\"batch_{batch_num+1}.pkl\")\n",
    "    with open(batch_file, \"wb\") as f:\n",
    "        pickle.dump(buffer, f)"
   ]
  },
  {
   "cell_type": "code",
   "execution_count": null,
   "id": "10e34984-cbda-4b12-9733-d88227ab0641",
   "metadata": {
    "tags": []
   },
   "outputs": [],
   "source": [
    "logits = outputs[\"logits\"]\n",
    "vision_outputs = outputs[\"vision_outputs\"]\n",
    "qformer_outputs = outputs[\"qformer_outputs\"]\n",
    "language_model_outputs = outputs[\"language_model_outputs\"]\n",
    "\n",
    "print(f\"{outputs.keys() = }\")\n",
    "print(f\"{logits.shape = }\")\n",
    "print(f\"{vision_outputs['hidden_states'][0].shape = }\")\n",
    "print(f\"{qformer_outputs.keys() = }\")\n",
    "print(f\"{language_model_outputs.keys() = }\")\n",
    "\n",
    "# hape = torch.Size([1, 257, 1408])"
   ]
  },
  {
   "cell_type": "code",
   "execution_count": null,
   "id": "1b09cdfd-c27e-4dfd-88d8-1b696403a553",
   "metadata": {
    "tags": []
   },
   "outputs": [],
   "source": [
    "import pickle\n",
    "\n",
    "filepath = \"/tmp/akshett.jindal/image_embeddings/Salesforce_instructblip-vicuna-7b/subject_01/batch_100.pkl\"\n",
    "\n",
    "with open(filepath, \"rb\") as f:\n",
    "    output = pickle.load(f)\n",
    "\n",
    "output"
   ]
  },
  {
   "cell_type": "code",
   "execution_count": null,
   "id": "531c828f-77af-46f9-a3cd-f4c19e6b1610",
   "metadata": {
    "tags": []
   },
   "outputs": [],
   "source": [
    "output[0]['vision_hidden_states'][0].shape"
   ]
  },
  {
   "cell_type": "code",
   "execution_count": null,
   "id": "e076851d-ee56-4a68-a6e5-3cfc274156f5",
   "metadata": {
    "tags": []
   },
   "outputs": [],
   "source": [
    "import torch\n",
    "\n",
    "torch.save(output, \"/tmp/akshett.jindal/test.pt\")"
   ]
  }
 ],
 "metadata": {
  "kernelspec": {
   "display_name": "Python 3 (ipykernel)",
   "language": "python",
   "name": "python3"
  },
  "language_info": {
   "codemirror_mode": {
    "name": "ipython",
    "version": 3
   },
   "file_extension": ".py",
   "mimetype": "text/x-python",
   "name": "python",
   "nbconvert_exporter": "python",
   "pygments_lexer": "ipython3",
   "version": "3.10.13"
  }
 },
 "nbformat": 4,
 "nbformat_minor": 5
}
