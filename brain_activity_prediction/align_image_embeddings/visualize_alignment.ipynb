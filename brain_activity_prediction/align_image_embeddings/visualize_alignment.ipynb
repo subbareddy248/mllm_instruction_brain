{
 "cells": [
  {
   "cell_type": "code",
   "execution_count": 1,
   "id": "64aabd83-5e3b-40b6-96d8-2defd737af11",
   "metadata": {
    "tags": []
   },
   "outputs": [],
   "source": [
    "BASE_DIR = \"/tmp/akshett.jindal\""
   ]
  },
  {
   "cell_type": "code",
   "execution_count": 2,
   "id": "95cc75a3-85d2-4ab9-9ef5-c3c70d828dcf",
   "metadata": {
    "tags": []
   },
   "outputs": [],
   "source": [
    "MODEL_IDS = [\n",
    "    \"google/vit-huge-patch14-224-in21k\",\n",
    "    \"Salesforce/instructblip-vicuna-13b\",\n",
    "    \"HuggingFaceM4/idefics-9b-instruct\",\n",
    "    \"llava-hf/llava-1.5-13b-hf\",\n",
    "    \"MAGAer13/mplug-owl-llama-7b\",\n",
    "    \"openflamingo/OpenFlamingo-9B-vitl-mpt7b\",\n",
    "]\n",
    "SUBJECTS = [1, 2, 5, 7]\n",
    "PROMPT_NUMBER = 1"
   ]
  },
  {
   "cell_type": "code",
   "execution_count": 3,
   "id": "8bd916ff-9470-417f-b94e-648928a9793b",
   "metadata": {
    "tags": []
   },
   "outputs": [],
   "source": [
    "ROIS = [\n",
    "    \"HCP_MMP1\",\n",
    "    \"floc-bodies\",\n",
    "    \"floc-faces\",\n",
    "    \"floc-places\",\n",
    "    \"floc-words\",\n",
    "    \"prf-eccrois\",\n",
    "    \"prf-visualrois\",\n",
    "]\n",
    "METRICS = [\"r2\", \"pearson\"]"
   ]
  },
  {
   "cell_type": "code",
   "execution_count": 4,
   "id": "8446d339-c6b3-4e1f-b9ec-36981acc9577",
   "metadata": {
    "tags": []
   },
   "outputs": [
    {
     "data": {
      "text/html": [
       "<div>\n",
       "<style scoped>\n",
       "    .dataframe tbody tr th:only-of-type {\n",
       "        vertical-align: middle;\n",
       "    }\n",
       "\n",
       "    .dataframe tbody tr th {\n",
       "        vertical-align: top;\n",
       "    }\n",
       "\n",
       "    .dataframe thead th {\n",
       "        text-align: right;\n",
       "    }\n",
       "</style>\n",
       "<table border=\"1\" class=\"dataframe\">\n",
       "  <thead>\n",
       "    <tr style=\"text-align: right;\">\n",
       "      <th></th>\n",
       "      <th>model_id</th>\n",
       "      <th>subject</th>\n",
       "      <th>hidden_state_name</th>\n",
       "      <th>roi</th>\n",
       "      <th>r2</th>\n",
       "      <th>pearson</th>\n",
       "    </tr>\n",
       "  </thead>\n",
       "  <tbody>\n",
       "    <tr>\n",
       "      <th>0</th>\n",
       "      <td>google/vit-huge-patch14-224-in21k</td>\n",
       "      <td>1</td>\n",
       "      <td>hidden_states</td>\n",
       "      <td>HCP_MMP1</td>\n",
       "      <td>0.056795</td>\n",
       "      <td>0.150690</td>\n",
       "    </tr>\n",
       "    <tr>\n",
       "      <th>1</th>\n",
       "      <td>google/vit-huge-patch14-224-in21k</td>\n",
       "      <td>1</td>\n",
       "      <td>hidden_states</td>\n",
       "      <td>floc-bodies</td>\n",
       "      <td>0.127339</td>\n",
       "      <td>0.286457</td>\n",
       "    </tr>\n",
       "    <tr>\n",
       "      <th>2</th>\n",
       "      <td>google/vit-huge-patch14-224-in21k</td>\n",
       "      <td>1</td>\n",
       "      <td>hidden_states</td>\n",
       "      <td>floc-faces</td>\n",
       "      <td>0.068811</td>\n",
       "      <td>0.231604</td>\n",
       "    </tr>\n",
       "    <tr>\n",
       "      <th>3</th>\n",
       "      <td>google/vit-huge-patch14-224-in21k</td>\n",
       "      <td>1</td>\n",
       "      <td>hidden_states</td>\n",
       "      <td>floc-places</td>\n",
       "      <td>0.115491</td>\n",
       "      <td>0.305894</td>\n",
       "    </tr>\n",
       "    <tr>\n",
       "      <th>4</th>\n",
       "      <td>google/vit-huge-patch14-224-in21k</td>\n",
       "      <td>1</td>\n",
       "      <td>hidden_states</td>\n",
       "      <td>floc-words</td>\n",
       "      <td>0.049376</td>\n",
       "      <td>0.200116</td>\n",
       "    </tr>\n",
       "    <tr>\n",
       "      <th>...</th>\n",
       "      <td>...</td>\n",
       "      <td>...</td>\n",
       "      <td>...</td>\n",
       "      <td>...</td>\n",
       "      <td>...</td>\n",
       "      <td>...</td>\n",
       "    </tr>\n",
       "    <tr>\n",
       "      <th>219</th>\n",
       "      <td>openflamingo/OpenFlamingo-9B-vitl-mpt7b</td>\n",
       "      <td>7</td>\n",
       "      <td>hidden_states</td>\n",
       "      <td>floc-faces</td>\n",
       "      <td>0.083737</td>\n",
       "      <td>0.271536</td>\n",
       "    </tr>\n",
       "    <tr>\n",
       "      <th>220</th>\n",
       "      <td>openflamingo/OpenFlamingo-9B-vitl-mpt7b</td>\n",
       "      <td>7</td>\n",
       "      <td>hidden_states</td>\n",
       "      <td>floc-places</td>\n",
       "      <td>0.105720</td>\n",
       "      <td>0.334394</td>\n",
       "    </tr>\n",
       "    <tr>\n",
       "      <th>221</th>\n",
       "      <td>openflamingo/OpenFlamingo-9B-vitl-mpt7b</td>\n",
       "      <td>7</td>\n",
       "      <td>hidden_states</td>\n",
       "      <td>floc-words</td>\n",
       "      <td>0.036584</td>\n",
       "      <td>0.186436</td>\n",
       "    </tr>\n",
       "    <tr>\n",
       "      <th>222</th>\n",
       "      <td>openflamingo/OpenFlamingo-9B-vitl-mpt7b</td>\n",
       "      <td>7</td>\n",
       "      <td>hidden_states</td>\n",
       "      <td>prf-eccrois</td>\n",
       "      <td>0.011300</td>\n",
       "      <td>0.117465</td>\n",
       "    </tr>\n",
       "    <tr>\n",
       "      <th>223</th>\n",
       "      <td>openflamingo/OpenFlamingo-9B-vitl-mpt7b</td>\n",
       "      <td>7</td>\n",
       "      <td>hidden_states</td>\n",
       "      <td>prf-visualrois</td>\n",
       "      <td>0.047944</td>\n",
       "      <td>0.218773</td>\n",
       "    </tr>\n",
       "  </tbody>\n",
       "</table>\n",
       "<p>224 rows × 6 columns</p>\n",
       "</div>"
      ],
      "text/plain": [
       "                                    model_id  subject hidden_state_name  \\\n",
       "0          google/vit-huge-patch14-224-in21k        1     hidden_states   \n",
       "1          google/vit-huge-patch14-224-in21k        1     hidden_states   \n",
       "2          google/vit-huge-patch14-224-in21k        1     hidden_states   \n",
       "3          google/vit-huge-patch14-224-in21k        1     hidden_states   \n",
       "4          google/vit-huge-patch14-224-in21k        1     hidden_states   \n",
       "..                                       ...      ...               ...   \n",
       "219  openflamingo/OpenFlamingo-9B-vitl-mpt7b        7     hidden_states   \n",
       "220  openflamingo/OpenFlamingo-9B-vitl-mpt7b        7     hidden_states   \n",
       "221  openflamingo/OpenFlamingo-9B-vitl-mpt7b        7     hidden_states   \n",
       "222  openflamingo/OpenFlamingo-9B-vitl-mpt7b        7     hidden_states   \n",
       "223  openflamingo/OpenFlamingo-9B-vitl-mpt7b        7     hidden_states   \n",
       "\n",
       "                roi        r2   pearson  \n",
       "0          HCP_MMP1  0.056795  0.150690  \n",
       "1       floc-bodies  0.127339  0.286457  \n",
       "2        floc-faces  0.068811  0.231604  \n",
       "3       floc-places  0.115491  0.305894  \n",
       "4        floc-words  0.049376  0.200116  \n",
       "..              ...       ...       ...  \n",
       "219      floc-faces  0.083737  0.271536  \n",
       "220     floc-places  0.105720  0.334394  \n",
       "221      floc-words  0.036584  0.186436  \n",
       "222     prf-eccrois  0.011300  0.117465  \n",
       "223  prf-visualrois  0.047944  0.218773  \n",
       "\n",
       "[224 rows x 6 columns]"
      ]
     },
     "execution_count": 4,
     "metadata": {},
     "output_type": "execute_result"
    }
   ],
   "source": [
    "import os.path\n",
    "import pandas\n",
    "import pickle\n",
    "\n",
    "rows = []\n",
    "\n",
    "for model_id in MODEL_IDS:\n",
    "\n",
    "    for subject in SUBJECTS:\n",
    "        model_name = model_id.replace(\"/\", \"_\").replace(\" \", \"_\")\n",
    "\n",
    "        scores_dir = os.path.join(BASE_DIR, \"final_scores\", f\"prompt_{PROMPT_NUMBER}\", model_name, f\"subj{subject:02}\")\n",
    "\n",
    "        # trn_scores_filepath = os.path.join(scores_dir, \"training.pkl\")\n",
    "        val_scores_filepath = os.path.join(scores_dir, \"validation.pkl\")\n",
    "\n",
    "        # with open(trn_scores_filepath, \"rb\") as f:\n",
    "        #     trn_scores = pickle.load(f)\n",
    "        with open(val_scores_filepath, \"rb\") as f:\n",
    "            val_scores = pickle.load(f)\n",
    "\n",
    "        # for hs_name, hs_scores in trn_scores.items():\n",
    "        #     print(tabulate_scores(hs_name, hs_scores, False))\n",
    "        #     print(f\"MODEL='{model_id}' => {hs_name}, SUBJECT={subject}\")\n",
    "        #     print()\n",
    "\n",
    "        for hs_name, hs_scores in val_scores.items():\n",
    "            for roi in ROIS:\n",
    "                row = {\n",
    "                    \"model_id\": model_id,\n",
    "                    \"subject\": subject,\n",
    "                    \"hidden_state_name\": hs_name,\n",
    "                    \"roi\": roi,\n",
    "                }\n",
    "                for metric in METRICS:\n",
    "                    row[metric] = hs_scores[metric][roi]\n",
    "                    # print(f\"{metric = }, {row[metric] = }\")\n",
    "\n",
    "                rows.append(row)\n",
    "\n",
    "df_data = {\n",
    "    key: [r[key] for r in rows]\n",
    "    for key in rows[0].keys()\n",
    "}\n",
    "\n",
    "df = pandas.DataFrame(data=df_data)\n",
    "df"
   ]
  },
  {
   "cell_type": "code",
   "execution_count": 5,
   "id": "57608e32-155e-43ef-8ae3-e84be6e19a81",
   "metadata": {
    "tags": []
   },
   "outputs": [
    {
     "data": {
      "text/plain": [
       "False"
      ]
     },
     "execution_count": 5,
     "metadata": {},
     "output_type": "execute_result"
    }
   ],
   "source": [
    "import numpy as np\n",
    "\n",
    "np.isnan(df[(df[\"model_id\"] == \"Salesforce/instructblip-vicuna-13b\") & (df[\"roi\"] == \"floc-places\") & (df[\"subject\"] == 1) & (df[\"hidden_state_name\"] == \"qformer_hidden_states\")][\"r2\"].values[0])"
   ]
  },
  {
   "cell_type": "code",
   "execution_count": 7,
   "id": "edd55203-795a-4951-a808-986619e3d764",
   "metadata": {
    "tags": []
   },
   "outputs": [
    {
     "data": {
      "application/vnd.plotly.v1+json": {
       "config": {
        "plotlyServerURL": "https://plot.ly"
       },
       "data": [
        {
         "error_y": {
          "array": [
           0.009079467505216599,
           0.008273052051663399,
           0.021409377455711365,
           0.017509007826447487,
           0.015607565641403198,
           0.007924340665340424,
           0.020149623975157738
          ],
          "type": "data"
         },
         "name": "google/vit-huge-patch14-224-in21k : hidden_states",
         "type": "bar",
         "x": [
          "HCP_MMP1",
          "floc-bodies",
          "floc-faces",
          "floc-places",
          "floc-words",
          "prf-eccrois",
          "prf-visualrois"
         ],
         "y": [
          0.06272639334201813,
          0.10714538395404816,
          0.0889357179403305,
          0.1356399953365326,
          0.0612812340259552,
          0.036583565175533295,
          0.15771125257015228
         ]
        },
        {
         "error_y": {
          "array": [
           0.008507637307047844,
           0.011982415802776814,
           0.03221677616238594,
           0.019977005198597908,
           0.023520812392234802,
           0.008162644691765308,
           0.018218958750367165
          ],
          "type": "data"
         },
         "name": "Salesforce/instructblip-vicuna-13b : qformer_hidden_states",
         "type": "bar",
         "x": [
          "HCP_MMP1",
          "floc-bodies",
          "floc-faces",
          "floc-places",
          "floc-words",
          "prf-eccrois",
          "prf-visualrois"
         ],
         "y": [
          0.03995085880160332,
          0.14279292523860931,
          0.10354705154895782,
          0.15608420968055725,
          0.07096417248249054,
          0.031302761286497116,
          0.09762967377901077
         ]
        },
        {
         "error_y": {
          "array": [
           0.009551484137773514,
           0.010746189393103123,
           0.027991289272904396,
           0.019282540306448936,
           0.021095074713230133,
           0.00863628275692463,
           0.0203609187155962
          ],
          "type": "data"
         },
         "name": "Salesforce/instructblip-vicuna-13b : vision_hidden_states",
         "type": "bar",
         "x": [
          "HCP_MMP1",
          "floc-bodies",
          "floc-faces",
          "floc-places",
          "floc-words",
          "prf-eccrois",
          "prf-visualrois"
         ],
         "y": [
          0.060611240565776825,
          0.13235491514205933,
          0.10693477839231491,
          0.15675193071365356,
          0.07577769458293915,
          0.041622281074523926,
          0.15254221856594086
         ]
        },
        {
         "error_y": {
          "array": [
           0.007461175788193941,
           0.011600317433476448,
           0.03206026926636696,
           0.01898398995399475,
           0.024072499945759773,
           0.00870856549590826,
           0.016674688085913658
          ],
          "type": "data"
         },
         "name": "HuggingFaceM4/idefics-9b-instruct : hidden_states",
         "type": "bar",
         "x": [
          "HCP_MMP1",
          "floc-bodies",
          "floc-faces",
          "floc-places",
          "floc-words",
          "prf-eccrois",
          "prf-visualrois"
         ],
         "y": [
          0.03437560051679611,
          0.13626711070537567,
          0.09773162007331848,
          0.14906586706638336,
          0.06640379130840302,
          0.028118077665567398,
          0.08549446612596512
         ]
        },
        {
         "error_y": {
          "array": [
           0.009399627335369587,
           0.01282443106174469,
           0.03198546916246414,
           0.019718479365110397,
           0.022925904020667076,
           0.0073239426128566265,
           0.01899370178580284
          ],
          "type": "data"
         },
         "name": "llava-hf/llava-1.5-13b-hf : hidden_states",
         "type": "bar",
         "x": [
          "HCP_MMP1",
          "floc-bodies",
          "floc-faces",
          "floc-places",
          "floc-words",
          "prf-eccrois",
          "prf-visualrois"
         ],
         "y": [
          0.060544341802597046,
          0.15230602025985718,
          0.11810047179460526,
          0.1746726930141449,
          0.082262322306633,
          0.037315402179956436,
          0.1518726944923401
         ]
        },
        {
         "error_y": {
          "array": [
           0.008919931948184967,
           0.00906058307737112,
           0.0251831766217947,
           0.01808071881532669,
           0.018590083345770836,
           0.00709276320412755,
           0.020365826785564423
          ],
          "type": "data"
         },
         "name": "MAGAer13/mplug-owl-llama-7b : vision_hidden_states",
         "type": "bar",
         "x": [
          "HCP_MMP1",
          "floc-bodies",
          "floc-faces",
          "floc-places",
          "floc-words",
          "prf-eccrois",
          "prf-visualrois"
         ],
         "y": [
          0.05345847085118294,
          0.11457141488790512,
          0.0896444171667099,
          0.13715218007564545,
          0.06121380627155304,
          0.03383026644587517,
          0.13631151616573334
         ]
        },
        {
         "error_y": {
          "array": [
           0.007679492700845003,
           0.013177397660911083,
           0.033772390335798264,
           0.02122160978615284,
           0.023948512971401215,
           0.008065822534263134,
           0.01674293540418148
          ],
          "type": "data"
         },
         "name": "MAGAer13/mplug-owl-llama-7b : language_hidden_states",
         "type": "bar",
         "x": [
          "HCP_MMP1",
          "floc-bodies",
          "floc-faces",
          "floc-places",
          "floc-words",
          "prf-eccrois",
          "prf-visualrois"
         ],
         "y": [
          0.036637742072343826,
          0.14611205458641052,
          0.10285342484712601,
          0.15726740658283234,
          0.06700065732002258,
          0.027108099311590195,
          0.090522900223732
         ]
        },
        {
         "error_y": {
          "array": [
           0.00558858085423708,
           0.010028401389718056,
           0.026112167164683342,
           0.01676924340426922,
           0.01843242160975933,
           0.00647081108763814,
           0.012227301485836506
          ],
          "type": "data"
         },
         "name": "openflamingo/OpenFlamingo-9B-vitl-mpt7b : hidden_states",
         "type": "bar",
         "x": [
          "HCP_MMP1",
          "floc-bodies",
          "floc-faces",
          "floc-places",
          "floc-words",
          "prf-eccrois",
          "prf-visualrois"
         ],
         "y": [
          0.026569681242108345,
          0.11629247665405273,
          0.08098320662975311,
          0.12493665516376495,
          0.0520949587225914,
          0.02076745219528675,
          0.06476929783821106
         ]
        }
       ],
       "layout": {
        "autosize": true,
        "barmode": "group",
        "template": {
         "data": {
          "bar": [
           {
            "error_x": {
             "color": "#2a3f5f"
            },
            "error_y": {
             "color": "#2a3f5f"
            },
            "marker": {
             "line": {
              "color": "#E5ECF6",
              "width": 0.5
             },
             "pattern": {
              "fillmode": "overlay",
              "size": 10,
              "solidity": 0.2
             }
            },
            "type": "bar"
           }
          ],
          "barpolar": [
           {
            "marker": {
             "line": {
              "color": "#E5ECF6",
              "width": 0.5
             },
             "pattern": {
              "fillmode": "overlay",
              "size": 10,
              "solidity": 0.2
             }
            },
            "type": "barpolar"
           }
          ],
          "carpet": [
           {
            "aaxis": {
             "endlinecolor": "#2a3f5f",
             "gridcolor": "white",
             "linecolor": "white",
             "minorgridcolor": "white",
             "startlinecolor": "#2a3f5f"
            },
            "baxis": {
             "endlinecolor": "#2a3f5f",
             "gridcolor": "white",
             "linecolor": "white",
             "minorgridcolor": "white",
             "startlinecolor": "#2a3f5f"
            },
            "type": "carpet"
           }
          ],
          "choropleth": [
           {
            "colorbar": {
             "outlinewidth": 0,
             "ticks": ""
            },
            "type": "choropleth"
           }
          ],
          "contour": [
           {
            "colorbar": {
             "outlinewidth": 0,
             "ticks": ""
            },
            "colorscale": [
             [
              0,
              "#0d0887"
             ],
             [
              0.1111111111111111,
              "#46039f"
             ],
             [
              0.2222222222222222,
              "#7201a8"
             ],
             [
              0.3333333333333333,
              "#9c179e"
             ],
             [
              0.4444444444444444,
              "#bd3786"
             ],
             [
              0.5555555555555556,
              "#d8576b"
             ],
             [
              0.6666666666666666,
              "#ed7953"
             ],
             [
              0.7777777777777778,
              "#fb9f3a"
             ],
             [
              0.8888888888888888,
              "#fdca26"
             ],
             [
              1,
              "#f0f921"
             ]
            ],
            "type": "contour"
           }
          ],
          "contourcarpet": [
           {
            "colorbar": {
             "outlinewidth": 0,
             "ticks": ""
            },
            "type": "contourcarpet"
           }
          ],
          "heatmap": [
           {
            "colorbar": {
             "outlinewidth": 0,
             "ticks": ""
            },
            "colorscale": [
             [
              0,
              "#0d0887"
             ],
             [
              0.1111111111111111,
              "#46039f"
             ],
             [
              0.2222222222222222,
              "#7201a8"
             ],
             [
              0.3333333333333333,
              "#9c179e"
             ],
             [
              0.4444444444444444,
              "#bd3786"
             ],
             [
              0.5555555555555556,
              "#d8576b"
             ],
             [
              0.6666666666666666,
              "#ed7953"
             ],
             [
              0.7777777777777778,
              "#fb9f3a"
             ],
             [
              0.8888888888888888,
              "#fdca26"
             ],
             [
              1,
              "#f0f921"
             ]
            ],
            "type": "heatmap"
           }
          ],
          "heatmapgl": [
           {
            "colorbar": {
             "outlinewidth": 0,
             "ticks": ""
            },
            "colorscale": [
             [
              0,
              "#0d0887"
             ],
             [
              0.1111111111111111,
              "#46039f"
             ],
             [
              0.2222222222222222,
              "#7201a8"
             ],
             [
              0.3333333333333333,
              "#9c179e"
             ],
             [
              0.4444444444444444,
              "#bd3786"
             ],
             [
              0.5555555555555556,
              "#d8576b"
             ],
             [
              0.6666666666666666,
              "#ed7953"
             ],
             [
              0.7777777777777778,
              "#fb9f3a"
             ],
             [
              0.8888888888888888,
              "#fdca26"
             ],
             [
              1,
              "#f0f921"
             ]
            ],
            "type": "heatmapgl"
           }
          ],
          "histogram": [
           {
            "marker": {
             "pattern": {
              "fillmode": "overlay",
              "size": 10,
              "solidity": 0.2
             }
            },
            "type": "histogram"
           }
          ],
          "histogram2d": [
           {
            "colorbar": {
             "outlinewidth": 0,
             "ticks": ""
            },
            "colorscale": [
             [
              0,
              "#0d0887"
             ],
             [
              0.1111111111111111,
              "#46039f"
             ],
             [
              0.2222222222222222,
              "#7201a8"
             ],
             [
              0.3333333333333333,
              "#9c179e"
             ],
             [
              0.4444444444444444,
              "#bd3786"
             ],
             [
              0.5555555555555556,
              "#d8576b"
             ],
             [
              0.6666666666666666,
              "#ed7953"
             ],
             [
              0.7777777777777778,
              "#fb9f3a"
             ],
             [
              0.8888888888888888,
              "#fdca26"
             ],
             [
              1,
              "#f0f921"
             ]
            ],
            "type": "histogram2d"
           }
          ],
          "histogram2dcontour": [
           {
            "colorbar": {
             "outlinewidth": 0,
             "ticks": ""
            },
            "colorscale": [
             [
              0,
              "#0d0887"
             ],
             [
              0.1111111111111111,
              "#46039f"
             ],
             [
              0.2222222222222222,
              "#7201a8"
             ],
             [
              0.3333333333333333,
              "#9c179e"
             ],
             [
              0.4444444444444444,
              "#bd3786"
             ],
             [
              0.5555555555555556,
              "#d8576b"
             ],
             [
              0.6666666666666666,
              "#ed7953"
             ],
             [
              0.7777777777777778,
              "#fb9f3a"
             ],
             [
              0.8888888888888888,
              "#fdca26"
             ],
             [
              1,
              "#f0f921"
             ]
            ],
            "type": "histogram2dcontour"
           }
          ],
          "mesh3d": [
           {
            "colorbar": {
             "outlinewidth": 0,
             "ticks": ""
            },
            "type": "mesh3d"
           }
          ],
          "parcoords": [
           {
            "line": {
             "colorbar": {
              "outlinewidth": 0,
              "ticks": ""
             }
            },
            "type": "parcoords"
           }
          ],
          "pie": [
           {
            "automargin": true,
            "type": "pie"
           }
          ],
          "scatter": [
           {
            "fillpattern": {
             "fillmode": "overlay",
             "size": 10,
             "solidity": 0.2
            },
            "type": "scatter"
           }
          ],
          "scatter3d": [
           {
            "line": {
             "colorbar": {
              "outlinewidth": 0,
              "ticks": ""
             }
            },
            "marker": {
             "colorbar": {
              "outlinewidth": 0,
              "ticks": ""
             }
            },
            "type": "scatter3d"
           }
          ],
          "scattercarpet": [
           {
            "marker": {
             "colorbar": {
              "outlinewidth": 0,
              "ticks": ""
             }
            },
            "type": "scattercarpet"
           }
          ],
          "scattergeo": [
           {
            "marker": {
             "colorbar": {
              "outlinewidth": 0,
              "ticks": ""
             }
            },
            "type": "scattergeo"
           }
          ],
          "scattergl": [
           {
            "marker": {
             "colorbar": {
              "outlinewidth": 0,
              "ticks": ""
             }
            },
            "type": "scattergl"
           }
          ],
          "scattermapbox": [
           {
            "marker": {
             "colorbar": {
              "outlinewidth": 0,
              "ticks": ""
             }
            },
            "type": "scattermapbox"
           }
          ],
          "scatterpolar": [
           {
            "marker": {
             "colorbar": {
              "outlinewidth": 0,
              "ticks": ""
             }
            },
            "type": "scatterpolar"
           }
          ],
          "scatterpolargl": [
           {
            "marker": {
             "colorbar": {
              "outlinewidth": 0,
              "ticks": ""
             }
            },
            "type": "scatterpolargl"
           }
          ],
          "scatterternary": [
           {
            "marker": {
             "colorbar": {
              "outlinewidth": 0,
              "ticks": ""
             }
            },
            "type": "scatterternary"
           }
          ],
          "surface": [
           {
            "colorbar": {
             "outlinewidth": 0,
             "ticks": ""
            },
            "colorscale": [
             [
              0,
              "#0d0887"
             ],
             [
              0.1111111111111111,
              "#46039f"
             ],
             [
              0.2222222222222222,
              "#7201a8"
             ],
             [
              0.3333333333333333,
              "#9c179e"
             ],
             [
              0.4444444444444444,
              "#bd3786"
             ],
             [
              0.5555555555555556,
              "#d8576b"
             ],
             [
              0.6666666666666666,
              "#ed7953"
             ],
             [
              0.7777777777777778,
              "#fb9f3a"
             ],
             [
              0.8888888888888888,
              "#fdca26"
             ],
             [
              1,
              "#f0f921"
             ]
            ],
            "type": "surface"
           }
          ],
          "table": [
           {
            "cells": {
             "fill": {
              "color": "#EBF0F8"
             },
             "line": {
              "color": "white"
             }
            },
            "header": {
             "fill": {
              "color": "#C8D4E3"
             },
             "line": {
              "color": "white"
             }
            },
            "type": "table"
           }
          ]
         },
         "layout": {
          "annotationdefaults": {
           "arrowcolor": "#2a3f5f",
           "arrowhead": 0,
           "arrowwidth": 1
          },
          "autotypenumbers": "strict",
          "coloraxis": {
           "colorbar": {
            "outlinewidth": 0,
            "ticks": ""
           }
          },
          "colorscale": {
           "diverging": [
            [
             0,
             "#8e0152"
            ],
            [
             0.1,
             "#c51b7d"
            ],
            [
             0.2,
             "#de77ae"
            ],
            [
             0.3,
             "#f1b6da"
            ],
            [
             0.4,
             "#fde0ef"
            ],
            [
             0.5,
             "#f7f7f7"
            ],
            [
             0.6,
             "#e6f5d0"
            ],
            [
             0.7,
             "#b8e186"
            ],
            [
             0.8,
             "#7fbc41"
            ],
            [
             0.9,
             "#4d9221"
            ],
            [
             1,
             "#276419"
            ]
           ],
           "sequential": [
            [
             0,
             "#0d0887"
            ],
            [
             0.1111111111111111,
             "#46039f"
            ],
            [
             0.2222222222222222,
             "#7201a8"
            ],
            [
             0.3333333333333333,
             "#9c179e"
            ],
            [
             0.4444444444444444,
             "#bd3786"
            ],
            [
             0.5555555555555556,
             "#d8576b"
            ],
            [
             0.6666666666666666,
             "#ed7953"
            ],
            [
             0.7777777777777778,
             "#fb9f3a"
            ],
            [
             0.8888888888888888,
             "#fdca26"
            ],
            [
             1,
             "#f0f921"
            ]
           ],
           "sequentialminus": [
            [
             0,
             "#0d0887"
            ],
            [
             0.1111111111111111,
             "#46039f"
            ],
            [
             0.2222222222222222,
             "#7201a8"
            ],
            [
             0.3333333333333333,
             "#9c179e"
            ],
            [
             0.4444444444444444,
             "#bd3786"
            ],
            [
             0.5555555555555556,
             "#d8576b"
            ],
            [
             0.6666666666666666,
             "#ed7953"
            ],
            [
             0.7777777777777778,
             "#fb9f3a"
            ],
            [
             0.8888888888888888,
             "#fdca26"
            ],
            [
             1,
             "#f0f921"
            ]
           ]
          },
          "colorway": [
           "#636efa",
           "#EF553B",
           "#00cc96",
           "#ab63fa",
           "#FFA15A",
           "#19d3f3",
           "#FF6692",
           "#B6E880",
           "#FF97FF",
           "#FECB52"
          ],
          "font": {
           "color": "#2a3f5f"
          },
          "geo": {
           "bgcolor": "white",
           "lakecolor": "white",
           "landcolor": "#E5ECF6",
           "showlakes": true,
           "showland": true,
           "subunitcolor": "white"
          },
          "hoverlabel": {
           "align": "left"
          },
          "hovermode": "closest",
          "mapbox": {
           "style": "light"
          },
          "paper_bgcolor": "white",
          "plot_bgcolor": "#E5ECF6",
          "polar": {
           "angularaxis": {
            "gridcolor": "white",
            "linecolor": "white",
            "ticks": ""
           },
           "bgcolor": "#E5ECF6",
           "radialaxis": {
            "gridcolor": "white",
            "linecolor": "white",
            "ticks": ""
           }
          },
          "scene": {
           "xaxis": {
            "backgroundcolor": "#E5ECF6",
            "gridcolor": "white",
            "gridwidth": 2,
            "linecolor": "white",
            "showbackground": true,
            "ticks": "",
            "zerolinecolor": "white"
           },
           "yaxis": {
            "backgroundcolor": "#E5ECF6",
            "gridcolor": "white",
            "gridwidth": 2,
            "linecolor": "white",
            "showbackground": true,
            "ticks": "",
            "zerolinecolor": "white"
           },
           "zaxis": {
            "backgroundcolor": "#E5ECF6",
            "gridcolor": "white",
            "gridwidth": 2,
            "linecolor": "white",
            "showbackground": true,
            "ticks": "",
            "zerolinecolor": "white"
           }
          },
          "shapedefaults": {
           "line": {
            "color": "#2a3f5f"
           }
          },
          "ternary": {
           "aaxis": {
            "gridcolor": "white",
            "linecolor": "white",
            "ticks": ""
           },
           "baxis": {
            "gridcolor": "white",
            "linecolor": "white",
            "ticks": ""
           },
           "bgcolor": "#E5ECF6",
           "caxis": {
            "gridcolor": "white",
            "linecolor": "white",
            "ticks": ""
           }
          },
          "title": {
           "x": 0.05
          },
          "xaxis": {
           "automargin": true,
           "gridcolor": "white",
           "linecolor": "white",
           "ticks": "",
           "title": {
            "standoff": 15
           },
           "zerolinecolor": "white",
           "zerolinewidth": 2
          },
          "yaxis": {
           "automargin": true,
           "gridcolor": "white",
           "linecolor": "white",
           "ticks": "",
           "title": {
            "standoff": 15
           },
           "zerolinecolor": "white",
           "zerolinewidth": 2
          }
         }
        },
        "title": {
         "text": "Metric: r2"
        },
        "xaxis": {
         "autorange": true,
         "range": [
          -0.5,
          6.5
         ],
         "tickangle": -45,
         "type": "category"
        },
        "yaxis": {
         "autorange": true,
         "range": [
          0,
          0.20462228671500557
         ],
         "type": "linear"
        }
       }
      },
      "image/png": "[encoded data removed]",
      "text/html": [
       "<div>                            <div id=\"22f77ff3-8886-42fe-937f-77f2a3ed1f9a\" class=\"plotly-graph-div\" style=\"height:525px; width:100%;\"></div>            <script type=\"text/javascript\">                require([\"plotly\"], function(Plotly) {                    window.PLOTLYENV=window.PLOTLYENV || {};                                    if (document.getElementById(\"22f77ff3-8886-42fe-937f-77f2a3ed1f9a\")) {                    Plotly.newPlot(                        \"22f77ff3-8886-42fe-937f-77f2a3ed1f9a\",                        [{\"error_y\":{\"array\":[0.009079467505216599,0.008273052051663399,0.021409377455711365,0.017509007826447487,0.015607565641403198,0.007924340665340424,0.020149623975157738],\"type\":\"data\"},\"name\":\"google\\u002fvit-huge-patch14-224-in21k : hidden_states\",\"x\":[\"HCP_MMP1\",\"floc-bodies\",\"floc-faces\",\"floc-places\",\"floc-words\",\"prf-eccrois\",\"prf-visualrois\"],\"y\":[0.06272639334201813,0.10714538395404816,0.0889357179403305,0.1356399953365326,0.0612812340259552,0.036583565175533295,0.15771125257015228],\"type\":\"bar\"},{\"error_y\":{\"array\":[0.008507637307047844,0.011982415802776814,0.03221677616238594,0.019977005198597908,0.023520812392234802,0.008162644691765308,0.018218958750367165],\"type\":\"data\"},\"name\":\"Salesforce\\u002finstructblip-vicuna-13b : qformer_hidden_states\",\"x\":[\"HCP_MMP1\",\"floc-bodies\",\"floc-faces\",\"floc-places\",\"floc-words\",\"prf-eccrois\",\"prf-visualrois\"],\"y\":[0.03995085880160332,0.14279292523860931,0.10354705154895782,0.15608420968055725,0.07096417248249054,0.031302761286497116,0.09762967377901077],\"type\":\"bar\"},{\"error_y\":{\"array\":[0.009551484137773514,0.010746189393103123,0.027991289272904396,0.019282540306448936,0.021095074713230133,0.00863628275692463,0.0203609187155962],\"type\":\"data\"},\"name\":\"Salesforce\\u002finstructblip-vicuna-13b : vision_hidden_states\",\"x\":[\"HCP_MMP1\",\"floc-bodies\",\"floc-faces\",\"floc-places\",\"floc-words\",\"prf-eccrois\",\"prf-visualrois\"],\"y\":[0.060611240565776825,0.13235491514205933,0.10693477839231491,0.15675193071365356,0.07577769458293915,0.041622281074523926,0.15254221856594086],\"type\":\"bar\"},{\"error_y\":{\"array\":[0.007461175788193941,0.011600317433476448,0.03206026926636696,0.01898398995399475,0.024072499945759773,0.00870856549590826,0.016674688085913658],\"type\":\"data\"},\"name\":\"HuggingFaceM4\\u002fidefics-9b-instruct : hidden_states\",\"x\":[\"HCP_MMP1\",\"floc-bodies\",\"floc-faces\",\"floc-places\",\"floc-words\",\"prf-eccrois\",\"prf-visualrois\"],\"y\":[0.03437560051679611,0.13626711070537567,0.09773162007331848,0.14906586706638336,0.06640379130840302,0.028118077665567398,0.08549446612596512],\"type\":\"bar\"},{\"error_y\":{\"array\":[0.009399627335369587,0.01282443106174469,0.03198546916246414,0.019718479365110397,0.022925904020667076,0.0073239426128566265,0.01899370178580284],\"type\":\"data\"},\"name\":\"llava-hf\\u002fllava-1.5-13b-hf : hidden_states\",\"x\":[\"HCP_MMP1\",\"floc-bodies\",\"floc-faces\",\"floc-places\",\"floc-words\",\"prf-eccrois\",\"prf-visualrois\"],\"y\":[0.060544341802597046,0.15230602025985718,0.11810047179460526,0.1746726930141449,0.082262322306633,0.037315402179956436,0.1518726944923401],\"type\":\"bar\"},{\"error_y\":{\"array\":[0.008919931948184967,0.00906058307737112,0.0251831766217947,0.01808071881532669,0.018590083345770836,0.00709276320412755,0.020365826785564423],\"type\":\"data\"},\"name\":\"MAGAer13\\u002fmplug-owl-llama-7b : vision_hidden_states\",\"x\":[\"HCP_MMP1\",\"floc-bodies\",\"floc-faces\",\"floc-places\",\"floc-words\",\"prf-eccrois\",\"prf-visualrois\"],\"y\":[0.05345847085118294,0.11457141488790512,0.0896444171667099,0.13715218007564545,0.06121380627155304,0.03383026644587517,0.13631151616573334],\"type\":\"bar\"},{\"error_y\":{\"array\":[0.007679492700845003,0.013177397660911083,0.033772390335798264,0.02122160978615284,0.023948512971401215,0.008065822534263134,0.01674293540418148],\"type\":\"data\"},\"name\":\"MAGAer13\\u002fmplug-owl-llama-7b : language_hidden_states\",\"x\":[\"HCP_MMP1\",\"floc-bodies\",\"floc-faces\",\"floc-places\",\"floc-words\",\"prf-eccrois\",\"prf-visualrois\"],\"y\":[0.036637742072343826,0.14611205458641052,0.10285342484712601,0.15726740658283234,0.06700065732002258,0.027108099311590195,0.090522900223732],\"type\":\"bar\"},{\"error_y\":{\"array\":[0.00558858085423708,0.010028401389718056,0.026112167164683342,0.01676924340426922,0.01843242160975933,0.00647081108763814,0.012227301485836506],\"type\":\"data\"},\"name\":\"openflamingo\\u002fOpenFlamingo-9B-vitl-mpt7b : hidden_states\",\"x\":[\"HCP_MMP1\",\"floc-bodies\",\"floc-faces\",\"floc-places\",\"floc-words\",\"prf-eccrois\",\"prf-visualrois\"],\"y\":[0.026569681242108345,0.11629247665405273,0.08098320662975311,0.12493665516376495,0.0520949587225914,0.02076745219528675,0.06476929783821106],\"type\":\"bar\"}],                        {\"template\":{\"data\":{\"histogram2dcontour\":[{\"type\":\"histogram2dcontour\",\"colorbar\":{\"outlinewidth\":0,\"ticks\":\"\"},\"colorscale\":[[0.0,\"#0d0887\"],[0.1111111111111111,\"#46039f\"],[0.2222222222222222,\"#7201a8\"],[0.3333333333333333,\"#9c179e\"],[0.4444444444444444,\"#bd3786\"],[0.5555555555555556,\"#d8576b\"],[0.6666666666666666,\"#ed7953\"],[0.7777777777777778,\"#fb9f3a\"],[0.8888888888888888,\"#fdca26\"],[1.0,\"#f0f921\"]]}],\"choropleth\":[{\"type\":\"choropleth\",\"colorbar\":{\"outlinewidth\":0,\"ticks\":\"\"}}],\"histogram2d\":[{\"type\":\"histogram2d\",\"colorbar\":{\"outlinewidth\":0,\"ticks\":\"\"},\"colorscale\":[[0.0,\"#0d0887\"],[0.1111111111111111,\"#46039f\"],[0.2222222222222222,\"#7201a8\"],[0.3333333333333333,\"#9c179e\"],[0.4444444444444444,\"#bd3786\"],[0.5555555555555556,\"#d8576b\"],[0.6666666666666666,\"#ed7953\"],[0.7777777777777778,\"#fb9f3a\"],[0.8888888888888888,\"#fdca26\"],[1.0,\"#f0f921\"]]}],\"heatmap\":[{\"type\":\"heatmap\",\"colorbar\":{\"outlinewidth\":0,\"ticks\":\"\"},\"colorscale\":[[0.0,\"#0d0887\"],[0.1111111111111111,\"#46039f\"],[0.2222222222222222,\"#7201a8\"],[0.3333333333333333,\"#9c179e\"],[0.4444444444444444,\"#bd3786\"],[0.5555555555555556,\"#d8576b\"],[0.6666666666666666,\"#ed7953\"],[0.7777777777777778,\"#fb9f3a\"],[0.8888888888888888,\"#fdca26\"],[1.0,\"#f0f921\"]]}],\"heatmapgl\":[{\"type\":\"heatmapgl\",\"colorbar\":{\"outlinewidth\":0,\"ticks\":\"\"},\"colorscale\":[[0.0,\"#0d0887\"],[0.1111111111111111,\"#46039f\"],[0.2222222222222222,\"#7201a8\"],[0.3333333333333333,\"#9c179e\"],[0.4444444444444444,\"#bd3786\"],[0.5555555555555556,\"#d8576b\"],[0.6666666666666666,\"#ed7953\"],[0.7777777777777778,\"#fb9f3a\"],[0.8888888888888888,\"#fdca26\"],[1.0,\"#f0f921\"]]}],\"contourcarpet\":[{\"type\":\"contourcarpet\",\"colorbar\":{\"outlinewidth\":0,\"ticks\":\"\"}}],\"contour\":[{\"type\":\"contour\",\"colorbar\":{\"outlinewidth\":0,\"ticks\":\"\"},\"colorscale\":[[0.0,\"#0d0887\"],[0.1111111111111111,\"#46039f\"],[0.2222222222222222,\"#7201a8\"],[0.3333333333333333,\"#9c179e\"],[0.4444444444444444,\"#bd3786\"],[0.5555555555555556,\"#d8576b\"],[0.6666666666666666,\"#ed7953\"],[0.7777777777777778,\"#fb9f3a\"],[0.8888888888888888,\"#fdca26\"],[1.0,\"#f0f921\"]]}],\"surface\":[{\"type\":\"surface\",\"colorbar\":{\"outlinewidth\":0,\"ticks\":\"\"},\"colorscale\":[[0.0,\"#0d0887\"],[0.1111111111111111,\"#46039f\"],[0.2222222222222222,\"#7201a8\"],[0.3333333333333333,\"#9c179e\"],[0.4444444444444444,\"#bd3786\"],[0.5555555555555556,\"#d8576b\"],[0.6666666666666666,\"#ed7953\"],[0.7777777777777778,\"#fb9f3a\"],[0.8888888888888888,\"#fdca26\"],[1.0,\"#f0f921\"]]}],\"mesh3d\":[{\"type\":\"mesh3d\",\"colorbar\":{\"outlinewidth\":0,\"ticks\":\"\"}}],\"scatter\":[{\"fillpattern\":{\"fillmode\":\"overlay\",\"size\":10,\"solidity\":0.2},\"type\":\"scatter\"}],\"parcoords\":[{\"type\":\"parcoords\",\"line\":{\"colorbar\":{\"outlinewidth\":0,\"ticks\":\"\"}}}],\"scatterpolargl\":[{\"type\":\"scatterpolargl\",\"marker\":{\"colorbar\":{\"outlinewidth\":0,\"ticks\":\"\"}}}],\"bar\":[{\"error_x\":{\"color\":\"#2a3f5f\"},\"error_y\":{\"color\":\"#2a3f5f\"},\"marker\":{\"line\":{\"color\":\"#E5ECF6\",\"width\":0.5},\"pattern\":{\"fillmode\":\"overlay\",\"size\":10,\"solidity\":0.2}},\"type\":\"bar\"}],\"scattergeo\":[{\"type\":\"scattergeo\",\"marker\":{\"colorbar\":{\"outlinewidth\":0,\"ticks\":\"\"}}}],\"scatterpolar\":[{\"type\":\"scatterpolar\",\"marker\":{\"colorbar\":{\"outlinewidth\":0,\"ticks\":\"\"}}}],\"histogram\":[{\"marker\":{\"pattern\":{\"fillmode\":\"overlay\",\"size\":10,\"solidity\":0.2}},\"type\":\"histogram\"}],\"scattergl\":[{\"type\":\"scattergl\",\"marker\":{\"colorbar\":{\"outlinewidth\":0,\"ticks\":\"\"}}}],\"scatter3d\":[{\"type\":\"scatter3d\",\"line\":{\"colorbar\":{\"outlinewidth\":0,\"ticks\":\"\"}},\"marker\":{\"colorbar\":{\"outlinewidth\":0,\"ticks\":\"\"}}}],\"scattermapbox\":[{\"type\":\"scattermapbox\",\"marker\":{\"colorbar\":{\"outlinewidth\":0,\"ticks\":\"\"}}}],\"scatterternary\":[{\"type\":\"scatterternary\",\"marker\":{\"colorbar\":{\"outlinewidth\":0,\"ticks\":\"\"}}}],\"scattercarpet\":[{\"type\":\"scattercarpet\",\"marker\":{\"colorbar\":{\"outlinewidth\":0,\"ticks\":\"\"}}}],\"carpet\":[{\"aaxis\":{\"endlinecolor\":\"#2a3f5f\",\"gridcolor\":\"white\",\"linecolor\":\"white\",\"minorgridcolor\":\"white\",\"startlinecolor\":\"#2a3f5f\"},\"baxis\":{\"endlinecolor\":\"#2a3f5f\",\"gridcolor\":\"white\",\"linecolor\":\"white\",\"minorgridcolor\":\"white\",\"startlinecolor\":\"#2a3f5f\"},\"type\":\"carpet\"}],\"table\":[{\"cells\":{\"fill\":{\"color\":\"#EBF0F8\"},\"line\":{\"color\":\"white\"}},\"header\":{\"fill\":{\"color\":\"#C8D4E3\"},\"line\":{\"color\":\"white\"}},\"type\":\"table\"}],\"barpolar\":[{\"marker\":{\"line\":{\"color\":\"#E5ECF6\",\"width\":0.5},\"pattern\":{\"fillmode\":\"overlay\",\"size\":10,\"solidity\":0.2}},\"type\":\"barpolar\"}],\"pie\":[{\"automargin\":true,\"type\":\"pie\"}]},\"layout\":{\"autotypenumbers\":\"strict\",\"colorway\":[\"#636efa\",\"#EF553B\",\"#00cc96\",\"#ab63fa\",\"#FFA15A\",\"#19d3f3\",\"#FF6692\",\"#B6E880\",\"#FF97FF\",\"#FECB52\"],\"font\":{\"color\":\"#2a3f5f\"},\"hovermode\":\"closest\",\"hoverlabel\":{\"align\":\"left\"},\"paper_bgcolor\":\"white\",\"plot_bgcolor\":\"#E5ECF6\",\"polar\":{\"bgcolor\":\"#E5ECF6\",\"angularaxis\":{\"gridcolor\":\"white\",\"linecolor\":\"white\",\"ticks\":\"\"},\"radialaxis\":{\"gridcolor\":\"white\",\"linecolor\":\"white\",\"ticks\":\"\"}},\"ternary\":{\"bgcolor\":\"#E5ECF6\",\"aaxis\":{\"gridcolor\":\"white\",\"linecolor\":\"white\",\"ticks\":\"\"},\"baxis\":{\"gridcolor\":\"white\",\"linecolor\":\"white\",\"ticks\":\"\"},\"caxis\":{\"gridcolor\":\"white\",\"linecolor\":\"white\",\"ticks\":\"\"}},\"coloraxis\":{\"colorbar\":{\"outlinewidth\":0,\"ticks\":\"\"}},\"colorscale\":{\"sequential\":[[0.0,\"#0d0887\"],[0.1111111111111111,\"#46039f\"],[0.2222222222222222,\"#7201a8\"],[0.3333333333333333,\"#9c179e\"],[0.4444444444444444,\"#bd3786\"],[0.5555555555555556,\"#d8576b\"],[0.6666666666666666,\"#ed7953\"],[0.7777777777777778,\"#fb9f3a\"],[0.8888888888888888,\"#fdca26\"],[1.0,\"#f0f921\"]],\"sequentialminus\":[[0.0,\"#0d0887\"],[0.1111111111111111,\"#46039f\"],[0.2222222222222222,\"#7201a8\"],[0.3333333333333333,\"#9c179e\"],[0.4444444444444444,\"#bd3786\"],[0.5555555555555556,\"#d8576b\"],[0.6666666666666666,\"#ed7953\"],[0.7777777777777778,\"#fb9f3a\"],[0.8888888888888888,\"#fdca26\"],[1.0,\"#f0f921\"]],\"diverging\":[[0,\"#8e0152\"],[0.1,\"#c51b7d\"],[0.2,\"#de77ae\"],[0.3,\"#f1b6da\"],[0.4,\"#fde0ef\"],[0.5,\"#f7f7f7\"],[0.6,\"#e6f5d0\"],[0.7,\"#b8e186\"],[0.8,\"#7fbc41\"],[0.9,\"#4d9221\"],[1,\"#276419\"]]},\"xaxis\":{\"gridcolor\":\"white\",\"linecolor\":\"white\",\"ticks\":\"\",\"title\":{\"standoff\":15},\"zerolinecolor\":\"white\",\"automargin\":true,\"zerolinewidth\":2},\"yaxis\":{\"gridcolor\":\"white\",\"linecolor\":\"white\",\"ticks\":\"\",\"title\":{\"standoff\":15},\"zerolinecolor\":\"white\",\"automargin\":true,\"zerolinewidth\":2},\"scene\":{\"xaxis\":{\"backgroundcolor\":\"#E5ECF6\",\"gridcolor\":\"white\",\"linecolor\":\"white\",\"showbackground\":true,\"ticks\":\"\",\"zerolinecolor\":\"white\",\"gridwidth\":2},\"yaxis\":{\"backgroundcolor\":\"#E5ECF6\",\"gridcolor\":\"white\",\"linecolor\":\"white\",\"showbackground\":true,\"ticks\":\"\",\"zerolinecolor\":\"white\",\"gridwidth\":2},\"zaxis\":{\"backgroundcolor\":\"#E5ECF6\",\"gridcolor\":\"white\",\"linecolor\":\"white\",\"showbackground\":true,\"ticks\":\"\",\"zerolinecolor\":\"white\",\"gridwidth\":2}},\"shapedefaults\":{\"line\":{\"color\":\"#2a3f5f\"}},\"annotationdefaults\":{\"arrowcolor\":\"#2a3f5f\",\"arrowhead\":0,\"arrowwidth\":1},\"geo\":{\"bgcolor\":\"white\",\"landcolor\":\"#E5ECF6\",\"subunitcolor\":\"white\",\"showland\":true,\"showlakes\":true,\"lakecolor\":\"white\"},\"title\":{\"x\":0.05},\"mapbox\":{\"style\":\"light\"}}},\"xaxis\":{\"tickangle\":-45},\"barmode\":\"group\",\"title\":{\"text\":\"Metric: r2\"}},                        {\"responsive\": true}                    ).then(function(){\n",
       "                            \n",
       "var gd = document.getElementById('22f77ff3-8886-42fe-937f-77f2a3ed1f9a');\n",
       "var x = new MutationObserver(function (mutations, observer) {{\n",
       "        var display = window.getComputedStyle(gd).display;\n",
       "        if (!display || display === 'none') {{\n",
       "            console.log([gd, 'removed!']);\n",
       "            Plotly.purge(gd);\n",
       "            observer.disconnect();\n",
       "        }}\n",
       "}});\n",
       "\n",
       "// Listen for the removal of the full notebook cells\n",
       "var notebookContainer = gd.closest('#notebook-container');\n",
       "if (notebookContainer) {{\n",
       "    x.observe(notebookContainer, {childList: true});\n",
       "}}\n",
       "\n",
       "// Listen for the clearing of the current output cell\n",
       "var outputEl = gd.closest('.output');\n",
       "if (outputEl) {{\n",
       "    x.observe(outputEl, {childList: true});\n",
       "}}\n",
       "\n",
       "                        })                };                });            </script>        </div>"
      ]
     },
     "metadata": {},
     "output_type": "display_data"
    },
    {
     "data": {
      "application/vnd.plotly.v1+json": {
       "config": {
        "plotlyServerURL": "https://plot.ly"
       },
       "data": [
        {
         "error_y": {
          "array": [
           0.012992876581847668,
           0.013637947849929333,
           0.030971959233283997,
           0.01598374918103218,
           0.027317197993397713,
           0.016760539263486862,
           0.02631763555109501
          ],
          "type": "data"
         },
         "name": "google/vit-huge-patch14-224-in21k : hidden_states",
         "type": "bar",
         "x": [
          "HCP_MMP1",
          "floc-bodies",
          "floc-faces",
          "floc-places",
          "floc-words",
          "prf-eccrois",
          "prf-visualrois"
         ],
         "y": [
          0.15969759225845337,
          0.246129110455513,
          0.2543385624885559,
          0.3275693655014038,
          0.2169990837574005,
          0.1688217669725418,
          0.3535310924053192
         ]
        },
        {
         "error_y": {
          "array": [
           0.015070624649524689,
           0.017098523676395416,
           0.04556284844875336,
           0.01815781183540821,
           0.039533764123916626,
           0.01640344224870205,
           0.02742767333984375
          ],
          "type": "data"
         },
         "name": "Salesforce/instructblip-vicuna-13b : qformer_hidden_states",
         "type": "bar",
         "x": [
          "HCP_MMP1",
          "floc-bodies",
          "floc-faces",
          "floc-places",
          "floc-words",
          "prf-eccrois",
          "prf-visualrois"
         ],
         "y": [
          0.13503167033195496,
          0.3002922534942627,
          0.2867872714996338,
          0.3719516396522522,
          0.24473583698272705,
          0.16386422514915466,
          0.2928650379180908
         ]
        },
        {
         "error_y": {
          "array": [
           0.013994181528687477,
           0.015295027755200863,
           0.037430401891469955,
           0.016424471512436867,
           0.03351713344454765,
           0.016876665875315666,
           0.026292050257325172
          ],
          "type": "data"
         },
         "name": "Salesforce/instructblip-vicuna-13b : vision_hidden_states",
         "type": "bar",
         "x": [
          "HCP_MMP1",
          "floc-bodies",
          "floc-faces",
          "floc-places",
          "floc-words",
          "prf-eccrois",
          "prf-visualrois"
         ],
         "y": [
          0.15717409551143646,
          0.2739783227443695,
          0.279059499502182,
          0.3539204001426697,
          0.24048209190368652,
          0.17678223550319672,
          0.3477547764778137
         ]
        },
        {
         "error_y": {
          "array": [
           0.014147359877824783,
           0.016491396352648735,
           0.04559609666466713,
           0.017362777143716812,
           0.0407353900372982,
           0.018495624884963036,
           0.026858802884817123
          ],
          "type": "data"
         },
         "name": "HuggingFaceM4/idefics-9b-instruct : hidden_states",
         "type": "bar",
         "x": [
          "HCP_MMP1",
          "floc-bodies",
          "floc-faces",
          "floc-places",
          "floc-words",
          "prf-eccrois",
          "prf-visualrois"
         ],
         "y": [
          0.12252335250377655,
          0.28750118613243103,
          0.2706499993801117,
          0.35796642303466797,
          0.22976821660995483,
          0.15101443231105804,
          0.2678433358669281
         ]
        },
        {
         "error_y": {
          "array": [
           0.013938453048467636,
           0.016908196732401848,
           0.04124367982149124,
           0.01579362340271473,
           0.035450104624032974,
           0.014560876414179802,
           0.024704057723283768
          ],
          "type": "data"
         },
         "name": "llava-hf/llava-1.5-13b-hf : hidden_states",
         "type": "bar",
         "x": [
          "HCP_MMP1",
          "floc-bodies",
          "floc-faces",
          "floc-places",
          "floc-words",
          "prf-eccrois",
          "prf-visualrois"
         ],
         "y": [
          0.15693558752536774,
          0.29709523916244507,
          0.2947463095188141,
          0.37774601578712463,
          0.2526434659957886,
          0.17035698890686035,
          0.34595656394958496
         ]
        },
        {
         "error_y": {
          "array": [
           0.0135854072868824,
           0.0139169218018651,
           0.0359925739467144,
           0.016663232818245888,
           0.03179341182112694,
           0.014864645898342133,
           0.026957526803016663
          ],
          "type": "data"
         },
         "name": "MAGAer13/mplug-owl-llama-7b : vision_hidden_states",
         "type": "bar",
         "x": [
          "HCP_MMP1",
          "floc-bodies",
          "floc-faces",
          "floc-places",
          "floc-words",
          "prf-eccrois",
          "prf-visualrois"
         ],
         "y": [
          0.14789903163909912,
          0.2528780698776245,
          0.25284871459007263,
          0.32882168889045715,
          0.21456071734428406,
          0.16177475452423096,
          0.3299739956855774
         ]
        },
        {
         "error_y": {
          "array": [
           0.013834681361913681,
           0.01752784289419651,
           0.04539129510521889,
           0.018548542633652687,
           0.03920614346861839,
           0.017124054953455925,
           0.025596896186470985
          ],
          "type": "data"
         },
         "name": "MAGAer13/mplug-owl-llama-7b : language_hidden_states",
         "type": "bar",
         "x": [
          "HCP_MMP1",
          "floc-bodies",
          "floc-faces",
          "floc-places",
          "floc-words",
          "prf-eccrois",
          "prf-visualrois"
         ],
         "y": [
          0.12375114113092422,
          0.29030585289001465,
          0.27145230770111084,
          0.3569369912147522,
          0.22582019865512848,
          0.1465410739183426,
          0.2705954313278198
         ]
        },
        {
         "error_y": {
          "array": [
           0.013057987205684185,
           0.016643324866890907,
           0.0428590402007103,
           0.017899036407470703,
           0.03743407130241394,
           0.017145566642284393,
           0.024279795587062836
          ],
          "type": "data"
         },
         "name": "openflamingo/OpenFlamingo-9B-vitl-mpt7b : hidden_states",
         "type": "bar",
         "x": [
          "HCP_MMP1",
          "floc-bodies",
          "floc-faces",
          "floc-places",
          "floc-words",
          "prf-eccrois",
          "prf-visualrois"
         ],
         "y": [
          0.11726086586713791,
          0.28081780672073364,
          0.26234307885169983,
          0.3475932776927948,
          0.2173793464899063,
          0.1407385766506195,
          0.2556975483894348
         ]
        }
       ],
       "layout": {
        "autosize": true,
        "barmode": "group",
        "template": {
         "data": {
          "bar": [
           {
            "error_x": {
             "color": "#2a3f5f"
            },
            "error_y": {
             "color": "#2a3f5f"
            },
            "marker": {
             "line": {
              "color": "#E5ECF6",
              "width": 0.5
             },
             "pattern": {
              "fillmode": "overlay",
              "size": 10,
              "solidity": 0.2
             }
            },
            "type": "bar"
           }
          ],
          "barpolar": [
           {
            "marker": {
             "line": {
              "color": "#E5ECF6",
              "width": 0.5
             },
             "pattern": {
              "fillmode": "overlay",
              "size": 10,
              "solidity": 0.2
             }
            },
            "type": "barpolar"
           }
          ],
          "carpet": [
           {
            "aaxis": {
             "endlinecolor": "#2a3f5f",
             "gridcolor": "white",
             "linecolor": "white",
             "minorgridcolor": "white",
             "startlinecolor": "#2a3f5f"
            },
            "baxis": {
             "endlinecolor": "#2a3f5f",
             "gridcolor": "white",
             "linecolor": "white",
             "minorgridcolor": "white",
             "startlinecolor": "#2a3f5f"
            },
            "type": "carpet"
           }
          ],
          "choropleth": [
           {
            "colorbar": {
             "outlinewidth": 0,
             "ticks": ""
            },
            "type": "choropleth"
           }
          ],
          "contour": [
           {
            "colorbar": {
             "outlinewidth": 0,
             "ticks": ""
            },
            "colorscale": [
             [
              0,
              "#0d0887"
             ],
             [
              0.1111111111111111,
              "#46039f"
             ],
             [
              0.2222222222222222,
              "#7201a8"
             ],
             [
              0.3333333333333333,
              "#9c179e"
             ],
             [
              0.4444444444444444,
              "#bd3786"
             ],
             [
              0.5555555555555556,
              "#d8576b"
             ],
             [
              0.6666666666666666,
              "#ed7953"
             ],
             [
              0.7777777777777778,
              "#fb9f3a"
             ],
             [
              0.8888888888888888,
              "#fdca26"
             ],
             [
              1,
              "#f0f921"
             ]
            ],
            "type": "contour"
           }
          ],
          "contourcarpet": [
           {
            "colorbar": {
             "outlinewidth": 0,
             "ticks": ""
            },
            "type": "contourcarpet"
           }
          ],
          "heatmap": [
           {
            "colorbar": {
             "outlinewidth": 0,
             "ticks": ""
            },
            "colorscale": [
             [
              0,
              "#0d0887"
             ],
             [
              0.1111111111111111,
              "#46039f"
             ],
             [
              0.2222222222222222,
              "#7201a8"
             ],
             [
              0.3333333333333333,
              "#9c179e"
             ],
             [
              0.4444444444444444,
              "#bd3786"
             ],
             [
              0.5555555555555556,
              "#d8576b"
             ],
             [
              0.6666666666666666,
              "#ed7953"
             ],
             [
              0.7777777777777778,
              "#fb9f3a"
             ],
             [
              0.8888888888888888,
              "#fdca26"
             ],
             [
              1,
              "#f0f921"
             ]
            ],
            "type": "heatmap"
           }
          ],
          "heatmapgl": [
           {
            "colorbar": {
             "outlinewidth": 0,
             "ticks": ""
            },
            "colorscale": [
             [
              0,
              "#0d0887"
             ],
             [
              0.1111111111111111,
              "#46039f"
             ],
             [
              0.2222222222222222,
              "#7201a8"
             ],
             [
              0.3333333333333333,
              "#9c179e"
             ],
             [
              0.4444444444444444,
              "#bd3786"
             ],
             [
              0.5555555555555556,
              "#d8576b"
             ],
             [
              0.6666666666666666,
              "#ed7953"
             ],
             [
              0.7777777777777778,
              "#fb9f3a"
             ],
             [
              0.8888888888888888,
              "#fdca26"
             ],
             [
              1,
              "#f0f921"
             ]
            ],
            "type": "heatmapgl"
           }
          ],
          "histogram": [
           {
            "marker": {
             "pattern": {
              "fillmode": "overlay",
              "size": 10,
              "solidity": 0.2
             }
            },
            "type": "histogram"
           }
          ],
          "histogram2d": [
           {
            "colorbar": {
             "outlinewidth": 0,
             "ticks": ""
            },
            "colorscale": [
             [
              0,
              "#0d0887"
             ],
             [
              0.1111111111111111,
              "#46039f"
             ],
             [
              0.2222222222222222,
              "#7201a8"
             ],
             [
              0.3333333333333333,
              "#9c179e"
             ],
             [
              0.4444444444444444,
              "#bd3786"
             ],
             [
              0.5555555555555556,
              "#d8576b"
             ],
             [
              0.6666666666666666,
              "#ed7953"
             ],
             [
              0.7777777777777778,
              "#fb9f3a"
             ],
             [
              0.8888888888888888,
              "#fdca26"
             ],
             [
              1,
              "#f0f921"
             ]
            ],
            "type": "histogram2d"
           }
          ],
          "histogram2dcontour": [
           {
            "colorbar": {
             "outlinewidth": 0,
             "ticks": ""
            },
            "colorscale": [
             [
              0,
              "#0d0887"
             ],
             [
              0.1111111111111111,
              "#46039f"
             ],
             [
              0.2222222222222222,
              "#7201a8"
             ],
             [
              0.3333333333333333,
              "#9c179e"
             ],
             [
              0.4444444444444444,
              "#bd3786"
             ],
             [
              0.5555555555555556,
              "#d8576b"
             ],
             [
              0.6666666666666666,
              "#ed7953"
             ],
             [
              0.7777777777777778,
              "#fb9f3a"
             ],
             [
              0.8888888888888888,
              "#fdca26"
             ],
             [
              1,
              "#f0f921"
             ]
            ],
            "type": "histogram2dcontour"
           }
          ],
          "mesh3d": [
           {
            "colorbar": {
             "outlinewidth": 0,
             "ticks": ""
            },
            "type": "mesh3d"
           }
          ],
          "parcoords": [
           {
            "line": {
             "colorbar": {
              "outlinewidth": 0,
              "ticks": ""
             }
            },
            "type": "parcoords"
           }
          ],
          "pie": [
           {
            "automargin": true,
            "type": "pie"
           }
          ],
          "scatter": [
           {
            "fillpattern": {
             "fillmode": "overlay",
             "size": 10,
             "solidity": 0.2
            },
            "type": "scatter"
           }
          ],
          "scatter3d": [
           {
            "line": {
             "colorbar": {
              "outlinewidth": 0,
              "ticks": ""
             }
            },
            "marker": {
             "colorbar": {
              "outlinewidth": 0,
              "ticks": ""
             }
            },
            "type": "scatter3d"
           }
          ],
          "scattercarpet": [
           {
            "marker": {
             "colorbar": {
              "outlinewidth": 0,
              "ticks": ""
             }
            },
            "type": "scattercarpet"
           }
          ],
          "scattergeo": [
           {
            "marker": {
             "colorbar": {
              "outlinewidth": 0,
              "ticks": ""
             }
            },
            "type": "scattergeo"
           }
          ],
          "scattergl": [
           {
            "marker": {
             "colorbar": {
              "outlinewidth": 0,
              "ticks": ""
             }
            },
            "type": "scattergl"
           }
          ],
          "scattermapbox": [
           {
            "marker": {
             "colorbar": {
              "outlinewidth": 0,
              "ticks": ""
             }
            },
            "type": "scattermapbox"
           }
          ],
          "scatterpolar": [
           {
            "marker": {
             "colorbar": {
              "outlinewidth": 0,
              "ticks": ""
             }
            },
            "type": "scatterpolar"
           }
          ],
          "scatterpolargl": [
           {
            "marker": {
             "colorbar": {
              "outlinewidth": 0,
              "ticks": ""
             }
            },
            "type": "scatterpolargl"
           }
          ],
          "scatterternary": [
           {
            "marker": {
             "colorbar": {
              "outlinewidth": 0,
              "ticks": ""
             }
            },
            "type": "scatterternary"
           }
          ],
          "surface": [
           {
            "colorbar": {
             "outlinewidth": 0,
             "ticks": ""
            },
            "colorscale": [
             [
              0,
              "#0d0887"
             ],
             [
              0.1111111111111111,
              "#46039f"
             ],
             [
              0.2222222222222222,
              "#7201a8"
             ],
             [
              0.3333333333333333,
              "#9c179e"
             ],
             [
              0.4444444444444444,
              "#bd3786"
             ],
             [
              0.5555555555555556,
              "#d8576b"
             ],
             [
              0.6666666666666666,
              "#ed7953"
             ],
             [
              0.7777777777777778,
              "#fb9f3a"
             ],
             [
              0.8888888888888888,
              "#fdca26"
             ],
             [
              1,
              "#f0f921"
             ]
            ],
            "type": "surface"
           }
          ],
          "table": [
           {
            "cells": {
             "fill": {
              "color": "#EBF0F8"
             },
             "line": {
              "color": "white"
             }
            },
            "header": {
             "fill": {
              "color": "#C8D4E3"
             },
             "line": {
              "color": "white"
             }
            },
            "type": "table"
           }
          ]
         },
         "layout": {
          "annotationdefaults": {
           "arrowcolor": "#2a3f5f",
           "arrowhead": 0,
           "arrowwidth": 1
          },
          "autotypenumbers": "strict",
          "coloraxis": {
           "colorbar": {
            "outlinewidth": 0,
            "ticks": ""
           }
          },
          "colorscale": {
           "diverging": [
            [
             0,
             "#8e0152"
            ],
            [
             0.1,
             "#c51b7d"
            ],
            [
             0.2,
             "#de77ae"
            ],
            [
             0.3,
             "#f1b6da"
            ],
            [
             0.4,
             "#fde0ef"
            ],
            [
             0.5,
             "#f7f7f7"
            ],
            [
             0.6,
             "#e6f5d0"
            ],
            [
             0.7,
             "#b8e186"
            ],
            [
             0.8,
             "#7fbc41"
            ],
            [
             0.9,
             "#4d9221"
            ],
            [
             1,
             "#276419"
            ]
           ],
           "sequential": [
            [
             0,
             "#0d0887"
            ],
            [
             0.1111111111111111,
             "#46039f"
            ],
            [
             0.2222222222222222,
             "#7201a8"
            ],
            [
             0.3333333333333333,
             "#9c179e"
            ],
            [
             0.4444444444444444,
             "#bd3786"
            ],
            [
             0.5555555555555556,
             "#d8576b"
            ],
            [
             0.6666666666666666,
             "#ed7953"
            ],
            [
             0.7777777777777778,
             "#fb9f3a"
            ],
            [
             0.8888888888888888,
             "#fdca26"
            ],
            [
             1,
             "#f0f921"
            ]
           ],
           "sequentialminus": [
            [
             0,
             "#0d0887"
            ],
            [
             0.1111111111111111,
             "#46039f"
            ],
            [
             0.2222222222222222,
             "#7201a8"
            ],
            [
             0.3333333333333333,
             "#9c179e"
            ],
            [
             0.4444444444444444,
             "#bd3786"
            ],
            [
             0.5555555555555556,
             "#d8576b"
            ],
            [
             0.6666666666666666,
             "#ed7953"
            ],
            [
             0.7777777777777778,
             "#fb9f3a"
            ],
            [
             0.8888888888888888,
             "#fdca26"
            ],
            [
             1,
             "#f0f921"
            ]
           ]
          },
          "colorway": [
           "#636efa",
           "#EF553B",
           "#00cc96",
           "#ab63fa",
           "#FFA15A",
           "#19d3f3",
           "#FF6692",
           "#B6E880",
           "#FF97FF",
           "#FECB52"
          ],
          "font": {
           "color": "#2a3f5f"
          },
          "geo": {
           "bgcolor": "white",
           "lakecolor": "white",
           "landcolor": "#E5ECF6",
           "showlakes": true,
           "showland": true,
           "subunitcolor": "white"
          },
          "hoverlabel": {
           "align": "left"
          },
          "hovermode": "closest",
          "mapbox": {
           "style": "light"
          },
          "paper_bgcolor": "white",
          "plot_bgcolor": "#E5ECF6",
          "polar": {
           "angularaxis": {
            "gridcolor": "white",
            "linecolor": "white",
            "ticks": ""
           },
           "bgcolor": "#E5ECF6",
           "radialaxis": {
            "gridcolor": "white",
            "linecolor": "white",
            "ticks": ""
           }
          },
          "scene": {
           "xaxis": {
            "backgroundcolor": "#E5ECF6",
            "gridcolor": "white",
            "gridwidth": 2,
            "linecolor": "white",
            "showbackground": true,
            "ticks": "",
            "zerolinecolor": "white"
           },
           "yaxis": {
            "backgroundcolor": "#E5ECF6",
            "gridcolor": "white",
            "gridwidth": 2,
            "linecolor": "white",
            "showbackground": true,
            "ticks": "",
            "zerolinecolor": "white"
           },
           "zaxis": {
            "backgroundcolor": "#E5ECF6",
            "gridcolor": "white",
            "gridwidth": 2,
            "linecolor": "white",
            "showbackground": true,
            "ticks": "",
            "zerolinecolor": "white"
           }
          },
          "shapedefaults": {
           "line": {
            "color": "#2a3f5f"
           }
          },
          "ternary": {
           "aaxis": {
            "gridcolor": "white",
            "linecolor": "white",
            "ticks": ""
           },
           "baxis": {
            "gridcolor": "white",
            "linecolor": "white",
            "ticks": ""
           },
           "bgcolor": "#E5ECF6",
           "caxis": {
            "gridcolor": "white",
            "linecolor": "white",
            "ticks": ""
           }
          },
          "title": {
           "x": 0.05
          },
          "xaxis": {
           "automargin": true,
           "gridcolor": "white",
           "linecolor": "white",
           "ticks": "",
           "title": {
            "standoff": 15
           },
           "zerolinecolor": "white",
           "zerolinewidth": 2
          },
          "yaxis": {
           "automargin": true,
           "gridcolor": "white",
           "linecolor": "white",
           "ticks": "",
           "title": {
            "standoff": 15
           },
           "zerolinecolor": "white",
           "zerolinewidth": 2
          }
         }
        },
        "title": {
         "text": "Metric: pearson"
        },
        "xaxis": {
         "autorange": true,
         "range": [
          -0.5,
          6.5
         ],
         "tickangle": -45,
         "type": "category"
        },
        "yaxis": {
         "autorange": true,
         "range": [
          0,
          0.4142522517787783
         ],
         "type": "linear"
        }
       }
      },
      "image/png": "[encoded data removed]",
      "text/html": [
       "<div>                            <div id=\"83dc09c5-d802-4de3-a201-190351590900\" class=\"plotly-graph-div\" style=\"height:525px; width:100%;\"></div>            <script type=\"text/javascript\">                require([\"plotly\"], function(Plotly) {                    window.PLOTLYENV=window.PLOTLYENV || {};                                    if (document.getElementById(\"83dc09c5-d802-4de3-a201-190351590900\")) {                    Plotly.newPlot(                        \"83dc09c5-d802-4de3-a201-190351590900\",                        [{\"error_y\":{\"array\":[0.012992876581847668,0.013637947849929333,0.030971959233283997,0.01598374918103218,0.027317197993397713,0.016760539263486862,0.02631763555109501],\"type\":\"data\"},\"name\":\"google\\u002fvit-huge-patch14-224-in21k : hidden_states\",\"x\":[\"HCP_MMP1\",\"floc-bodies\",\"floc-faces\",\"floc-places\",\"floc-words\",\"prf-eccrois\",\"prf-visualrois\"],\"y\":[0.15969759225845337,0.246129110455513,0.2543385624885559,0.3275693655014038,0.2169990837574005,0.1688217669725418,0.3535310924053192],\"type\":\"bar\"},{\"error_y\":{\"array\":[0.015070624649524689,0.017098523676395416,0.04556284844875336,0.01815781183540821,0.039533764123916626,0.01640344224870205,0.02742767333984375],\"type\":\"data\"},\"name\":\"Salesforce\\u002finstructblip-vicuna-13b : qformer_hidden_states\",\"x\":[\"HCP_MMP1\",\"floc-bodies\",\"floc-faces\",\"floc-places\",\"floc-words\",\"prf-eccrois\",\"prf-visualrois\"],\"y\":[0.13503167033195496,0.3002922534942627,0.2867872714996338,0.3719516396522522,0.24473583698272705,0.16386422514915466,0.2928650379180908],\"type\":\"bar\"},{\"error_y\":{\"array\":[0.013994181528687477,0.015295027755200863,0.037430401891469955,0.016424471512436867,0.03351713344454765,0.016876665875315666,0.026292050257325172],\"type\":\"data\"},\"name\":\"Salesforce\\u002finstructblip-vicuna-13b : vision_hidden_states\",\"x\":[\"HCP_MMP1\",\"floc-bodies\",\"floc-faces\",\"floc-places\",\"floc-words\",\"prf-eccrois\",\"prf-visualrois\"],\"y\":[0.15717409551143646,0.2739783227443695,0.279059499502182,0.3539204001426697,0.24048209190368652,0.17678223550319672,0.3477547764778137],\"type\":\"bar\"},{\"error_y\":{\"array\":[0.014147359877824783,0.016491396352648735,0.04559609666466713,0.017362777143716812,0.0407353900372982,0.018495624884963036,0.026858802884817123],\"type\":\"data\"},\"name\":\"HuggingFaceM4\\u002fidefics-9b-instruct : hidden_states\",\"x\":[\"HCP_MMP1\",\"floc-bodies\",\"floc-faces\",\"floc-places\",\"floc-words\",\"prf-eccrois\",\"prf-visualrois\"],\"y\":[0.12252335250377655,0.28750118613243103,0.2706499993801117,0.35796642303466797,0.22976821660995483,0.15101443231105804,0.2678433358669281],\"type\":\"bar\"},{\"error_y\":{\"array\":[0.013938453048467636,0.016908196732401848,0.04124367982149124,0.01579362340271473,0.035450104624032974,0.014560876414179802,0.024704057723283768],\"type\":\"data\"},\"name\":\"llava-hf\\u002fllava-1.5-13b-hf : hidden_states\",\"x\":[\"HCP_MMP1\",\"floc-bodies\",\"floc-faces\",\"floc-places\",\"floc-words\",\"prf-eccrois\",\"prf-visualrois\"],\"y\":[0.15693558752536774,0.29709523916244507,0.2947463095188141,0.37774601578712463,0.2526434659957886,0.17035698890686035,0.34595656394958496],\"type\":\"bar\"},{\"error_y\":{\"array\":[0.0135854072868824,0.0139169218018651,0.0359925739467144,0.016663232818245888,0.03179341182112694,0.014864645898342133,0.026957526803016663],\"type\":\"data\"},\"name\":\"MAGAer13\\u002fmplug-owl-llama-7b : vision_hidden_states\",\"x\":[\"HCP_MMP1\",\"floc-bodies\",\"floc-faces\",\"floc-places\",\"floc-words\",\"prf-eccrois\",\"prf-visualrois\"],\"y\":[0.14789903163909912,0.2528780698776245,0.25284871459007263,0.32882168889045715,0.21456071734428406,0.16177475452423096,0.3299739956855774],\"type\":\"bar\"},{\"error_y\":{\"array\":[0.013834681361913681,0.01752784289419651,0.04539129510521889,0.018548542633652687,0.03920614346861839,0.017124054953455925,0.025596896186470985],\"type\":\"data\"},\"name\":\"MAGAer13\\u002fmplug-owl-llama-7b : language_hidden_states\",\"x\":[\"HCP_MMP1\",\"floc-bodies\",\"floc-faces\",\"floc-places\",\"floc-words\",\"prf-eccrois\",\"prf-visualrois\"],\"y\":[0.12375114113092422,0.29030585289001465,0.27145230770111084,0.3569369912147522,0.22582019865512848,0.1465410739183426,0.2705954313278198],\"type\":\"bar\"},{\"error_y\":{\"array\":[0.013057987205684185,0.016643324866890907,0.0428590402007103,0.017899036407470703,0.03743407130241394,0.017145566642284393,0.024279795587062836],\"type\":\"data\"},\"name\":\"openflamingo\\u002fOpenFlamingo-9B-vitl-mpt7b : hidden_states\",\"x\":[\"HCP_MMP1\",\"floc-bodies\",\"floc-faces\",\"floc-places\",\"floc-words\",\"prf-eccrois\",\"prf-visualrois\"],\"y\":[0.11726086586713791,0.28081780672073364,0.26234307885169983,0.3475932776927948,0.2173793464899063,0.1407385766506195,0.2556975483894348],\"type\":\"bar\"}],                        {\"template\":{\"data\":{\"histogram2dcontour\":[{\"type\":\"histogram2dcontour\",\"colorbar\":{\"outlinewidth\":0,\"ticks\":\"\"},\"colorscale\":[[0.0,\"#0d0887\"],[0.1111111111111111,\"#46039f\"],[0.2222222222222222,\"#7201a8\"],[0.3333333333333333,\"#9c179e\"],[0.4444444444444444,\"#bd3786\"],[0.5555555555555556,\"#d8576b\"],[0.6666666666666666,\"#ed7953\"],[0.7777777777777778,\"#fb9f3a\"],[0.8888888888888888,\"#fdca26\"],[1.0,\"#f0f921\"]]}],\"choropleth\":[{\"type\":\"choropleth\",\"colorbar\":{\"outlinewidth\":0,\"ticks\":\"\"}}],\"histogram2d\":[{\"type\":\"histogram2d\",\"colorbar\":{\"outlinewidth\":0,\"ticks\":\"\"},\"colorscale\":[[0.0,\"#0d0887\"],[0.1111111111111111,\"#46039f\"],[0.2222222222222222,\"#7201a8\"],[0.3333333333333333,\"#9c179e\"],[0.4444444444444444,\"#bd3786\"],[0.5555555555555556,\"#d8576b\"],[0.6666666666666666,\"#ed7953\"],[0.7777777777777778,\"#fb9f3a\"],[0.8888888888888888,\"#fdca26\"],[1.0,\"#f0f921\"]]}],\"heatmap\":[{\"type\":\"heatmap\",\"colorbar\":{\"outlinewidth\":0,\"ticks\":\"\"},\"colorscale\":[[0.0,\"#0d0887\"],[0.1111111111111111,\"#46039f\"],[0.2222222222222222,\"#7201a8\"],[0.3333333333333333,\"#9c179e\"],[0.4444444444444444,\"#bd3786\"],[0.5555555555555556,\"#d8576b\"],[0.6666666666666666,\"#ed7953\"],[0.7777777777777778,\"#fb9f3a\"],[0.8888888888888888,\"#fdca26\"],[1.0,\"#f0f921\"]]}],\"heatmapgl\":[{\"type\":\"heatmapgl\",\"colorbar\":{\"outlinewidth\":0,\"ticks\":\"\"},\"colorscale\":[[0.0,\"#0d0887\"],[0.1111111111111111,\"#46039f\"],[0.2222222222222222,\"#7201a8\"],[0.3333333333333333,\"#9c179e\"],[0.4444444444444444,\"#bd3786\"],[0.5555555555555556,\"#d8576b\"],[0.6666666666666666,\"#ed7953\"],[0.7777777777777778,\"#fb9f3a\"],[0.8888888888888888,\"#fdca26\"],[1.0,\"#f0f921\"]]}],\"contourcarpet\":[{\"type\":\"contourcarpet\",\"colorbar\":{\"outlinewidth\":0,\"ticks\":\"\"}}],\"contour\":[{\"type\":\"contour\",\"colorbar\":{\"outlinewidth\":0,\"ticks\":\"\"},\"colorscale\":[[0.0,\"#0d0887\"],[0.1111111111111111,\"#46039f\"],[0.2222222222222222,\"#7201a8\"],[0.3333333333333333,\"#9c179e\"],[0.4444444444444444,\"#bd3786\"],[0.5555555555555556,\"#d8576b\"],[0.6666666666666666,\"#ed7953\"],[0.7777777777777778,\"#fb9f3a\"],[0.8888888888888888,\"#fdca26\"],[1.0,\"#f0f921\"]]}],\"surface\":[{\"type\":\"surface\",\"colorbar\":{\"outlinewidth\":0,\"ticks\":\"\"},\"colorscale\":[[0.0,\"#0d0887\"],[0.1111111111111111,\"#46039f\"],[0.2222222222222222,\"#7201a8\"],[0.3333333333333333,\"#9c179e\"],[0.4444444444444444,\"#bd3786\"],[0.5555555555555556,\"#d8576b\"],[0.6666666666666666,\"#ed7953\"],[0.7777777777777778,\"#fb9f3a\"],[0.8888888888888888,\"#fdca26\"],[1.0,\"#f0f921\"]]}],\"mesh3d\":[{\"type\":\"mesh3d\",\"colorbar\":{\"outlinewidth\":0,\"ticks\":\"\"}}],\"scatter\":[{\"fillpattern\":{\"fillmode\":\"overlay\",\"size\":10,\"solidity\":0.2},\"type\":\"scatter\"}],\"parcoords\":[{\"type\":\"parcoords\",\"line\":{\"colorbar\":{\"outlinewidth\":0,\"ticks\":\"\"}}}],\"scatterpolargl\":[{\"type\":\"scatterpolargl\",\"marker\":{\"colorbar\":{\"outlinewidth\":0,\"ticks\":\"\"}}}],\"bar\":[{\"error_x\":{\"color\":\"#2a3f5f\"},\"error_y\":{\"color\":\"#2a3f5f\"},\"marker\":{\"line\":{\"color\":\"#E5ECF6\",\"width\":0.5},\"pattern\":{\"fillmode\":\"overlay\",\"size\":10,\"solidity\":0.2}},\"type\":\"bar\"}],\"scattergeo\":[{\"type\":\"scattergeo\",\"marker\":{\"colorbar\":{\"outlinewidth\":0,\"ticks\":\"\"}}}],\"scatterpolar\":[{\"type\":\"scatterpolar\",\"marker\":{\"colorbar\":{\"outlinewidth\":0,\"ticks\":\"\"}}}],\"histogram\":[{\"marker\":{\"pattern\":{\"fillmode\":\"overlay\",\"size\":10,\"solidity\":0.2}},\"type\":\"histogram\"}],\"scattergl\":[{\"type\":\"scattergl\",\"marker\":{\"colorbar\":{\"outlinewidth\":0,\"ticks\":\"\"}}}],\"scatter3d\":[{\"type\":\"scatter3d\",\"line\":{\"colorbar\":{\"outlinewidth\":0,\"ticks\":\"\"}},\"marker\":{\"colorbar\":{\"outlinewidth\":0,\"ticks\":\"\"}}}],\"scattermapbox\":[{\"type\":\"scattermapbox\",\"marker\":{\"colorbar\":{\"outlinewidth\":0,\"ticks\":\"\"}}}],\"scatterternary\":[{\"type\":\"scatterternary\",\"marker\":{\"colorbar\":{\"outlinewidth\":0,\"ticks\":\"\"}}}],\"scattercarpet\":[{\"type\":\"scattercarpet\",\"marker\":{\"colorbar\":{\"outlinewidth\":0,\"ticks\":\"\"}}}],\"carpet\":[{\"aaxis\":{\"endlinecolor\":\"#2a3f5f\",\"gridcolor\":\"white\",\"linecolor\":\"white\",\"minorgridcolor\":\"white\",\"startlinecolor\":\"#2a3f5f\"},\"baxis\":{\"endlinecolor\":\"#2a3f5f\",\"gridcolor\":\"white\",\"linecolor\":\"white\",\"minorgridcolor\":\"white\",\"startlinecolor\":\"#2a3f5f\"},\"type\":\"carpet\"}],\"table\":[{\"cells\":{\"fill\":{\"color\":\"#EBF0F8\"},\"line\":{\"color\":\"white\"}},\"header\":{\"fill\":{\"color\":\"#C8D4E3\"},\"line\":{\"color\":\"white\"}},\"type\":\"table\"}],\"barpolar\":[{\"marker\":{\"line\":{\"color\":\"#E5ECF6\",\"width\":0.5},\"pattern\":{\"fillmode\":\"overlay\",\"size\":10,\"solidity\":0.2}},\"type\":\"barpolar\"}],\"pie\":[{\"automargin\":true,\"type\":\"pie\"}]},\"layout\":{\"autotypenumbers\":\"strict\",\"colorway\":[\"#636efa\",\"#EF553B\",\"#00cc96\",\"#ab63fa\",\"#FFA15A\",\"#19d3f3\",\"#FF6692\",\"#B6E880\",\"#FF97FF\",\"#FECB52\"],\"font\":{\"color\":\"#2a3f5f\"},\"hovermode\":\"closest\",\"hoverlabel\":{\"align\":\"left\"},\"paper_bgcolor\":\"white\",\"plot_bgcolor\":\"#E5ECF6\",\"polar\":{\"bgcolor\":\"#E5ECF6\",\"angularaxis\":{\"gridcolor\":\"white\",\"linecolor\":\"white\",\"ticks\":\"\"},\"radialaxis\":{\"gridcolor\":\"white\",\"linecolor\":\"white\",\"ticks\":\"\"}},\"ternary\":{\"bgcolor\":\"#E5ECF6\",\"aaxis\":{\"gridcolor\":\"white\",\"linecolor\":\"white\",\"ticks\":\"\"},\"baxis\":{\"gridcolor\":\"white\",\"linecolor\":\"white\",\"ticks\":\"\"},\"caxis\":{\"gridcolor\":\"white\",\"linecolor\":\"white\",\"ticks\":\"\"}},\"coloraxis\":{\"colorbar\":{\"outlinewidth\":0,\"ticks\":\"\"}},\"colorscale\":{\"sequential\":[[0.0,\"#0d0887\"],[0.1111111111111111,\"#46039f\"],[0.2222222222222222,\"#7201a8\"],[0.3333333333333333,\"#9c179e\"],[0.4444444444444444,\"#bd3786\"],[0.5555555555555556,\"#d8576b\"],[0.6666666666666666,\"#ed7953\"],[0.7777777777777778,\"#fb9f3a\"],[0.8888888888888888,\"#fdca26\"],[1.0,\"#f0f921\"]],\"sequentialminus\":[[0.0,\"#0d0887\"],[0.1111111111111111,\"#46039f\"],[0.2222222222222222,\"#7201a8\"],[0.3333333333333333,\"#9c179e\"],[0.4444444444444444,\"#bd3786\"],[0.5555555555555556,\"#d8576b\"],[0.6666666666666666,\"#ed7953\"],[0.7777777777777778,\"#fb9f3a\"],[0.8888888888888888,\"#fdca26\"],[1.0,\"#f0f921\"]],\"diverging\":[[0,\"#8e0152\"],[0.1,\"#c51b7d\"],[0.2,\"#de77ae\"],[0.3,\"#f1b6da\"],[0.4,\"#fde0ef\"],[0.5,\"#f7f7f7\"],[0.6,\"#e6f5d0\"],[0.7,\"#b8e186\"],[0.8,\"#7fbc41\"],[0.9,\"#4d9221\"],[1,\"#276419\"]]},\"xaxis\":{\"gridcolor\":\"white\",\"linecolor\":\"white\",\"ticks\":\"\",\"title\":{\"standoff\":15},\"zerolinecolor\":\"white\",\"automargin\":true,\"zerolinewidth\":2},\"yaxis\":{\"gridcolor\":\"white\",\"linecolor\":\"white\",\"ticks\":\"\",\"title\":{\"standoff\":15},\"zerolinecolor\":\"white\",\"automargin\":true,\"zerolinewidth\":2},\"scene\":{\"xaxis\":{\"backgroundcolor\":\"#E5ECF6\",\"gridcolor\":\"white\",\"linecolor\":\"white\",\"showbackground\":true,\"ticks\":\"\",\"zerolinecolor\":\"white\",\"gridwidth\":2},\"yaxis\":{\"backgroundcolor\":\"#E5ECF6\",\"gridcolor\":\"white\",\"linecolor\":\"white\",\"showbackground\":true,\"ticks\":\"\",\"zerolinecolor\":\"white\",\"gridwidth\":2},\"zaxis\":{\"backgroundcolor\":\"#E5ECF6\",\"gridcolor\":\"white\",\"linecolor\":\"white\",\"showbackground\":true,\"ticks\":\"\",\"zerolinecolor\":\"white\",\"gridwidth\":2}},\"shapedefaults\":{\"line\":{\"color\":\"#2a3f5f\"}},\"annotationdefaults\":{\"arrowcolor\":\"#2a3f5f\",\"arrowhead\":0,\"arrowwidth\":1},\"geo\":{\"bgcolor\":\"white\",\"landcolor\":\"#E5ECF6\",\"subunitcolor\":\"white\",\"showland\":true,\"showlakes\":true,\"lakecolor\":\"white\"},\"title\":{\"x\":0.05},\"mapbox\":{\"style\":\"light\"}}},\"xaxis\":{\"tickangle\":-45},\"barmode\":\"group\",\"title\":{\"text\":\"Metric: pearson\"}},                        {\"responsive\": true}                    ).then(function(){\n",
       "                            \n",
       "var gd = document.getElementById('83dc09c5-d802-4de3-a201-190351590900');\n",
       "var x = new MutationObserver(function (mutations, observer) {{\n",
       "        var display = window.getComputedStyle(gd).display;\n",
       "        if (!display || display === 'none') {{\n",
       "            console.log([gd, 'removed!']);\n",
       "            Plotly.purge(gd);\n",
       "            observer.disconnect();\n",
       "        }}\n",
       "}});\n",
       "\n",
       "// Listen for the removal of the full notebook cells\n",
       "var notebookContainer = gd.closest('#notebook-container');\n",
       "if (notebookContainer) {{\n",
       "    x.observe(notebookContainer, {childList: true});\n",
       "}}\n",
       "\n",
       "// Listen for the clearing of the current output cell\n",
       "var outputEl = gd.closest('.output');\n",
       "if (outputEl) {{\n",
       "    x.observe(outputEl, {childList: true});\n",
       "}}\n",
       "\n",
       "                        })                };                });            </script>        </div>"
      ]
     },
     "metadata": {},
     "output_type": "display_data"
    }
   ],
   "source": [
    "import numpy as np\n",
    "import plotly.graph_objects as go\n",
    "import scipy\n",
    "\n",
    "for metric in METRICS:\n",
    "\n",
    "    fig = go.Figure()\n",
    "\n",
    "    for model_id in MODEL_IDS:\n",
    "        hs_types = df[df[\"model_id\"] == model_id][\"hidden_state_name\"].unique()\n",
    "        # roi_maxes = {roi: -1 for roi in ROIS}\n",
    "        # roi_mins = {roi: 1 for roi in ROIS}\n",
    "        for hs_type in hs_types:\n",
    "            roi_scores = {roi: [] for roi in ROIS}\n",
    "            for subject in SUBJECTS:\n",
    "                for roi in ROIS:\n",
    "                    subject_roi_score = df[\n",
    "                        (df[\"model_id\"] == model_id) &\n",
    "                        (df[\"roi\"] == roi) &\n",
    "                        (df[\"subject\"] == subject) &\n",
    "                        (df[\"hidden_state_name\"] == hs_type)\n",
    "                    ][metric].values[0]\n",
    "\n",
    "                    # if np.isnan(subject_roi_score):\n",
    "                    #     subject_roi_score = 0\n",
    "\n",
    "                    # print(f\"{roi_scores[roi] = }\")\n",
    "                    roi_scores[roi].append(subject_roi_score)\n",
    "                    # roi_maxes[roi] = max(subject_roi_score, roi_maxes[roi])\n",
    "                    # roi_mins[roi] = min(subject_roi_score, roi_mins[roi])\n",
    "\n",
    "            error_y = {roi: scipy.stats.sem(roi_scores[roi]) for roi in ROIS}\n",
    "            for roi, score in roi_scores.items():\n",
    "                # roi_scores[roi] = sum(roi_scores[roi]) / len(roi_scores[roi])\n",
    "                roi_scores[roi] = np.nanmean(np.array(roi_scores[roi]))\n",
    "\n",
    "            # error_y = {roi: 1 for roi in ROIS}\n",
    "            # for roi in ROIS:\n",
    "            #     error_y[roi] = scipy.stats.sem()\n",
    "\n",
    "            fig.add_trace(go.Bar(\n",
    "                x=ROIS,\n",
    "                y=[roi_scores[roi] for roi in ROIS],\n",
    "                name=f\"{model_id} : {hs_type}\",\n",
    "                error_y=dict(type=\"data\", array=[error_y[roi] for roi in ROIS])\n",
    "            ))\n",
    "\n",
    "    fig.update_layout(barmode=\"group\", xaxis_tickangle=-45, title=f\"Metric: {metric}\")\n",
    "    fig.show()"
   ]
  }
 ],
 "metadata": {
  "kernelspec": {
   "display_name": "Python 3 (ipykernel)",
   "language": "python",
   "name": "python3"
  },
  "language_info": {
   "codemirror_mode": {
    "name": "ipython",
    "version": 3
   },
   "file_extension": ".py",
   "mimetype": "text/x-python",
   "name": "python",
   "nbconvert_exporter": "python",
   "pygments_lexer": "ipython3",
   "version": "3.10.13"
  }
 },
 "nbformat": 4,
 "nbformat_minor": 5
}
