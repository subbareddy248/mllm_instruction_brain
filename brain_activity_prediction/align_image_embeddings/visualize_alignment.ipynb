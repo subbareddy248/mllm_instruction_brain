{
 "cells": [
  {
   "cell_type": "code",
   "execution_count": 17,
   "id": "64aabd83-5e3b-40b6-96d8-2defd737af11",
   "metadata": {
    "tags": []
   },
   "outputs": [],
   "source": [
    "BASE_DIR = \"/tmp/akshett.jindal\""
   ]
  },
  {
   "cell_type": "code",
   "execution_count": 18,
   "id": "95cc75a3-85d2-4ab9-9ef5-c3c70d828dcf",
   "metadata": {
    "tags": []
   },
   "outputs": [],
   "source": [
    "MODEL_IDS = [\n",
    "    \"google/vit-huge-patch14-224-in21k\",\n",
    "    \"Salesforce/instructblip-vicuna-13b\",\n",
    "    \"HuggingFaceM4/idefics-9b-instruct\",\n",
    "    \"llava-hf/llava-1.5-13b-hf\",\n",
    "    \"MAGAer13/mplug-owl-llama-7b\",\n",
    "]\n",
    "SUBJECTS = [1, 2, 5, 7]"
   ]
  },
  {
   "cell_type": "code",
   "execution_count": 19,
   "id": "8bd916ff-9470-417f-b94e-648928a9793b",
   "metadata": {
    "tags": []
   },
   "outputs": [],
   "source": [
    "ROIS = [\n",
    "    \"HCP_MMP1\",\n",
    "    \"floc-bodies\",\n",
    "    \"floc-faces\",\n",
    "    \"floc-places\",\n",
    "    \"floc-words\",\n",
    "    \"prf-eccrois\",\n",
    "    \"prf-visualrois\",\n",
    "]\n",
    "METRICS = [\"r2\", \"pearson\"]"
   ]
  },
  {
   "cell_type": "code",
   "execution_count": 20,
   "id": "8446d339-c6b3-4e1f-b9ec-36981acc9577",
   "metadata": {
    "tags": []
   },
   "outputs": [
    {
     "data": {
      "text/html": [
       "<div>\n",
       "<style scoped>\n",
       "    .dataframe tbody tr th:only-of-type {\n",
       "        vertical-align: middle;\n",
       "    }\n",
       "\n",
       "    .dataframe tbody tr th {\n",
       "        vertical-align: top;\n",
       "    }\n",
       "\n",
       "    .dataframe thead th {\n",
       "        text-align: right;\n",
       "    }\n",
       "</style>\n",
       "<table border=\"1\" class=\"dataframe\">\n",
       "  <thead>\n",
       "    <tr style=\"text-align: right;\">\n",
       "      <th></th>\n",
       "      <th>model_id</th>\n",
       "      <th>subject</th>\n",
       "      <th>hidden_state_name</th>\n",
       "      <th>roi</th>\n",
       "      <th>r2</th>\n",
       "      <th>pearson</th>\n",
       "    </tr>\n",
       "  </thead>\n",
       "  <tbody>\n",
       "    <tr>\n",
       "      <th>0</th>\n",
       "      <td>google/vit-huge-patch14-224-in21k</td>\n",
       "      <td>1</td>\n",
       "      <td>hidden_states</td>\n",
       "      <td>HCP_MMP1</td>\n",
       "      <td>0.056795</td>\n",
       "      <td>0.150691</td>\n",
       "    </tr>\n",
       "    <tr>\n",
       "      <th>1</th>\n",
       "      <td>google/vit-huge-patch14-224-in21k</td>\n",
       "      <td>1</td>\n",
       "      <td>hidden_states</td>\n",
       "      <td>floc-bodies</td>\n",
       "      <td>0.127340</td>\n",
       "      <td>0.286457</td>\n",
       "    </tr>\n",
       "    <tr>\n",
       "      <th>2</th>\n",
       "      <td>google/vit-huge-patch14-224-in21k</td>\n",
       "      <td>1</td>\n",
       "      <td>hidden_states</td>\n",
       "      <td>floc-faces</td>\n",
       "      <td>0.068811</td>\n",
       "      <td>0.231604</td>\n",
       "    </tr>\n",
       "    <tr>\n",
       "      <th>3</th>\n",
       "      <td>google/vit-huge-patch14-224-in21k</td>\n",
       "      <td>1</td>\n",
       "      <td>hidden_states</td>\n",
       "      <td>floc-places</td>\n",
       "      <td>0.115491</td>\n",
       "      <td>0.305894</td>\n",
       "    </tr>\n",
       "    <tr>\n",
       "      <th>4</th>\n",
       "      <td>google/vit-huge-patch14-224-in21k</td>\n",
       "      <td>1</td>\n",
       "      <td>hidden_states</td>\n",
       "      <td>floc-words</td>\n",
       "      <td>0.049376</td>\n",
       "      <td>0.200117</td>\n",
       "    </tr>\n",
       "    <tr>\n",
       "      <th>...</th>\n",
       "      <td>...</td>\n",
       "      <td>...</td>\n",
       "      <td>...</td>\n",
       "      <td>...</td>\n",
       "      <td>...</td>\n",
       "      <td>...</td>\n",
       "    </tr>\n",
       "    <tr>\n",
       "      <th>191</th>\n",
       "      <td>MAGAer13/mplug-owl-llama-7b</td>\n",
       "      <td>7</td>\n",
       "      <td>vision_hidden_states</td>\n",
       "      <td>floc-faces</td>\n",
       "      <td>0.085896</td>\n",
       "      <td>0.250721</td>\n",
       "    </tr>\n",
       "    <tr>\n",
       "      <th>192</th>\n",
       "      <td>MAGAer13/mplug-owl-llama-7b</td>\n",
       "      <td>7</td>\n",
       "      <td>vision_hidden_states</td>\n",
       "      <td>floc-places</td>\n",
       "      <td>0.113734</td>\n",
       "      <td>0.311511</td>\n",
       "    </tr>\n",
       "    <tr>\n",
       "      <th>193</th>\n",
       "      <td>MAGAer13/mplug-owl-llama-7b</td>\n",
       "      <td>7</td>\n",
       "      <td>vision_hidden_states</td>\n",
       "      <td>floc-words</td>\n",
       "      <td>0.041700</td>\n",
       "      <td>0.181131</td>\n",
       "    </tr>\n",
       "    <tr>\n",
       "      <th>194</th>\n",
       "      <td>MAGAer13/mplug-owl-llama-7b</td>\n",
       "      <td>7</td>\n",
       "      <td>vision_hidden_states</td>\n",
       "      <td>prf-eccrois</td>\n",
       "      <td>0.017703</td>\n",
       "      <td>0.131426</td>\n",
       "    </tr>\n",
       "    <tr>\n",
       "      <th>195</th>\n",
       "      <td>MAGAer13/mplug-owl-llama-7b</td>\n",
       "      <td>7</td>\n",
       "      <td>vision_hidden_states</td>\n",
       "      <td>prf-visualrois</td>\n",
       "      <td>0.099095</td>\n",
       "      <td>0.279875</td>\n",
       "    </tr>\n",
       "  </tbody>\n",
       "</table>\n",
       "<p>196 rows × 6 columns</p>\n",
       "</div>"
      ],
      "text/plain": [
       "                              model_id  subject     hidden_state_name  \\\n",
       "0    google/vit-huge-patch14-224-in21k        1         hidden_states   \n",
       "1    google/vit-huge-patch14-224-in21k        1         hidden_states   \n",
       "2    google/vit-huge-patch14-224-in21k        1         hidden_states   \n",
       "3    google/vit-huge-patch14-224-in21k        1         hidden_states   \n",
       "4    google/vit-huge-patch14-224-in21k        1         hidden_states   \n",
       "..                                 ...      ...                   ...   \n",
       "191        MAGAer13/mplug-owl-llama-7b        7  vision_hidden_states   \n",
       "192        MAGAer13/mplug-owl-llama-7b        7  vision_hidden_states   \n",
       "193        MAGAer13/mplug-owl-llama-7b        7  vision_hidden_states   \n",
       "194        MAGAer13/mplug-owl-llama-7b        7  vision_hidden_states   \n",
       "195        MAGAer13/mplug-owl-llama-7b        7  vision_hidden_states   \n",
       "\n",
       "                roi        r2   pearson  \n",
       "0          HCP_MMP1  0.056795  0.150691  \n",
       "1       floc-bodies  0.127340  0.286457  \n",
       "2        floc-faces  0.068811  0.231604  \n",
       "3       floc-places  0.115491  0.305894  \n",
       "4        floc-words  0.049376  0.200117  \n",
       "..              ...       ...       ...  \n",
       "191      floc-faces  0.085896  0.250721  \n",
       "192     floc-places  0.113734  0.311511  \n",
       "193      floc-words  0.041700  0.181131  \n",
       "194     prf-eccrois  0.017703  0.131426  \n",
       "195  prf-visualrois  0.099095  0.279875  \n",
       "\n",
       "[196 rows x 6 columns]"
      ]
     },
     "execution_count": 20,
     "metadata": {},
     "output_type": "execute_result"
    }
   ],
   "source": [
    "import os.path\n",
    "import pandas\n",
    "import pickle\n",
    "\n",
    "rows = []\n",
    "\n",
    "for model_id in MODEL_IDS:\n",
    "\n",
    "    for subject in SUBJECTS:\n",
    "        model_name = model_id.replace(\"/\", \"_\").replace(\" \", \"_\")\n",
    "\n",
    "        scores_dir = os.path.join(BASE_DIR, \"final_scores\", model_name, f\"subj{subject:02}\")\n",
    "\n",
    "        # trn_scores_filepath = os.path.join(scores_dir, \"training.pkl\")\n",
    "        val_scores_filepath = os.path.join(scores_dir, \"validation.pkl\")\n",
    "\n",
    "        # with open(trn_scores_filepath, \"rb\") as f:\n",
    "        #     trn_scores = pickle.load(f)\n",
    "        with open(val_scores_filepath, \"rb\") as f:\n",
    "            val_scores = pickle.load(f)\n",
    "\n",
    "        # for hs_name, hs_scores in trn_scores.items():\n",
    "        #     print(tabulate_scores(hs_name, hs_scores, False))\n",
    "        #     print(f\"MODEL='{model_id}' => {hs_name}, SUBJECT={subject}\")\n",
    "        #     print()\n",
    "\n",
    "        for hs_name, hs_scores in val_scores.items():\n",
    "            for roi in ROIS:\n",
    "                row = {\n",
    "                    \"model_id\": model_id,\n",
    "                    \"subject\": subject,\n",
    "                    \"hidden_state_name\": hs_name,\n",
    "                    \"roi\": roi,\n",
    "                }\n",
    "                for metric in METRICS:\n",
    "                    row[metric] = hs_scores[metric][roi]\n",
    "                    # print(f\"{metric = }, {row[metric] = }\")\n",
    "\n",
    "                rows.append(row)\n",
    "\n",
    "df_data = {\n",
    "    key: [r[key] for r in rows]\n",
    "    for key in rows[0].keys()\n",
    "}\n",
    "\n",
    "df = pandas.DataFrame(data=df_data)\n",
    "df"
   ]
  },
  {
   "cell_type": "code",
   "execution_count": 21,
   "id": "57608e32-155e-43ef-8ae3-e84be6e19a81",
   "metadata": {
    "tags": []
   },
   "outputs": [
    {
     "data": {
      "text/plain": [
       "False"
      ]
     },
     "execution_count": 21,
     "metadata": {},
     "output_type": "execute_result"
    }
   ],
   "source": [
    "import numpy as np\n",
    "\n",
    "np.isnan(df[(df[\"model_id\"] == \"Salesforce/instructblip-vicuna-13b\") & (df[\"roi\"] == \"floc-places\") & (df[\"subject\"] == 1) & (df[\"hidden_state_name\"] == \"qformer_hidden_states\")][\"r2\"].values[0])"
   ]
  },
  {
   "cell_type": "code",
   "execution_count": 28,
   "id": "edd55203-795a-4951-a808-986619e3d764",
   "metadata": {
    "tags": []
   },
   "outputs": [
    {
     "data": {
      "application/vnd.plotly.v1+json": {
       "config": {
        "plotlyServerURL": "https://plot.ly"
       },
       "data": [
        {
         "error_y": {
          "array": [
           0.009079490788280964,
           0.008273093029856682,
           0.0214094091206789,
           0.01750900037586689,
           0.015607558190822601,
           0.007924343459308147,
           0.020149651914834976
          ],
          "type": "data"
         },
         "name": "google/vit-huge-patch14-224-in21k : hidden_states",
         "type": "bar",
         "x": [
          "HCP_MMP1",
          "floc-bodies",
          "floc-faces",
          "floc-places",
          "floc-words",
          "prf-eccrois",
          "prf-visualrois"
         ],
         "y": [
          0.06272638402879238,
          0.10714541748166084,
          0.08893564995378256,
          0.13564004562795162,
          0.061281257309019566,
          0.036583624547347426,
          0.15771115384995937
         ]
        },
        {
         "error_y": {
          "array": [
           0.008507637307047844,
           0.011982415802776814,
           0.03221677616238594,
           0.019977005198597908,
           0.023520812392234802,
           0.008162644691765308,
           0.018218958750367165
          ],
          "type": "data"
         },
         "name": "Salesforce/instructblip-vicuna-13b : qformer_hidden_states",
         "type": "bar",
         "x": [
          "HCP_MMP1",
          "floc-bodies",
          "floc-faces",
          "floc-places",
          "floc-words",
          "prf-eccrois",
          "prf-visualrois"
         ],
         "y": [
          0.03995086019858718,
          0.14279292710125446,
          0.10354704782366753,
          0.15608421340584755,
          0.07096417061984539,
          0.03130276268348098,
          0.09762967191636562
         ]
        },
        {
         "error_y": {
          "array": [
           0.009551484137773514,
           0.010746189393103123,
           0.027991289272904396,
           0.019282540306448936,
           0.021095074713230133,
           0.00863628275692463,
           0.0203609187155962
          ],
          "type": "data"
         },
         "name": "Salesforce/instructblip-vicuna-13b : vision_hidden_states",
         "type": "bar",
         "x": [
          "HCP_MMP1",
          "floc-bodies",
          "floc-faces",
          "floc-places",
          "floc-words",
          "prf-eccrois",
          "prf-visualrois"
         ],
         "y": [
          0.060611238703131676,
          0.13235492072999477,
          0.10693478211760521,
          0.15675193071365356,
          0.07577768806368113,
          0.041622279677540064,
          0.15254221856594086
         ]
        },
        {
         "error_y": {
          "array": [
           0.007461157627403736,
           0.011600307188928127,
           0.032060228288173676,
           0.018984002992510796,
           0.024072548374533653,
           0.008708535693585873,
           0.01667468249797821
          ],
          "type": "data"
         },
         "name": "HuggingFaceM4/idefics-9b-instruct : hidden_states",
         "type": "bar",
         "x": [
          "HCP_MMP1",
          "floc-bodies",
          "floc-faces",
          "floc-places",
          "floc-words",
          "prf-eccrois",
          "prf-visualrois"
         ],
         "y": [
          0.034375596325844526,
          0.13626712001860142,
          0.09773154277354479,
          0.14906597509980202,
          0.06640391517430544,
          0.02811808232218027,
          0.08549453876912594
         ]
        },
        {
         "error_y": {
          "array": [
           0.009399647824466228,
           0.012824395671486855,
           0.031985484063625336,
           0.01971854455769062,
           0.022925958037376404,
           0.007324008736759424,
           0.01899377442896366
          ],
          "type": "data"
         },
         "name": "llava-hf/llava-1.5-13b-hf : hidden_states",
         "type": "bar",
         "x": [
          "HCP_MMP1",
          "floc-bodies",
          "floc-faces",
          "floc-places",
          "floc-words",
          "prf-eccrois",
          "prf-visualrois"
         ],
         "y": [
          0.06054431851953268,
          0.1523059941828251,
          0.11810056306421757,
          0.17467261850833893,
          0.08226238377392292,
          0.03731555677950382,
          0.15187283419072628
         ]
        },
        {
         "error_y": {
          "array": [
           0.008919931948184967,
           0.00906058307737112,
           0.0251831766217947,
           0.01808071881532669,
           0.018590083345770836,
           0.00709276320412755,
           0.020365826785564423
          ],
          "type": "data"
         },
         "name": "MAGAer13/mplug-owl-llama-7b : vision_hidden_states",
         "type": "bar",
         "x": [
          "HCP_MMP1",
          "floc-bodies",
          "floc-faces",
          "floc-places",
          "floc-words",
          "prf-eccrois",
          "prf-visualrois"
         ],
         "y": [
          0.05345846898853779,
          0.11457141488790512,
          0.08964442182332277,
          0.13715218007564545,
          0.06121380627155304,
          0.03383026737719774,
          0.13631151989102364
         ]
        },
        {
         "error_y": {
          "array": [
           0.007679481990635395,
           0.013177418150007725,
           0.03377242386341095,
           0.021221671253442764,
           0.0239485502243042,
           0.008065836504101753,
           0.01674298755824566
          ],
          "type": "data"
         },
         "name": "MAGAer13/mplug-owl-llama-7b : language_hidden_states",
         "type": "bar",
         "x": [
          "HCP_MMP1",
          "floc-bodies",
          "floc-faces",
          "floc-places",
          "floc-words",
          "prf-eccrois",
          "prf-visualrois"
         ],
         "y": [
          0.036637724842876196,
          0.14611206948757172,
          0.10285350680351257,
          0.15726754069328308,
          0.06700065359473228,
          0.02710811886936426,
          0.090522900223732
         ]
        }
       ],
       "layout": {
        "autosize": true,
        "barmode": "group",
        "template": {
         "data": {
          "bar": [
           {
            "error_x": {
             "color": "#2a3f5f"
            },
            "error_y": {
             "color": "#2a3f5f"
            },
            "marker": {
             "line": {
              "color": "#E5ECF6",
              "width": 0.5
             },
             "pattern": {
              "fillmode": "overlay",
              "size": 10,
              "solidity": 0.2
             }
            },
            "type": "bar"
           }
          ],
          "barpolar": [
           {
            "marker": {
             "line": {
              "color": "#E5ECF6",
              "width": 0.5
             },
             "pattern": {
              "fillmode": "overlay",
              "size": 10,
              "solidity": 0.2
             }
            },
            "type": "barpolar"
           }
          ],
          "carpet": [
           {
            "aaxis": {
             "endlinecolor": "#2a3f5f",
             "gridcolor": "white",
             "linecolor": "white",
             "minorgridcolor": "white",
             "startlinecolor": "#2a3f5f"
            },
            "baxis": {
             "endlinecolor": "#2a3f5f",
             "gridcolor": "white",
             "linecolor": "white",
             "minorgridcolor": "white",
             "startlinecolor": "#2a3f5f"
            },
            "type": "carpet"
           }
          ],
          "choropleth": [
           {
            "colorbar": {
             "outlinewidth": 0,
             "ticks": ""
            },
            "type": "choropleth"
           }
          ],
          "contour": [
           {
            "colorbar": {
             "outlinewidth": 0,
             "ticks": ""
            },
            "colorscale": [
             [
              0,
              "#0d0887"
             ],
             [
              0.1111111111111111,
              "#46039f"
             ],
             [
              0.2222222222222222,
              "#7201a8"
             ],
             [
              0.3333333333333333,
              "#9c179e"
             ],
             [
              0.4444444444444444,
              "#bd3786"
             ],
             [
              0.5555555555555556,
              "#d8576b"
             ],
             [
              0.6666666666666666,
              "#ed7953"
             ],
             [
              0.7777777777777778,
              "#fb9f3a"
             ],
             [
              0.8888888888888888,
              "#fdca26"
             ],
             [
              1,
              "#f0f921"
             ]
            ],
            "type": "contour"
           }
          ],
          "contourcarpet": [
           {
            "colorbar": {
             "outlinewidth": 0,
             "ticks": ""
            },
            "type": "contourcarpet"
           }
          ],
          "heatmap": [
           {
            "colorbar": {
             "outlinewidth": 0,
             "ticks": ""
            },
            "colorscale": [
             [
              0,
              "#0d0887"
             ],
             [
              0.1111111111111111,
              "#46039f"
             ],
             [
              0.2222222222222222,
              "#7201a8"
             ],
             [
              0.3333333333333333,
              "#9c179e"
             ],
             [
              0.4444444444444444,
              "#bd3786"
             ],
             [
              0.5555555555555556,
              "#d8576b"
             ],
             [
              0.6666666666666666,
              "#ed7953"
             ],
             [
              0.7777777777777778,
              "#fb9f3a"
             ],
             [
              0.8888888888888888,
              "#fdca26"
             ],
             [
              1,
              "#f0f921"
             ]
            ],
            "type": "heatmap"
           }
          ],
          "heatmapgl": [
           {
            "colorbar": {
             "outlinewidth": 0,
             "ticks": ""
            },
            "colorscale": [
             [
              0,
              "#0d0887"
             ],
             [
              0.1111111111111111,
              "#46039f"
             ],
             [
              0.2222222222222222,
              "#7201a8"
             ],
             [
              0.3333333333333333,
              "#9c179e"
             ],
             [
              0.4444444444444444,
              "#bd3786"
             ],
             [
              0.5555555555555556,
              "#d8576b"
             ],
             [
              0.6666666666666666,
              "#ed7953"
             ],
             [
              0.7777777777777778,
              "#fb9f3a"
             ],
             [
              0.8888888888888888,
              "#fdca26"
             ],
             [
              1,
              "#f0f921"
             ]
            ],
            "type": "heatmapgl"
           }
          ],
          "histogram": [
           {
            "marker": {
             "pattern": {
              "fillmode": "overlay",
              "size": 10,
              "solidity": 0.2
             }
            },
            "type": "histogram"
           }
          ],
          "histogram2d": [
           {
            "colorbar": {
             "outlinewidth": 0,
             "ticks": ""
            },
            "colorscale": [
             [
              0,
              "#0d0887"
             ],
             [
              0.1111111111111111,
              "#46039f"
             ],
             [
              0.2222222222222222,
              "#7201a8"
             ],
             [
              0.3333333333333333,
              "#9c179e"
             ],
             [
              0.4444444444444444,
              "#bd3786"
             ],
             [
              0.5555555555555556,
              "#d8576b"
             ],
             [
              0.6666666666666666,
              "#ed7953"
             ],
             [
              0.7777777777777778,
              "#fb9f3a"
             ],
             [
              0.8888888888888888,
              "#fdca26"
             ],
             [
              1,
              "#f0f921"
             ]
            ],
            "type": "histogram2d"
           }
          ],
          "histogram2dcontour": [
           {
            "colorbar": {
             "outlinewidth": 0,
             "ticks": ""
            },
            "colorscale": [
             [
              0,
              "#0d0887"
             ],
             [
              0.1111111111111111,
              "#46039f"
             ],
             [
              0.2222222222222222,
              "#7201a8"
             ],
             [
              0.3333333333333333,
              "#9c179e"
             ],
             [
              0.4444444444444444,
              "#bd3786"
             ],
             [
              0.5555555555555556,
              "#d8576b"
             ],
             [
              0.6666666666666666,
              "#ed7953"
             ],
             [
              0.7777777777777778,
              "#fb9f3a"
             ],
             [
              0.8888888888888888,
              "#fdca26"
             ],
             [
              1,
              "#f0f921"
             ]
            ],
            "type": "histogram2dcontour"
           }
          ],
          "mesh3d": [
           {
            "colorbar": {
             "outlinewidth": 0,
             "ticks": ""
            },
            "type": "mesh3d"
           }
          ],
          "parcoords": [
           {
            "line": {
             "colorbar": {
              "outlinewidth": 0,
              "ticks": ""
             }
            },
            "type": "parcoords"
           }
          ],
          "pie": [
           {
            "automargin": true,
            "type": "pie"
           }
          ],
          "scatter": [
           {
            "fillpattern": {
             "fillmode": "overlay",
             "size": 10,
             "solidity": 0.2
            },
            "type": "scatter"
           }
          ],
          "scatter3d": [
           {
            "line": {
             "colorbar": {
              "outlinewidth": 0,
              "ticks": ""
             }
            },
            "marker": {
             "colorbar": {
              "outlinewidth": 0,
              "ticks": ""
             }
            },
            "type": "scatter3d"
           }
          ],
          "scattercarpet": [
           {
            "marker": {
             "colorbar": {
              "outlinewidth": 0,
              "ticks": ""
             }
            },
            "type": "scattercarpet"
           }
          ],
          "scattergeo": [
           {
            "marker": {
             "colorbar": {
              "outlinewidth": 0,
              "ticks": ""
             }
            },
            "type": "scattergeo"
           }
          ],
          "scattergl": [
           {
            "marker": {
             "colorbar": {
              "outlinewidth": 0,
              "ticks": ""
             }
            },
            "type": "scattergl"
           }
          ],
          "scattermapbox": [
           {
            "marker": {
             "colorbar": {
              "outlinewidth": 0,
              "ticks": ""
             }
            },
            "type": "scattermapbox"
           }
          ],
          "scatterpolar": [
           {
            "marker": {
             "colorbar": {
              "outlinewidth": 0,
              "ticks": ""
             }
            },
            "type": "scatterpolar"
           }
          ],
          "scatterpolargl": [
           {
            "marker": {
             "colorbar": {
              "outlinewidth": 0,
              "ticks": ""
             }
            },
            "type": "scatterpolargl"
           }
          ],
          "scatterternary": [
           {
            "marker": {
             "colorbar": {
              "outlinewidth": 0,
              "ticks": ""
             }
            },
            "type": "scatterternary"
           }
          ],
          "surface": [
           {
            "colorbar": {
             "outlinewidth": 0,
             "ticks": ""
            },
            "colorscale": [
             [
              0,
              "#0d0887"
             ],
             [
              0.1111111111111111,
              "#46039f"
             ],
             [
              0.2222222222222222,
              "#7201a8"
             ],
             [
              0.3333333333333333,
              "#9c179e"
             ],
             [
              0.4444444444444444,
              "#bd3786"
             ],
             [
              0.5555555555555556,
              "#d8576b"
             ],
             [
              0.6666666666666666,
              "#ed7953"
             ],
             [
              0.7777777777777778,
              "#fb9f3a"
             ],
             [
              0.8888888888888888,
              "#fdca26"
             ],
             [
              1,
              "#f0f921"
             ]
            ],
            "type": "surface"
           }
          ],
          "table": [
           {
            "cells": {
             "fill": {
              "color": "#EBF0F8"
             },
             "line": {
              "color": "white"
             }
            },
            "header": {
             "fill": {
              "color": "#C8D4E3"
             },
             "line": {
              "color": "white"
             }
            },
            "type": "table"
           }
          ]
         },
         "layout": {
          "annotationdefaults": {
           "arrowcolor": "#2a3f5f",
           "arrowhead": 0,
           "arrowwidth": 1
          },
          "autotypenumbers": "strict",
          "coloraxis": {
           "colorbar": {
            "outlinewidth": 0,
            "ticks": ""
           }
          },
          "colorscale": {
           "diverging": [
            [
             0,
             "#8e0152"
            ],
            [
             0.1,
             "#c51b7d"
            ],
            [
             0.2,
             "#de77ae"
            ],
            [
             0.3,
             "#f1b6da"
            ],
            [
             0.4,
             "#fde0ef"
            ],
            [
             0.5,
             "#f7f7f7"
            ],
            [
             0.6,
             "#e6f5d0"
            ],
            [
             0.7,
             "#b8e186"
            ],
            [
             0.8,
             "#7fbc41"
            ],
            [
             0.9,
             "#4d9221"
            ],
            [
             1,
             "#276419"
            ]
           ],
           "sequential": [
            [
             0,
             "#0d0887"
            ],
            [
             0.1111111111111111,
             "#46039f"
            ],
            [
             0.2222222222222222,
             "#7201a8"
            ],
            [
             0.3333333333333333,
             "#9c179e"
            ],
            [
             0.4444444444444444,
             "#bd3786"
            ],
            [
             0.5555555555555556,
             "#d8576b"
            ],
            [
             0.6666666666666666,
             "#ed7953"
            ],
            [
             0.7777777777777778,
             "#fb9f3a"
            ],
            [
             0.8888888888888888,
             "#fdca26"
            ],
            [
             1,
             "#f0f921"
            ]
           ],
           "sequentialminus": [
            [
             0,
             "#0d0887"
            ],
            [
             0.1111111111111111,
             "#46039f"
            ],
            [
             0.2222222222222222,
             "#7201a8"
            ],
            [
             0.3333333333333333,
             "#9c179e"
            ],
            [
             0.4444444444444444,
             "#bd3786"
            ],
            [
             0.5555555555555556,
             "#d8576b"
            ],
            [
             0.6666666666666666,
             "#ed7953"
            ],
            [
             0.7777777777777778,
             "#fb9f3a"
            ],
            [
             0.8888888888888888,
             "#fdca26"
            ],
            [
             1,
             "#f0f921"
            ]
           ]
          },
          "colorway": [
           "#636efa",
           "#EF553B",
           "#00cc96",
           "#ab63fa",
           "#FFA15A",
           "#19d3f3",
           "#FF6692",
           "#B6E880",
           "#FF97FF",
           "#FECB52"
          ],
          "font": {
           "color": "#2a3f5f"
          },
          "geo": {
           "bgcolor": "white",
           "lakecolor": "white",
           "landcolor": "#E5ECF6",
           "showlakes": true,
           "showland": true,
           "subunitcolor": "white"
          },
          "hoverlabel": {
           "align": "left"
          },
          "hovermode": "closest",
          "mapbox": {
           "style": "light"
          },
          "paper_bgcolor": "white",
          "plot_bgcolor": "#E5ECF6",
          "polar": {
           "angularaxis": {
            "gridcolor": "white",
            "linecolor": "white",
            "ticks": ""
           },
           "bgcolor": "#E5ECF6",
           "radialaxis": {
            "gridcolor": "white",
            "linecolor": "white",
            "ticks": ""
           }
          },
          "scene": {
           "xaxis": {
            "backgroundcolor": "#E5ECF6",
            "gridcolor": "white",
            "gridwidth": 2,
            "linecolor": "white",
            "showbackground": true,
            "ticks": "",
            "zerolinecolor": "white"
           },
           "yaxis": {
            "backgroundcolor": "#E5ECF6",
            "gridcolor": "white",
            "gridwidth": 2,
            "linecolor": "white",
            "showbackground": true,
            "ticks": "",
            "zerolinecolor": "white"
           },
           "zaxis": {
            "backgroundcolor": "#E5ECF6",
            "gridcolor": "white",
            "gridwidth": 2,
            "linecolor": "white",
            "showbackground": true,
            "ticks": "",
            "zerolinecolor": "white"
           }
          },
          "shapedefaults": {
           "line": {
            "color": "#2a3f5f"
           }
          },
          "ternary": {
           "aaxis": {
            "gridcolor": "white",
            "linecolor": "white",
            "ticks": ""
           },
           "baxis": {
            "gridcolor": "white",
            "linecolor": "white",
            "ticks": ""
           },
           "bgcolor": "#E5ECF6",
           "caxis": {
            "gridcolor": "white",
            "linecolor": "white",
            "ticks": ""
           }
          },
          "title": {
           "x": 0.05
          },
          "xaxis": {
           "automargin": true,
           "gridcolor": "white",
           "linecolor": "white",
           "ticks": "",
           "title": {
            "standoff": 15
           },
           "zerolinecolor": "white",
           "zerolinewidth": 2
          },
          "yaxis": {
           "automargin": true,
           "gridcolor": "white",
           "linecolor": "white",
           "ticks": "",
           "title": {
            "standoff": 15
           },
           "zerolinecolor": "white",
           "zerolinewidth": 2
          }
         }
        },
        "title": {
         "text": "Metric: r2"
        },
        "xaxis": {
         "autorange": true,
         "range": [
          -0.5,
          6.5
         ],
         "tickangle": -45,
         "type": "category"
        },
        "yaxis": {
         "autorange": true,
         "range": [
          0,
          0.20462227691161006
         ],
         "type": "linear"
        }
       }
      },
      "image/png": "[encoded data removed]",
      "text/html": [
       "<div>                            <div id=\"7eb46e09-c754-4007-8754-f3e78266d4ed\" class=\"plotly-graph-div\" style=\"height:525px; width:100%;\"></div>            <script type=\"text/javascript\">                require([\"plotly\"], function(Plotly) {                    window.PLOTLYENV=window.PLOTLYENV || {};                                    if (document.getElementById(\"7eb46e09-c754-4007-8754-f3e78266d4ed\")) {                    Plotly.newPlot(                        \"7eb46e09-c754-4007-8754-f3e78266d4ed\",                        [{\"error_y\":{\"array\":[0.009079490788280964,0.008273093029856682,0.0214094091206789,0.01750900037586689,0.015607558190822601,0.007924343459308147,0.020149651914834976],\"type\":\"data\"},\"name\":\"google\\u002fvit-huge-patch14-224-in21k : hidden_states\",\"x\":[\"HCP_MMP1\",\"floc-bodies\",\"floc-faces\",\"floc-places\",\"floc-words\",\"prf-eccrois\",\"prf-visualrois\"],\"y\":[0.06272638402879238,0.10714541748166084,0.08893564995378256,0.13564004562795162,0.061281257309019566,0.036583624547347426,0.15771115384995937],\"type\":\"bar\"},{\"error_y\":{\"array\":[0.008507637307047844,0.011982415802776814,0.03221677616238594,0.019977005198597908,0.023520812392234802,0.008162644691765308,0.018218958750367165],\"type\":\"data\"},\"name\":\"Salesforce\\u002finstructblip-vicuna-13b : qformer_hidden_states\",\"x\":[\"HCP_MMP1\",\"floc-bodies\",\"floc-faces\",\"floc-places\",\"floc-words\",\"prf-eccrois\",\"prf-visualrois\"],\"y\":[0.03995086019858718,0.14279292710125446,0.10354704782366753,0.15608421340584755,0.07096417061984539,0.03130276268348098,0.09762967191636562],\"type\":\"bar\"},{\"error_y\":{\"array\":[0.009551484137773514,0.010746189393103123,0.027991289272904396,0.019282540306448936,0.021095074713230133,0.00863628275692463,0.0203609187155962],\"type\":\"data\"},\"name\":\"Salesforce\\u002finstructblip-vicuna-13b : vision_hidden_states\",\"x\":[\"HCP_MMP1\",\"floc-bodies\",\"floc-faces\",\"floc-places\",\"floc-words\",\"prf-eccrois\",\"prf-visualrois\"],\"y\":[0.060611238703131676,0.13235492072999477,0.10693478211760521,0.15675193071365356,0.07577768806368113,0.041622279677540064,0.15254221856594086],\"type\":\"bar\"},{\"error_y\":{\"array\":[0.007461157627403736,0.011600307188928127,0.032060228288173676,0.018984002992510796,0.024072548374533653,0.008708535693585873,0.01667468249797821],\"type\":\"data\"},\"name\":\"HuggingFaceM4\\u002fidefics-9b-instruct : hidden_states\",\"x\":[\"HCP_MMP1\",\"floc-bodies\",\"floc-faces\",\"floc-places\",\"floc-words\",\"prf-eccrois\",\"prf-visualrois\"],\"y\":[0.034375596325844526,0.13626712001860142,0.09773154277354479,0.14906597509980202,0.06640391517430544,0.02811808232218027,0.08549453876912594],\"type\":\"bar\"},{\"error_y\":{\"array\":[0.009399647824466228,0.012824395671486855,0.031985484063625336,0.01971854455769062,0.022925958037376404,0.007324008736759424,0.01899377442896366],\"type\":\"data\"},\"name\":\"llava-hf\\u002fllava-1.5-13b-hf : hidden_states\",\"x\":[\"HCP_MMP1\",\"floc-bodies\",\"floc-faces\",\"floc-places\",\"floc-words\",\"prf-eccrois\",\"prf-visualrois\"],\"y\":[0.06054431851953268,0.1523059941828251,0.11810056306421757,0.17467261850833893,0.08226238377392292,0.03731555677950382,0.15187283419072628],\"type\":\"bar\"},{\"error_y\":{\"array\":[0.008919931948184967,0.00906058307737112,0.0251831766217947,0.01808071881532669,0.018590083345770836,0.00709276320412755,0.020365826785564423],\"type\":\"data\"},\"name\":\"MAGAer13\\u002fmplug-owl-llama-7b : vision_hidden_states\",\"x\":[\"HCP_MMP1\",\"floc-bodies\",\"floc-faces\",\"floc-places\",\"floc-words\",\"prf-eccrois\",\"prf-visualrois\"],\"y\":[0.05345846898853779,0.11457141488790512,0.08964442182332277,0.13715218007564545,0.06121380627155304,0.03383026737719774,0.13631151989102364],\"type\":\"bar\"},{\"error_y\":{\"array\":[0.007679481990635395,0.013177418150007725,0.03377242386341095,0.021221671253442764,0.0239485502243042,0.008065836504101753,0.01674298755824566],\"type\":\"data\"},\"name\":\"MAGAer13\\u002fmplug-owl-llama-7b : language_hidden_states\",\"x\":[\"HCP_MMP1\",\"floc-bodies\",\"floc-faces\",\"floc-places\",\"floc-words\",\"prf-eccrois\",\"prf-visualrois\"],\"y\":[0.036637724842876196,0.14611206948757172,0.10285350680351257,0.15726754069328308,0.06700065359473228,0.02710811886936426,0.090522900223732],\"type\":\"bar\"}],                        {\"template\":{\"data\":{\"histogram2dcontour\":[{\"type\":\"histogram2dcontour\",\"colorbar\":{\"outlinewidth\":0,\"ticks\":\"\"},\"colorscale\":[[0.0,\"#0d0887\"],[0.1111111111111111,\"#46039f\"],[0.2222222222222222,\"#7201a8\"],[0.3333333333333333,\"#9c179e\"],[0.4444444444444444,\"#bd3786\"],[0.5555555555555556,\"#d8576b\"],[0.6666666666666666,\"#ed7953\"],[0.7777777777777778,\"#fb9f3a\"],[0.8888888888888888,\"#fdca26\"],[1.0,\"#f0f921\"]]}],\"choropleth\":[{\"type\":\"choropleth\",\"colorbar\":{\"outlinewidth\":0,\"ticks\":\"\"}}],\"histogram2d\":[{\"type\":\"histogram2d\",\"colorbar\":{\"outlinewidth\":0,\"ticks\":\"\"},\"colorscale\":[[0.0,\"#0d0887\"],[0.1111111111111111,\"#46039f\"],[0.2222222222222222,\"#7201a8\"],[0.3333333333333333,\"#9c179e\"],[0.4444444444444444,\"#bd3786\"],[0.5555555555555556,\"#d8576b\"],[0.6666666666666666,\"#ed7953\"],[0.7777777777777778,\"#fb9f3a\"],[0.8888888888888888,\"#fdca26\"],[1.0,\"#f0f921\"]]}],\"heatmap\":[{\"type\":\"heatmap\",\"colorbar\":{\"outlinewidth\":0,\"ticks\":\"\"},\"colorscale\":[[0.0,\"#0d0887\"],[0.1111111111111111,\"#46039f\"],[0.2222222222222222,\"#7201a8\"],[0.3333333333333333,\"#9c179e\"],[0.4444444444444444,\"#bd3786\"],[0.5555555555555556,\"#d8576b\"],[0.6666666666666666,\"#ed7953\"],[0.7777777777777778,\"#fb9f3a\"],[0.8888888888888888,\"#fdca26\"],[1.0,\"#f0f921\"]]}],\"heatmapgl\":[{\"type\":\"heatmapgl\",\"colorbar\":{\"outlinewidth\":0,\"ticks\":\"\"},\"colorscale\":[[0.0,\"#0d0887\"],[0.1111111111111111,\"#46039f\"],[0.2222222222222222,\"#7201a8\"],[0.3333333333333333,\"#9c179e\"],[0.4444444444444444,\"#bd3786\"],[0.5555555555555556,\"#d8576b\"],[0.6666666666666666,\"#ed7953\"],[0.7777777777777778,\"#fb9f3a\"],[0.8888888888888888,\"#fdca26\"],[1.0,\"#f0f921\"]]}],\"contourcarpet\":[{\"type\":\"contourcarpet\",\"colorbar\":{\"outlinewidth\":0,\"ticks\":\"\"}}],\"contour\":[{\"type\":\"contour\",\"colorbar\":{\"outlinewidth\":0,\"ticks\":\"\"},\"colorscale\":[[0.0,\"#0d0887\"],[0.1111111111111111,\"#46039f\"],[0.2222222222222222,\"#7201a8\"],[0.3333333333333333,\"#9c179e\"],[0.4444444444444444,\"#bd3786\"],[0.5555555555555556,\"#d8576b\"],[0.6666666666666666,\"#ed7953\"],[0.7777777777777778,\"#fb9f3a\"],[0.8888888888888888,\"#fdca26\"],[1.0,\"#f0f921\"]]}],\"surface\":[{\"type\":\"surface\",\"colorbar\":{\"outlinewidth\":0,\"ticks\":\"\"},\"colorscale\":[[0.0,\"#0d0887\"],[0.1111111111111111,\"#46039f\"],[0.2222222222222222,\"#7201a8\"],[0.3333333333333333,\"#9c179e\"],[0.4444444444444444,\"#bd3786\"],[0.5555555555555556,\"#d8576b\"],[0.6666666666666666,\"#ed7953\"],[0.7777777777777778,\"#fb9f3a\"],[0.8888888888888888,\"#fdca26\"],[1.0,\"#f0f921\"]]}],\"mesh3d\":[{\"type\":\"mesh3d\",\"colorbar\":{\"outlinewidth\":0,\"ticks\":\"\"}}],\"scatter\":[{\"fillpattern\":{\"fillmode\":\"overlay\",\"size\":10,\"solidity\":0.2},\"type\":\"scatter\"}],\"parcoords\":[{\"type\":\"parcoords\",\"line\":{\"colorbar\":{\"outlinewidth\":0,\"ticks\":\"\"}}}],\"scatterpolargl\":[{\"type\":\"scatterpolargl\",\"marker\":{\"colorbar\":{\"outlinewidth\":0,\"ticks\":\"\"}}}],\"bar\":[{\"error_x\":{\"color\":\"#2a3f5f\"},\"error_y\":{\"color\":\"#2a3f5f\"},\"marker\":{\"line\":{\"color\":\"#E5ECF6\",\"width\":0.5},\"pattern\":{\"fillmode\":\"overlay\",\"size\":10,\"solidity\":0.2}},\"type\":\"bar\"}],\"scattergeo\":[{\"type\":\"scattergeo\",\"marker\":{\"colorbar\":{\"outlinewidth\":0,\"ticks\":\"\"}}}],\"scatterpolar\":[{\"type\":\"scatterpolar\",\"marker\":{\"colorbar\":{\"outlinewidth\":0,\"ticks\":\"\"}}}],\"histogram\":[{\"marker\":{\"pattern\":{\"fillmode\":\"overlay\",\"size\":10,\"solidity\":0.2}},\"type\":\"histogram\"}],\"scattergl\":[{\"type\":\"scattergl\",\"marker\":{\"colorbar\":{\"outlinewidth\":0,\"ticks\":\"\"}}}],\"scatter3d\":[{\"type\":\"scatter3d\",\"line\":{\"colorbar\":{\"outlinewidth\":0,\"ticks\":\"\"}},\"marker\":{\"colorbar\":{\"outlinewidth\":0,\"ticks\":\"\"}}}],\"scattermapbox\":[{\"type\":\"scattermapbox\",\"marker\":{\"colorbar\":{\"outlinewidth\":0,\"ticks\":\"\"}}}],\"scatterternary\":[{\"type\":\"scatterternary\",\"marker\":{\"colorbar\":{\"outlinewidth\":0,\"ticks\":\"\"}}}],\"scattercarpet\":[{\"type\":\"scattercarpet\",\"marker\":{\"colorbar\":{\"outlinewidth\":0,\"ticks\":\"\"}}}],\"carpet\":[{\"aaxis\":{\"endlinecolor\":\"#2a3f5f\",\"gridcolor\":\"white\",\"linecolor\":\"white\",\"minorgridcolor\":\"white\",\"startlinecolor\":\"#2a3f5f\"},\"baxis\":{\"endlinecolor\":\"#2a3f5f\",\"gridcolor\":\"white\",\"linecolor\":\"white\",\"minorgridcolor\":\"white\",\"startlinecolor\":\"#2a3f5f\"},\"type\":\"carpet\"}],\"table\":[{\"cells\":{\"fill\":{\"color\":\"#EBF0F8\"},\"line\":{\"color\":\"white\"}},\"header\":{\"fill\":{\"color\":\"#C8D4E3\"},\"line\":{\"color\":\"white\"}},\"type\":\"table\"}],\"barpolar\":[{\"marker\":{\"line\":{\"color\":\"#E5ECF6\",\"width\":0.5},\"pattern\":{\"fillmode\":\"overlay\",\"size\":10,\"solidity\":0.2}},\"type\":\"barpolar\"}],\"pie\":[{\"automargin\":true,\"type\":\"pie\"}]},\"layout\":{\"autotypenumbers\":\"strict\",\"colorway\":[\"#636efa\",\"#EF553B\",\"#00cc96\",\"#ab63fa\",\"#FFA15A\",\"#19d3f3\",\"#FF6692\",\"#B6E880\",\"#FF97FF\",\"#FECB52\"],\"font\":{\"color\":\"#2a3f5f\"},\"hovermode\":\"closest\",\"hoverlabel\":{\"align\":\"left\"},\"paper_bgcolor\":\"white\",\"plot_bgcolor\":\"#E5ECF6\",\"polar\":{\"bgcolor\":\"#E5ECF6\",\"angularaxis\":{\"gridcolor\":\"white\",\"linecolor\":\"white\",\"ticks\":\"\"},\"radialaxis\":{\"gridcolor\":\"white\",\"linecolor\":\"white\",\"ticks\":\"\"}},\"ternary\":{\"bgcolor\":\"#E5ECF6\",\"aaxis\":{\"gridcolor\":\"white\",\"linecolor\":\"white\",\"ticks\":\"\"},\"baxis\":{\"gridcolor\":\"white\",\"linecolor\":\"white\",\"ticks\":\"\"},\"caxis\":{\"gridcolor\":\"white\",\"linecolor\":\"white\",\"ticks\":\"\"}},\"coloraxis\":{\"colorbar\":{\"outlinewidth\":0,\"ticks\":\"\"}},\"colorscale\":{\"sequential\":[[0.0,\"#0d0887\"],[0.1111111111111111,\"#46039f\"],[0.2222222222222222,\"#7201a8\"],[0.3333333333333333,\"#9c179e\"],[0.4444444444444444,\"#bd3786\"],[0.5555555555555556,\"#d8576b\"],[0.6666666666666666,\"#ed7953\"],[0.7777777777777778,\"#fb9f3a\"],[0.8888888888888888,\"#fdca26\"],[1.0,\"#f0f921\"]],\"sequentialminus\":[[0.0,\"#0d0887\"],[0.1111111111111111,\"#46039f\"],[0.2222222222222222,\"#7201a8\"],[0.3333333333333333,\"#9c179e\"],[0.4444444444444444,\"#bd3786\"],[0.5555555555555556,\"#d8576b\"],[0.6666666666666666,\"#ed7953\"],[0.7777777777777778,\"#fb9f3a\"],[0.8888888888888888,\"#fdca26\"],[1.0,\"#f0f921\"]],\"diverging\":[[0,\"#8e0152\"],[0.1,\"#c51b7d\"],[0.2,\"#de77ae\"],[0.3,\"#f1b6da\"],[0.4,\"#fde0ef\"],[0.5,\"#f7f7f7\"],[0.6,\"#e6f5d0\"],[0.7,\"#b8e186\"],[0.8,\"#7fbc41\"],[0.9,\"#4d9221\"],[1,\"#276419\"]]},\"xaxis\":{\"gridcolor\":\"white\",\"linecolor\":\"white\",\"ticks\":\"\",\"title\":{\"standoff\":15},\"zerolinecolor\":\"white\",\"automargin\":true,\"zerolinewidth\":2},\"yaxis\":{\"gridcolor\":\"white\",\"linecolor\":\"white\",\"ticks\":\"\",\"title\":{\"standoff\":15},\"zerolinecolor\":\"white\",\"automargin\":true,\"zerolinewidth\":2},\"scene\":{\"xaxis\":{\"backgroundcolor\":\"#E5ECF6\",\"gridcolor\":\"white\",\"linecolor\":\"white\",\"showbackground\":true,\"ticks\":\"\",\"zerolinecolor\":\"white\",\"gridwidth\":2},\"yaxis\":{\"backgroundcolor\":\"#E5ECF6\",\"gridcolor\":\"white\",\"linecolor\":\"white\",\"showbackground\":true,\"ticks\":\"\",\"zerolinecolor\":\"white\",\"gridwidth\":2},\"zaxis\":{\"backgroundcolor\":\"#E5ECF6\",\"gridcolor\":\"white\",\"linecolor\":\"white\",\"showbackground\":true,\"ticks\":\"\",\"zerolinecolor\":\"white\",\"gridwidth\":2}},\"shapedefaults\":{\"line\":{\"color\":\"#2a3f5f\"}},\"annotationdefaults\":{\"arrowcolor\":\"#2a3f5f\",\"arrowhead\":0,\"arrowwidth\":1},\"geo\":{\"bgcolor\":\"white\",\"landcolor\":\"#E5ECF6\",\"subunitcolor\":\"white\",\"showland\":true,\"showlakes\":true,\"lakecolor\":\"white\"},\"title\":{\"x\":0.05},\"mapbox\":{\"style\":\"light\"}}},\"xaxis\":{\"tickangle\":-45},\"barmode\":\"group\",\"title\":{\"text\":\"Metric: r2\"}},                        {\"responsive\": true}                    ).then(function(){\n",
       "                            \n",
       "var gd = document.getElementById('7eb46e09-c754-4007-8754-f3e78266d4ed');\n",
       "var x = new MutationObserver(function (mutations, observer) {{\n",
       "        var display = window.getComputedStyle(gd).display;\n",
       "        if (!display || display === 'none') {{\n",
       "            console.log([gd, 'removed!']);\n",
       "            Plotly.purge(gd);\n",
       "            observer.disconnect();\n",
       "        }}\n",
       "}});\n",
       "\n",
       "// Listen for the removal of the full notebook cells\n",
       "var notebookContainer = gd.closest('#notebook-container');\n",
       "if (notebookContainer) {{\n",
       "    x.observe(notebookContainer, {childList: true});\n",
       "}}\n",
       "\n",
       "// Listen for the clearing of the current output cell\n",
       "var outputEl = gd.closest('.output');\n",
       "if (outputEl) {{\n",
       "    x.observe(outputEl, {childList: true});\n",
       "}}\n",
       "\n",
       "                        })                };                });            </script>        </div>"
      ]
     },
     "metadata": {},
     "output_type": "display_data"
    },
    {
     "data": {
      "application/vnd.plotly.v1+json": {
       "config": {
        "plotlyServerURL": "https://plot.ly"
       },
       "data": [
        {
         "error_y": {
          "array": [
           0.012992885895073414,
           0.013637937605381012,
           0.0309719480574131,
           0.015983719378709793,
           0.027317088097333908,
           0.016760626807808876,
           0.02631770819425583
          ],
          "type": "data"
         },
         "name": "google/vit-huge-patch14-224-in21k : hidden_states",
         "type": "bar",
         "x": [
          "HCP_MMP1",
          "floc-bodies",
          "floc-faces",
          "floc-places",
          "floc-words",
          "prf-eccrois",
          "prf-visualrois"
         ],
         "y": [
          0.15969761088490486,
          0.24612915515899658,
          0.2543385289609432,
          0.3275694102048874,
          0.21699916198849678,
          0.16882185265421867,
          0.35353102535009384
         ]
        },
        {
         "error_y": {
          "array": [
           0,
           0,
           0,
           0,
           0,
           0,
           0
          ],
          "type": "data"
         },
         "name": "Salesforce/instructblip-vicuna-13b : qformer_hidden_states",
         "type": "bar",
         "x": [
          "HCP_MMP1",
          "floc-bodies",
          "floc-faces",
          "floc-places",
          "floc-words",
          "prf-eccrois",
          "prf-visualrois"
         ],
         "y": [
          0,
          0,
          0,
          0,
          0,
          0,
          0
         ]
        },
        {
         "error_y": {
          "array": [
           0.013994181528687477,
           0.015295027755200863,
           0.037430401891469955,
           0.016424471512436867,
           0.03351713344454765,
           0.016876665875315666,
           0.026292050257325172
          ],
          "type": "data"
         },
         "name": "Salesforce/instructblip-vicuna-13b : vision_hidden_states",
         "type": "bar",
         "x": [
          "HCP_MMP1",
          "floc-bodies",
          "floc-faces",
          "floc-places",
          "floc-words",
          "prf-eccrois",
          "prf-visualrois"
         ],
         "y": [
          0.15717410296201706,
          0.2739783227443695,
          0.279059499502182,
          0.3539203852415085,
          0.24048209190368652,
          0.1767822466790676,
          0.3477548062801361
         ]
        },
        {
         "error_y": {
          "array": [
           0,
           0,
           0,
           0,
           0,
           0,
           0
          ],
          "type": "data"
         },
         "name": "HuggingFaceM4/idefics-9b-instruct : hidden_states",
         "type": "bar",
         "x": [
          "HCP_MMP1",
          "floc-bodies",
          "floc-faces",
          "floc-places",
          "floc-words",
          "prf-eccrois",
          "prf-visualrois"
         ],
         "y": [
          0,
          0,
          0,
          0,
          0,
          0,
          0
         ]
        },
        {
         "error_y": {
          "array": [
           0.013938474468886852,
           0.016908185556530952,
           0.04124368727207184,
           0.015793701633810997,
           0.035450175404548645,
           0.014560935087502003,
           0.024704119190573692
          ],
          "type": "data"
         },
         "name": "llava-hf/llava-1.5-13b-hf : hidden_states",
         "type": "bar",
         "x": [
          "HCP_MMP1",
          "floc-bodies",
          "floc-faces",
          "floc-places",
          "floc-words",
          "prf-eccrois",
          "prf-visualrois"
         ],
         "y": [
          0.15693552047014236,
          0.2970952168107033,
          0.29474643617868423,
          0.37774592638015747,
          0.25264347717165947,
          0.17035707086324692,
          0.3459566682577133
         ]
        },
        {
         "error_y": {
          "array": [
           0.0135854072868824,
           0.0139169218018651,
           0.0359925739467144,
           0.016663232818245888,
           0.03179341182112694,
           0.014864645898342133,
           0.026957526803016663
          ],
          "type": "data"
         },
         "name": "MAGAer13/mplug-owl-llama-7b : vision_hidden_states",
         "type": "bar",
         "x": [
          "HCP_MMP1",
          "floc-bodies",
          "floc-faces",
          "floc-places",
          "floc-words",
          "prf-eccrois",
          "prf-visualrois"
         ],
         "y": [
          0.14789903163909912,
          0.2528780959546566,
          0.25284871459007263,
          0.32882168889045715,
          0.21456071361899376,
          0.16177476570010185,
          0.3299739733338356
         ]
        },
        {
         "error_y": {
          "array": [
           0.013834673911333084,
           0.017527839168906212,
           0.04539123922586441,
           0.01854861155152321,
           0.03920607268810272,
           0.017124133184552193,
           0.025596963241696358
          ],
          "type": "data"
         },
         "name": "MAGAer13/mplug-owl-llama-7b : language_hidden_states",
         "type": "bar",
         "x": [
          "HCP_MMP1",
          "floc-bodies",
          "floc-faces",
          "floc-places",
          "floc-words",
          "prf-eccrois",
          "prf-visualrois"
         ],
         "y": [
          0.12375104054808617,
          0.29030586034059525,
          0.2714523747563362,
          0.35693709552288055,
          0.22582003846764565,
          0.14654088765382767,
          0.27059534564614296
         ]
        }
       ],
       "layout": {
        "autosize": true,
        "barmode": "group",
        "template": {
         "data": {
          "bar": [
           {
            "error_x": {
             "color": "#2a3f5f"
            },
            "error_y": {
             "color": "#2a3f5f"
            },
            "marker": {
             "line": {
              "color": "#E5ECF6",
              "width": 0.5
             },
             "pattern": {
              "fillmode": "overlay",
              "size": 10,
              "solidity": 0.2
             }
            },
            "type": "bar"
           }
          ],
          "barpolar": [
           {
            "marker": {
             "line": {
              "color": "#E5ECF6",
              "width": 0.5
             },
             "pattern": {
              "fillmode": "overlay",
              "size": 10,
              "solidity": 0.2
             }
            },
            "type": "barpolar"
           }
          ],
          "carpet": [
           {
            "aaxis": {
             "endlinecolor": "#2a3f5f",
             "gridcolor": "white",
             "linecolor": "white",
             "minorgridcolor": "white",
             "startlinecolor": "#2a3f5f"
            },
            "baxis": {
             "endlinecolor": "#2a3f5f",
             "gridcolor": "white",
             "linecolor": "white",
             "minorgridcolor": "white",
             "startlinecolor": "#2a3f5f"
            },
            "type": "carpet"
           }
          ],
          "choropleth": [
           {
            "colorbar": {
             "outlinewidth": 0,
             "ticks": ""
            },
            "type": "choropleth"
           }
          ],
          "contour": [
           {
            "colorbar": {
             "outlinewidth": 0,
             "ticks": ""
            },
            "colorscale": [
             [
              0,
              "#0d0887"
             ],
             [
              0.1111111111111111,
              "#46039f"
             ],
             [
              0.2222222222222222,
              "#7201a8"
             ],
             [
              0.3333333333333333,
              "#9c179e"
             ],
             [
              0.4444444444444444,
              "#bd3786"
             ],
             [
              0.5555555555555556,
              "#d8576b"
             ],
             [
              0.6666666666666666,
              "#ed7953"
             ],
             [
              0.7777777777777778,
              "#fb9f3a"
             ],
             [
              0.8888888888888888,
              "#fdca26"
             ],
             [
              1,
              "#f0f921"
             ]
            ],
            "type": "contour"
           }
          ],
          "contourcarpet": [
           {
            "colorbar": {
             "outlinewidth": 0,
             "ticks": ""
            },
            "type": "contourcarpet"
           }
          ],
          "heatmap": [
           {
            "colorbar": {
             "outlinewidth": 0,
             "ticks": ""
            },
            "colorscale": [
             [
              0,
              "#0d0887"
             ],
             [
              0.1111111111111111,
              "#46039f"
             ],
             [
              0.2222222222222222,
              "#7201a8"
             ],
             [
              0.3333333333333333,
              "#9c179e"
             ],
             [
              0.4444444444444444,
              "#bd3786"
             ],
             [
              0.5555555555555556,
              "#d8576b"
             ],
             [
              0.6666666666666666,
              "#ed7953"
             ],
             [
              0.7777777777777778,
              "#fb9f3a"
             ],
             [
              0.8888888888888888,
              "#fdca26"
             ],
             [
              1,
              "#f0f921"
             ]
            ],
            "type": "heatmap"
           }
          ],
          "heatmapgl": [
           {
            "colorbar": {
             "outlinewidth": 0,
             "ticks": ""
            },
            "colorscale": [
             [
              0,
              "#0d0887"
             ],
             [
              0.1111111111111111,
              "#46039f"
             ],
             [
              0.2222222222222222,
              "#7201a8"
             ],
             [
              0.3333333333333333,
              "#9c179e"
             ],
             [
              0.4444444444444444,
              "#bd3786"
             ],
             [
              0.5555555555555556,
              "#d8576b"
             ],
             [
              0.6666666666666666,
              "#ed7953"
             ],
             [
              0.7777777777777778,
              "#fb9f3a"
             ],
             [
              0.8888888888888888,
              "#fdca26"
             ],
             [
              1,
              "#f0f921"
             ]
            ],
            "type": "heatmapgl"
           }
          ],
          "histogram": [
           {
            "marker": {
             "pattern": {
              "fillmode": "overlay",
              "size": 10,
              "solidity": 0.2
             }
            },
            "type": "histogram"
           }
          ],
          "histogram2d": [
           {
            "colorbar": {
             "outlinewidth": 0,
             "ticks": ""
            },
            "colorscale": [
             [
              0,
              "#0d0887"
             ],
             [
              0.1111111111111111,
              "#46039f"
             ],
             [
              0.2222222222222222,
              "#7201a8"
             ],
             [
              0.3333333333333333,
              "#9c179e"
             ],
             [
              0.4444444444444444,
              "#bd3786"
             ],
             [
              0.5555555555555556,
              "#d8576b"
             ],
             [
              0.6666666666666666,
              "#ed7953"
             ],
             [
              0.7777777777777778,
              "#fb9f3a"
             ],
             [
              0.8888888888888888,
              "#fdca26"
             ],
             [
              1,
              "#f0f921"
             ]
            ],
            "type": "histogram2d"
           }
          ],
          "histogram2dcontour": [
           {
            "colorbar": {
             "outlinewidth": 0,
             "ticks": ""
            },
            "colorscale": [
             [
              0,
              "#0d0887"
             ],
             [
              0.1111111111111111,
              "#46039f"
             ],
             [
              0.2222222222222222,
              "#7201a8"
             ],
             [
              0.3333333333333333,
              "#9c179e"
             ],
             [
              0.4444444444444444,
              "#bd3786"
             ],
             [
              0.5555555555555556,
              "#d8576b"
             ],
             [
              0.6666666666666666,
              "#ed7953"
             ],
             [
              0.7777777777777778,
              "#fb9f3a"
             ],
             [
              0.8888888888888888,
              "#fdca26"
             ],
             [
              1,
              "#f0f921"
             ]
            ],
            "type": "histogram2dcontour"
           }
          ],
          "mesh3d": [
           {
            "colorbar": {
             "outlinewidth": 0,
             "ticks": ""
            },
            "type": "mesh3d"
           }
          ],
          "parcoords": [
           {
            "line": {
             "colorbar": {
              "outlinewidth": 0,
              "ticks": ""
             }
            },
            "type": "parcoords"
           }
          ],
          "pie": [
           {
            "automargin": true,
            "type": "pie"
           }
          ],
          "scatter": [
           {
            "fillpattern": {
             "fillmode": "overlay",
             "size": 10,
             "solidity": 0.2
            },
            "type": "scatter"
           }
          ],
          "scatter3d": [
           {
            "line": {
             "colorbar": {
              "outlinewidth": 0,
              "ticks": ""
             }
            },
            "marker": {
             "colorbar": {
              "outlinewidth": 0,
              "ticks": ""
             }
            },
            "type": "scatter3d"
           }
          ],
          "scattercarpet": [
           {
            "marker": {
             "colorbar": {
              "outlinewidth": 0,
              "ticks": ""
             }
            },
            "type": "scattercarpet"
           }
          ],
          "scattergeo": [
           {
            "marker": {
             "colorbar": {
              "outlinewidth": 0,
              "ticks": ""
             }
            },
            "type": "scattergeo"
           }
          ],
          "scattergl": [
           {
            "marker": {
             "colorbar": {
              "outlinewidth": 0,
              "ticks": ""
             }
            },
            "type": "scattergl"
           }
          ],
          "scattermapbox": [
           {
            "marker": {
             "colorbar": {
              "outlinewidth": 0,
              "ticks": ""
             }
            },
            "type": "scattermapbox"
           }
          ],
          "scatterpolar": [
           {
            "marker": {
             "colorbar": {
              "outlinewidth": 0,
              "ticks": ""
             }
            },
            "type": "scatterpolar"
           }
          ],
          "scatterpolargl": [
           {
            "marker": {
             "colorbar": {
              "outlinewidth": 0,
              "ticks": ""
             }
            },
            "type": "scatterpolargl"
           }
          ],
          "scatterternary": [
           {
            "marker": {
             "colorbar": {
              "outlinewidth": 0,
              "ticks": ""
             }
            },
            "type": "scatterternary"
           }
          ],
          "surface": [
           {
            "colorbar": {
             "outlinewidth": 0,
             "ticks": ""
            },
            "colorscale": [
             [
              0,
              "#0d0887"
             ],
             [
              0.1111111111111111,
              "#46039f"
             ],
             [
              0.2222222222222222,
              "#7201a8"
             ],
             [
              0.3333333333333333,
              "#9c179e"
             ],
             [
              0.4444444444444444,
              "#bd3786"
             ],
             [
              0.5555555555555556,
              "#d8576b"
             ],
             [
              0.6666666666666666,
              "#ed7953"
             ],
             [
              0.7777777777777778,
              "#fb9f3a"
             ],
             [
              0.8888888888888888,
              "#fdca26"
             ],
             [
              1,
              "#f0f921"
             ]
            ],
            "type": "surface"
           }
          ],
          "table": [
           {
            "cells": {
             "fill": {
              "color": "#EBF0F8"
             },
             "line": {
              "color": "white"
             }
            },
            "header": {
             "fill": {
              "color": "#C8D4E3"
             },
             "line": {
              "color": "white"
             }
            },
            "type": "table"
           }
          ]
         },
         "layout": {
          "annotationdefaults": {
           "arrowcolor": "#2a3f5f",
           "arrowhead": 0,
           "arrowwidth": 1
          },
          "autotypenumbers": "strict",
          "coloraxis": {
           "colorbar": {
            "outlinewidth": 0,
            "ticks": ""
           }
          },
          "colorscale": {
           "diverging": [
            [
             0,
             "#8e0152"
            ],
            [
             0.1,
             "#c51b7d"
            ],
            [
             0.2,
             "#de77ae"
            ],
            [
             0.3,
             "#f1b6da"
            ],
            [
             0.4,
             "#fde0ef"
            ],
            [
             0.5,
             "#f7f7f7"
            ],
            [
             0.6,
             "#e6f5d0"
            ],
            [
             0.7,
             "#b8e186"
            ],
            [
             0.8,
             "#7fbc41"
            ],
            [
             0.9,
             "#4d9221"
            ],
            [
             1,
             "#276419"
            ]
           ],
           "sequential": [
            [
             0,
             "#0d0887"
            ],
            [
             0.1111111111111111,
             "#46039f"
            ],
            [
             0.2222222222222222,
             "#7201a8"
            ],
            [
             0.3333333333333333,
             "#9c179e"
            ],
            [
             0.4444444444444444,
             "#bd3786"
            ],
            [
             0.5555555555555556,
             "#d8576b"
            ],
            [
             0.6666666666666666,
             "#ed7953"
            ],
            [
             0.7777777777777778,
             "#fb9f3a"
            ],
            [
             0.8888888888888888,
             "#fdca26"
            ],
            [
             1,
             "#f0f921"
            ]
           ],
           "sequentialminus": [
            [
             0,
             "#0d0887"
            ],
            [
             0.1111111111111111,
             "#46039f"
            ],
            [
             0.2222222222222222,
             "#7201a8"
            ],
            [
             0.3333333333333333,
             "#9c179e"
            ],
            [
             0.4444444444444444,
             "#bd3786"
            ],
            [
             0.5555555555555556,
             "#d8576b"
            ],
            [
             0.6666666666666666,
             "#ed7953"
            ],
            [
             0.7777777777777778,
             "#fb9f3a"
            ],
            [
             0.8888888888888888,
             "#fdca26"
            ],
            [
             1,
             "#f0f921"
            ]
           ]
          },
          "colorway": [
           "#636efa",
           "#EF553B",
           "#00cc96",
           "#ab63fa",
           "#FFA15A",
           "#19d3f3",
           "#FF6692",
           "#B6E880",
           "#FF97FF",
           "#FECB52"
          ],
          "font": {
           "color": "#2a3f5f"
          },
          "geo": {
           "bgcolor": "white",
           "lakecolor": "white",
           "landcolor": "#E5ECF6",
           "showlakes": true,
           "showland": true,
           "subunitcolor": "white"
          },
          "hoverlabel": {
           "align": "left"
          },
          "hovermode": "closest",
          "mapbox": {
           "style": "light"
          },
          "paper_bgcolor": "white",
          "plot_bgcolor": "#E5ECF6",
          "polar": {
           "angularaxis": {
            "gridcolor": "white",
            "linecolor": "white",
            "ticks": ""
           },
           "bgcolor": "#E5ECF6",
           "radialaxis": {
            "gridcolor": "white",
            "linecolor": "white",
            "ticks": ""
           }
          },
          "scene": {
           "xaxis": {
            "backgroundcolor": "#E5ECF6",
            "gridcolor": "white",
            "gridwidth": 2,
            "linecolor": "white",
            "showbackground": true,
            "ticks": "",
            "zerolinecolor": "white"
           },
           "yaxis": {
            "backgroundcolor": "#E5ECF6",
            "gridcolor": "white",
            "gridwidth": 2,
            "linecolor": "white",
            "showbackground": true,
            "ticks": "",
            "zerolinecolor": "white"
           },
           "zaxis": {
            "backgroundcolor": "#E5ECF6",
            "gridcolor": "white",
            "gridwidth": 2,
            "linecolor": "white",
            "showbackground": true,
            "ticks": "",
            "zerolinecolor": "white"
           }
          },
          "shapedefaults": {
           "line": {
            "color": "#2a3f5f"
           }
          },
          "ternary": {
           "aaxis": {
            "gridcolor": "white",
            "linecolor": "white",
            "ticks": ""
           },
           "baxis": {
            "gridcolor": "white",
            "linecolor": "white",
            "ticks": ""
           },
           "bgcolor": "#E5ECF6",
           "caxis": {
            "gridcolor": "white",
            "linecolor": "white",
            "ticks": ""
           }
          },
          "title": {
           "x": 0.05
          },
          "xaxis": {
           "automargin": true,
           "gridcolor": "white",
           "linecolor": "white",
           "ticks": "",
           "title": {
            "standoff": 15
           },
           "zerolinecolor": "white",
           "zerolinewidth": 2
          },
          "yaxis": {
           "automargin": true,
           "gridcolor": "white",
           "linecolor": "white",
           "ticks": "",
           "title": {
            "standoff": 15
           },
           "zerolinecolor": "white",
           "zerolinewidth": 2
          }
         }
        },
        "title": {
         "text": "Metric: pearson"
        },
        "xaxis": {
         "autorange": true,
         "range": [
          -0.5,
          6.5
         ],
         "tickangle": -45,
         "type": "category"
        },
        "yaxis": {
         "autorange": true,
         "range": [
          0,
          0.4142522400147036
         ],
         "type": "linear"
        }
       }
      },
      "image/png": "[encoded data removed]",
      "text/html": [
       "<div>                            <div id=\"cddda3da-d571-46d3-b507-5dd91961a6e0\" class=\"plotly-graph-div\" style=\"height:525px; width:100%;\"></div>            <script type=\"text/javascript\">                require([\"plotly\"], function(Plotly) {                    window.PLOTLYENV=window.PLOTLYENV || {};                                    if (document.getElementById(\"cddda3da-d571-46d3-b507-5dd91961a6e0\")) {                    Plotly.newPlot(                        \"cddda3da-d571-46d3-b507-5dd91961a6e0\",                        [{\"error_y\":{\"array\":[0.012992885895073414,0.013637937605381012,0.0309719480574131,0.015983719378709793,0.027317088097333908,0.016760626807808876,0.02631770819425583],\"type\":\"data\"},\"name\":\"google\\u002fvit-huge-patch14-224-in21k : hidden_states\",\"x\":[\"HCP_MMP1\",\"floc-bodies\",\"floc-faces\",\"floc-places\",\"floc-words\",\"prf-eccrois\",\"prf-visualrois\"],\"y\":[0.15969761088490486,0.24612915515899658,0.2543385289609432,0.3275694102048874,0.21699916198849678,0.16882185265421867,0.35353102535009384],\"type\":\"bar\"},{\"error_y\":{\"array\":[0.0,0.0,0.0,0.0,0.0,0.0,0.0],\"type\":\"data\"},\"name\":\"Salesforce\\u002finstructblip-vicuna-13b : qformer_hidden_states\",\"x\":[\"HCP_MMP1\",\"floc-bodies\",\"floc-faces\",\"floc-places\",\"floc-words\",\"prf-eccrois\",\"prf-visualrois\"],\"y\":[0.0,0.0,0.0,0.0,0.0,0.0,0.0],\"type\":\"bar\"},{\"error_y\":{\"array\":[0.013994181528687477,0.015295027755200863,0.037430401891469955,0.016424471512436867,0.03351713344454765,0.016876665875315666,0.026292050257325172],\"type\":\"data\"},\"name\":\"Salesforce\\u002finstructblip-vicuna-13b : vision_hidden_states\",\"x\":[\"HCP_MMP1\",\"floc-bodies\",\"floc-faces\",\"floc-places\",\"floc-words\",\"prf-eccrois\",\"prf-visualrois\"],\"y\":[0.15717410296201706,0.2739783227443695,0.279059499502182,0.3539203852415085,0.24048209190368652,0.1767822466790676,0.3477548062801361],\"type\":\"bar\"},{\"error_y\":{\"array\":[0.0,0.0,0.0,0.0,0.0,0.0,0.0],\"type\":\"data\"},\"name\":\"HuggingFaceM4\\u002fidefics-9b-instruct : hidden_states\",\"x\":[\"HCP_MMP1\",\"floc-bodies\",\"floc-faces\",\"floc-places\",\"floc-words\",\"prf-eccrois\",\"prf-visualrois\"],\"y\":[0.0,0.0,0.0,0.0,0.0,0.0,0.0],\"type\":\"bar\"},{\"error_y\":{\"array\":[0.013938474468886852,0.016908185556530952,0.04124368727207184,0.015793701633810997,0.035450175404548645,0.014560935087502003,0.024704119190573692],\"type\":\"data\"},\"name\":\"llava-hf\\u002fllava-1.5-13b-hf : hidden_states\",\"x\":[\"HCP_MMP1\",\"floc-bodies\",\"floc-faces\",\"floc-places\",\"floc-words\",\"prf-eccrois\",\"prf-visualrois\"],\"y\":[0.15693552047014236,0.2970952168107033,0.29474643617868423,0.37774592638015747,0.25264347717165947,0.17035707086324692,0.3459566682577133],\"type\":\"bar\"},{\"error_y\":{\"array\":[0.0135854072868824,0.0139169218018651,0.0359925739467144,0.016663232818245888,0.03179341182112694,0.014864645898342133,0.026957526803016663],\"type\":\"data\"},\"name\":\"MAGAer13\\u002fmplug-owl-llama-7b : vision_hidden_states\",\"x\":[\"HCP_MMP1\",\"floc-bodies\",\"floc-faces\",\"floc-places\",\"floc-words\",\"prf-eccrois\",\"prf-visualrois\"],\"y\":[0.14789903163909912,0.2528780959546566,0.25284871459007263,0.32882168889045715,0.21456071361899376,0.16177476570010185,0.3299739733338356],\"type\":\"bar\"},{\"error_y\":{\"array\":[0.013834673911333084,0.017527839168906212,0.04539123922586441,0.01854861155152321,0.03920607268810272,0.017124133184552193,0.025596963241696358],\"type\":\"data\"},\"name\":\"MAGAer13\\u002fmplug-owl-llama-7b : language_hidden_states\",\"x\":[\"HCP_MMP1\",\"floc-bodies\",\"floc-faces\",\"floc-places\",\"floc-words\",\"prf-eccrois\",\"prf-visualrois\"],\"y\":[0.12375104054808617,0.29030586034059525,0.2714523747563362,0.35693709552288055,0.22582003846764565,0.14654088765382767,0.27059534564614296],\"type\":\"bar\"}],                        {\"template\":{\"data\":{\"histogram2dcontour\":[{\"type\":\"histogram2dcontour\",\"colorbar\":{\"outlinewidth\":0,\"ticks\":\"\"},\"colorscale\":[[0.0,\"#0d0887\"],[0.1111111111111111,\"#46039f\"],[0.2222222222222222,\"#7201a8\"],[0.3333333333333333,\"#9c179e\"],[0.4444444444444444,\"#bd3786\"],[0.5555555555555556,\"#d8576b\"],[0.6666666666666666,\"#ed7953\"],[0.7777777777777778,\"#fb9f3a\"],[0.8888888888888888,\"#fdca26\"],[1.0,\"#f0f921\"]]}],\"choropleth\":[{\"type\":\"choropleth\",\"colorbar\":{\"outlinewidth\":0,\"ticks\":\"\"}}],\"histogram2d\":[{\"type\":\"histogram2d\",\"colorbar\":{\"outlinewidth\":0,\"ticks\":\"\"},\"colorscale\":[[0.0,\"#0d0887\"],[0.1111111111111111,\"#46039f\"],[0.2222222222222222,\"#7201a8\"],[0.3333333333333333,\"#9c179e\"],[0.4444444444444444,\"#bd3786\"],[0.5555555555555556,\"#d8576b\"],[0.6666666666666666,\"#ed7953\"],[0.7777777777777778,\"#fb9f3a\"],[0.8888888888888888,\"#fdca26\"],[1.0,\"#f0f921\"]]}],\"heatmap\":[{\"type\":\"heatmap\",\"colorbar\":{\"outlinewidth\":0,\"ticks\":\"\"},\"colorscale\":[[0.0,\"#0d0887\"],[0.1111111111111111,\"#46039f\"],[0.2222222222222222,\"#7201a8\"],[0.3333333333333333,\"#9c179e\"],[0.4444444444444444,\"#bd3786\"],[0.5555555555555556,\"#d8576b\"],[0.6666666666666666,\"#ed7953\"],[0.7777777777777778,\"#fb9f3a\"],[0.8888888888888888,\"#fdca26\"],[1.0,\"#f0f921\"]]}],\"heatmapgl\":[{\"type\":\"heatmapgl\",\"colorbar\":{\"outlinewidth\":0,\"ticks\":\"\"},\"colorscale\":[[0.0,\"#0d0887\"],[0.1111111111111111,\"#46039f\"],[0.2222222222222222,\"#7201a8\"],[0.3333333333333333,\"#9c179e\"],[0.4444444444444444,\"#bd3786\"],[0.5555555555555556,\"#d8576b\"],[0.6666666666666666,\"#ed7953\"],[0.7777777777777778,\"#fb9f3a\"],[0.8888888888888888,\"#fdca26\"],[1.0,\"#f0f921\"]]}],\"contourcarpet\":[{\"type\":\"contourcarpet\",\"colorbar\":{\"outlinewidth\":0,\"ticks\":\"\"}}],\"contour\":[{\"type\":\"contour\",\"colorbar\":{\"outlinewidth\":0,\"ticks\":\"\"},\"colorscale\":[[0.0,\"#0d0887\"],[0.1111111111111111,\"#46039f\"],[0.2222222222222222,\"#7201a8\"],[0.3333333333333333,\"#9c179e\"],[0.4444444444444444,\"#bd3786\"],[0.5555555555555556,\"#d8576b\"],[0.6666666666666666,\"#ed7953\"],[0.7777777777777778,\"#fb9f3a\"],[0.8888888888888888,\"#fdca26\"],[1.0,\"#f0f921\"]]}],\"surface\":[{\"type\":\"surface\",\"colorbar\":{\"outlinewidth\":0,\"ticks\":\"\"},\"colorscale\":[[0.0,\"#0d0887\"],[0.1111111111111111,\"#46039f\"],[0.2222222222222222,\"#7201a8\"],[0.3333333333333333,\"#9c179e\"],[0.4444444444444444,\"#bd3786\"],[0.5555555555555556,\"#d8576b\"],[0.6666666666666666,\"#ed7953\"],[0.7777777777777778,\"#fb9f3a\"],[0.8888888888888888,\"#fdca26\"],[1.0,\"#f0f921\"]]}],\"mesh3d\":[{\"type\":\"mesh3d\",\"colorbar\":{\"outlinewidth\":0,\"ticks\":\"\"}}],\"scatter\":[{\"fillpattern\":{\"fillmode\":\"overlay\",\"size\":10,\"solidity\":0.2},\"type\":\"scatter\"}],\"parcoords\":[{\"type\":\"parcoords\",\"line\":{\"colorbar\":{\"outlinewidth\":0,\"ticks\":\"\"}}}],\"scatterpolargl\":[{\"type\":\"scatterpolargl\",\"marker\":{\"colorbar\":{\"outlinewidth\":0,\"ticks\":\"\"}}}],\"bar\":[{\"error_x\":{\"color\":\"#2a3f5f\"},\"error_y\":{\"color\":\"#2a3f5f\"},\"marker\":{\"line\":{\"color\":\"#E5ECF6\",\"width\":0.5},\"pattern\":{\"fillmode\":\"overlay\",\"size\":10,\"solidity\":0.2}},\"type\":\"bar\"}],\"scattergeo\":[{\"type\":\"scattergeo\",\"marker\":{\"colorbar\":{\"outlinewidth\":0,\"ticks\":\"\"}}}],\"scatterpolar\":[{\"type\":\"scatterpolar\",\"marker\":{\"colorbar\":{\"outlinewidth\":0,\"ticks\":\"\"}}}],\"histogram\":[{\"marker\":{\"pattern\":{\"fillmode\":\"overlay\",\"size\":10,\"solidity\":0.2}},\"type\":\"histogram\"}],\"scattergl\":[{\"type\":\"scattergl\",\"marker\":{\"colorbar\":{\"outlinewidth\":0,\"ticks\":\"\"}}}],\"scatter3d\":[{\"type\":\"scatter3d\",\"line\":{\"colorbar\":{\"outlinewidth\":0,\"ticks\":\"\"}},\"marker\":{\"colorbar\":{\"outlinewidth\":0,\"ticks\":\"\"}}}],\"scattermapbox\":[{\"type\":\"scattermapbox\",\"marker\":{\"colorbar\":{\"outlinewidth\":0,\"ticks\":\"\"}}}],\"scatterternary\":[{\"type\":\"scatterternary\",\"marker\":{\"colorbar\":{\"outlinewidth\":0,\"ticks\":\"\"}}}],\"scattercarpet\":[{\"type\":\"scattercarpet\",\"marker\":{\"colorbar\":{\"outlinewidth\":0,\"ticks\":\"\"}}}],\"carpet\":[{\"aaxis\":{\"endlinecolor\":\"#2a3f5f\",\"gridcolor\":\"white\",\"linecolor\":\"white\",\"minorgridcolor\":\"white\",\"startlinecolor\":\"#2a3f5f\"},\"baxis\":{\"endlinecolor\":\"#2a3f5f\",\"gridcolor\":\"white\",\"linecolor\":\"white\",\"minorgridcolor\":\"white\",\"startlinecolor\":\"#2a3f5f\"},\"type\":\"carpet\"}],\"table\":[{\"cells\":{\"fill\":{\"color\":\"#EBF0F8\"},\"line\":{\"color\":\"white\"}},\"header\":{\"fill\":{\"color\":\"#C8D4E3\"},\"line\":{\"color\":\"white\"}},\"type\":\"table\"}],\"barpolar\":[{\"marker\":{\"line\":{\"color\":\"#E5ECF6\",\"width\":0.5},\"pattern\":{\"fillmode\":\"overlay\",\"size\":10,\"solidity\":0.2}},\"type\":\"barpolar\"}],\"pie\":[{\"automargin\":true,\"type\":\"pie\"}]},\"layout\":{\"autotypenumbers\":\"strict\",\"colorway\":[\"#636efa\",\"#EF553B\",\"#00cc96\",\"#ab63fa\",\"#FFA15A\",\"#19d3f3\",\"#FF6692\",\"#B6E880\",\"#FF97FF\",\"#FECB52\"],\"font\":{\"color\":\"#2a3f5f\"},\"hovermode\":\"closest\",\"hoverlabel\":{\"align\":\"left\"},\"paper_bgcolor\":\"white\",\"plot_bgcolor\":\"#E5ECF6\",\"polar\":{\"bgcolor\":\"#E5ECF6\",\"angularaxis\":{\"gridcolor\":\"white\",\"linecolor\":\"white\",\"ticks\":\"\"},\"radialaxis\":{\"gridcolor\":\"white\",\"linecolor\":\"white\",\"ticks\":\"\"}},\"ternary\":{\"bgcolor\":\"#E5ECF6\",\"aaxis\":{\"gridcolor\":\"white\",\"linecolor\":\"white\",\"ticks\":\"\"},\"baxis\":{\"gridcolor\":\"white\",\"linecolor\":\"white\",\"ticks\":\"\"},\"caxis\":{\"gridcolor\":\"white\",\"linecolor\":\"white\",\"ticks\":\"\"}},\"coloraxis\":{\"colorbar\":{\"outlinewidth\":0,\"ticks\":\"\"}},\"colorscale\":{\"sequential\":[[0.0,\"#0d0887\"],[0.1111111111111111,\"#46039f\"],[0.2222222222222222,\"#7201a8\"],[0.3333333333333333,\"#9c179e\"],[0.4444444444444444,\"#bd3786\"],[0.5555555555555556,\"#d8576b\"],[0.6666666666666666,\"#ed7953\"],[0.7777777777777778,\"#fb9f3a\"],[0.8888888888888888,\"#fdca26\"],[1.0,\"#f0f921\"]],\"sequentialminus\":[[0.0,\"#0d0887\"],[0.1111111111111111,\"#46039f\"],[0.2222222222222222,\"#7201a8\"],[0.3333333333333333,\"#9c179e\"],[0.4444444444444444,\"#bd3786\"],[0.5555555555555556,\"#d8576b\"],[0.6666666666666666,\"#ed7953\"],[0.7777777777777778,\"#fb9f3a\"],[0.8888888888888888,\"#fdca26\"],[1.0,\"#f0f921\"]],\"diverging\":[[0,\"#8e0152\"],[0.1,\"#c51b7d\"],[0.2,\"#de77ae\"],[0.3,\"#f1b6da\"],[0.4,\"#fde0ef\"],[0.5,\"#f7f7f7\"],[0.6,\"#e6f5d0\"],[0.7,\"#b8e186\"],[0.8,\"#7fbc41\"],[0.9,\"#4d9221\"],[1,\"#276419\"]]},\"xaxis\":{\"gridcolor\":\"white\",\"linecolor\":\"white\",\"ticks\":\"\",\"title\":{\"standoff\":15},\"zerolinecolor\":\"white\",\"automargin\":true,\"zerolinewidth\":2},\"yaxis\":{\"gridcolor\":\"white\",\"linecolor\":\"white\",\"ticks\":\"\",\"title\":{\"standoff\":15},\"zerolinecolor\":\"white\",\"automargin\":true,\"zerolinewidth\":2},\"scene\":{\"xaxis\":{\"backgroundcolor\":\"#E5ECF6\",\"gridcolor\":\"white\",\"linecolor\":\"white\",\"showbackground\":true,\"ticks\":\"\",\"zerolinecolor\":\"white\",\"gridwidth\":2},\"yaxis\":{\"backgroundcolor\":\"#E5ECF6\",\"gridcolor\":\"white\",\"linecolor\":\"white\",\"showbackground\":true,\"ticks\":\"\",\"zerolinecolor\":\"white\",\"gridwidth\":2},\"zaxis\":{\"backgroundcolor\":\"#E5ECF6\",\"gridcolor\":\"white\",\"linecolor\":\"white\",\"showbackground\":true,\"ticks\":\"\",\"zerolinecolor\":\"white\",\"gridwidth\":2}},\"shapedefaults\":{\"line\":{\"color\":\"#2a3f5f\"}},\"annotationdefaults\":{\"arrowcolor\":\"#2a3f5f\",\"arrowhead\":0,\"arrowwidth\":1},\"geo\":{\"bgcolor\":\"white\",\"landcolor\":\"#E5ECF6\",\"subunitcolor\":\"white\",\"showland\":true,\"showlakes\":true,\"lakecolor\":\"white\"},\"title\":{\"x\":0.05},\"mapbox\":{\"style\":\"light\"}}},\"xaxis\":{\"tickangle\":-45},\"barmode\":\"group\",\"title\":{\"text\":\"Metric: pearson\"}},                        {\"responsive\": true}                    ).then(function(){\n",
       "                            \n",
       "var gd = document.getElementById('cddda3da-d571-46d3-b507-5dd91961a6e0');\n",
       "var x = new MutationObserver(function (mutations, observer) {{\n",
       "        var display = window.getComputedStyle(gd).display;\n",
       "        if (!display || display === 'none') {{\n",
       "            console.log([gd, 'removed!']);\n",
       "            Plotly.purge(gd);\n",
       "            observer.disconnect();\n",
       "        }}\n",
       "}});\n",
       "\n",
       "// Listen for the removal of the full notebook cells\n",
       "var notebookContainer = gd.closest('#notebook-container');\n",
       "if (notebookContainer) {{\n",
       "    x.observe(notebookContainer, {childList: true});\n",
       "}}\n",
       "\n",
       "// Listen for the clearing of the current output cell\n",
       "var outputEl = gd.closest('.output');\n",
       "if (outputEl) {{\n",
       "    x.observe(outputEl, {childList: true});\n",
       "}}\n",
       "\n",
       "                        })                };                });            </script>        </div>"
      ]
     },
     "metadata": {},
     "output_type": "display_data"
    }
   ],
   "source": [
    "import numpy as np\n",
    "import plotly.graph_objects as go\n",
    "import scipy\n",
    "\n",
    "for metric in METRICS:\n",
    "\n",
    "    fig = go.Figure()\n",
    "\n",
    "    for model_id in MODEL_IDS:\n",
    "        hs_types = df[df[\"model_id\"] == model_id][\"hidden_state_name\"].unique()\n",
    "        # roi_maxes = {roi: -1 for roi in ROIS}\n",
    "        # roi_mins = {roi: 1 for roi in ROIS}\n",
    "        for hs_type in hs_types:\n",
    "            roi_scores = {roi: [] for roi in ROIS}\n",
    "            for subject in SUBJECTS:\n",
    "                for roi in ROIS:\n",
    "                    subject_roi_score = df[\n",
    "                        (df[\"model_id\"] == model_id) &\n",
    "                        (df[\"roi\"] == roi) &\n",
    "                        (df[\"subject\"] == subject) &\n",
    "                        (df[\"hidden_state_name\"] == hs_type)\n",
    "                    ][metric].values[0]\n",
    "\n",
    "                    if np.isnan(subject_roi_score):\n",
    "                        subject_roi_score = 0\n",
    "\n",
    "                    # print(f\"{roi_scores[roi] = }\")\n",
    "                    roi_scores[roi].append(subject_roi_score)\n",
    "                    # roi_maxes[roi] = max(subject_roi_score, roi_maxes[roi])\n",
    "                    # roi_mins[roi] = min(subject_roi_score, roi_mins[roi])\n",
    "\n",
    "            error_y = {roi: scipy.stats.sem(roi_scores[roi]) for roi in ROIS}\n",
    "            for roi, score in roi_scores.items():\n",
    "                roi_scores[roi] = sum(roi_scores[roi]) / len(roi_scores[roi])\n",
    "\n",
    "            # error_y = {roi: 1 for roi in ROIS}\n",
    "            # for roi in ROIS:\n",
    "            #     error_y[roi] = scipy.stats.sem()\n",
    "\n",
    "            fig.add_trace(go.Bar(\n",
    "                x=ROIS,\n",
    "                y=[roi_scores[roi] for roi in ROIS],\n",
    "                name=f\"{model_id} : {hs_type}\",\n",
    "                error_y=dict(type=\"data\", array=[error_y[roi] for roi in ROIS])\n",
    "            ))\n",
    "\n",
    "    fig.update_layout(barmode=\"group\", xaxis_tickangle=-45, title=f\"Metric: {metric}\")\n",
    "    fig.show()"
   ]
  }
 ],
 "metadata": {
  "kernelspec": {
   "display_name": "Python 3 (ipykernel)",
   "language": "python",
   "name": "python3"
  },
  "language_info": {
   "codemirror_mode": {
    "name": "ipython",
    "version": 3
   },
   "file_extension": ".py",
   "mimetype": "text/x-python",
   "name": "python",
   "nbconvert_exporter": "python",
   "pygments_lexer": "ipython3",
   "version": "3.10.13"
  }
 },
 "nbformat": 4,
 "nbformat_minor": 5
}
