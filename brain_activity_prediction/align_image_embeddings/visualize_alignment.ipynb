{
 "cells": [
  {
   "cell_type": "code",
   "execution_count": 1,
   "id": "64aabd83-5e3b-40b6-96d8-2defd737af11",
   "metadata": {
    "tags": []
   },
   "outputs": [],
   "source": [
    "BASE_DIR = \"/tmp/akshett.jindal\""
   ]
  },
  {
   "cell_type": "code",
   "execution_count": 2,
   "id": "95cc75a3-85d2-4ab9-9ef5-c3c70d828dcf",
   "metadata": {
    "tags": []
   },
   "outputs": [],
   "source": [
    "MODEL_IDS = [\n",
    "    \"Salesforce/instructblip-vicuna-13b\",\n",
    "    \"HuggingFaceM4/idefics-9b-instruct\",\n",
    "    \"llava-hf/llava-1.5-13b-hf\",\n",
    "    # \"google/vit-huge-patch14-224-in21k\",\n",
    "]\n",
    "SUBJECTS = [1, 2, 5, 7]"
   ]
  },
  {
   "cell_type": "code",
   "execution_count": 3,
   "id": "8bd916ff-9470-417f-b94e-648928a9793b",
   "metadata": {
    "tags": []
   },
   "outputs": [],
   "source": [
    "ROIS = [\n",
    "    \"HCP_MMP1\",\n",
    "    \"floc-bodies\",\n",
    "    \"floc-faces\",\n",
    "    \"floc-places\",\n",
    "    \"floc-words\",\n",
    "    \"prf-eccrois\",\n",
    "    \"prf-visualrois\",\n",
    "]"
   ]
  },
  {
   "cell_type": "code",
   "execution_count": 4,
   "id": "8446d339-c6b3-4e1f-b9ec-36981acc9577",
   "metadata": {
    "tags": []
   },
   "outputs": [
    {
     "data": {
      "text/html": [
       "<div>\n",
       "<style scoped>\n",
       "    .dataframe tbody tr th:only-of-type {\n",
       "        vertical-align: middle;\n",
       "    }\n",
       "\n",
       "    .dataframe tbody tr th {\n",
       "        vertical-align: top;\n",
       "    }\n",
       "\n",
       "    .dataframe thead th {\n",
       "        text-align: right;\n",
       "    }\n",
       "</style>\n",
       "<table border=\"1\" class=\"dataframe\">\n",
       "  <thead>\n",
       "    <tr style=\"text-align: right;\">\n",
       "      <th></th>\n",
       "      <th>model_id</th>\n",
       "      <th>subject</th>\n",
       "      <th>hidden_state_name</th>\n",
       "      <th>roi</th>\n",
       "      <th>score</th>\n",
       "    </tr>\n",
       "  </thead>\n",
       "  <tbody>\n",
       "    <tr>\n",
       "      <th>0</th>\n",
       "      <td>Salesforce/instructblip-vicuna-13b</td>\n",
       "      <td>1</td>\n",
       "      <td>qformer_hidden_states</td>\n",
       "      <td>HCP_MMP1</td>\n",
       "      <td>0.029587</td>\n",
       "    </tr>\n",
       "    <tr>\n",
       "      <th>1</th>\n",
       "      <td>Salesforce/instructblip-vicuna-13b</td>\n",
       "      <td>1</td>\n",
       "      <td>qformer_hidden_states</td>\n",
       "      <td>floc-bodies</td>\n",
       "      <td>0.173579</td>\n",
       "    </tr>\n",
       "    <tr>\n",
       "      <th>2</th>\n",
       "      <td>Salesforce/instructblip-vicuna-13b</td>\n",
       "      <td>1</td>\n",
       "      <td>qformer_hidden_states</td>\n",
       "      <td>floc-faces</td>\n",
       "      <td>0.066294</td>\n",
       "    </tr>\n",
       "    <tr>\n",
       "      <th>3</th>\n",
       "      <td>Salesforce/instructblip-vicuna-13b</td>\n",
       "      <td>1</td>\n",
       "      <td>qformer_hidden_states</td>\n",
       "      <td>floc-places</td>\n",
       "      <td>0.132986</td>\n",
       "    </tr>\n",
       "    <tr>\n",
       "      <th>4</th>\n",
       "      <td>Salesforce/instructblip-vicuna-13b</td>\n",
       "      <td>1</td>\n",
       "      <td>qformer_hidden_states</td>\n",
       "      <td>floc-words</td>\n",
       "      <td>0.041660</td>\n",
       "    </tr>\n",
       "    <tr>\n",
       "      <th>...</th>\n",
       "      <td>...</td>\n",
       "      <td>...</td>\n",
       "      <td>...</td>\n",
       "      <td>...</td>\n",
       "      <td>...</td>\n",
       "    </tr>\n",
       "    <tr>\n",
       "      <th>107</th>\n",
       "      <td>llava-hf/llava-1.5-13b-hf</td>\n",
       "      <td>7</td>\n",
       "      <td>hidden_states</td>\n",
       "      <td>floc-faces</td>\n",
       "      <td>0.113482</td>\n",
       "    </tr>\n",
       "    <tr>\n",
       "      <th>108</th>\n",
       "      <td>llava-hf/llava-1.5-13b-hf</td>\n",
       "      <td>7</td>\n",
       "      <td>hidden_states</td>\n",
       "      <td>floc-places</td>\n",
       "      <td>0.148197</td>\n",
       "    </tr>\n",
       "    <tr>\n",
       "      <th>109</th>\n",
       "      <td>llava-hf/llava-1.5-13b-hf</td>\n",
       "      <td>7</td>\n",
       "      <td>hidden_states</td>\n",
       "      <td>floc-words</td>\n",
       "      <td>0.057720</td>\n",
       "    </tr>\n",
       "    <tr>\n",
       "      <th>110</th>\n",
       "      <td>llava-hf/llava-1.5-13b-hf</td>\n",
       "      <td>7</td>\n",
       "      <td>hidden_states</td>\n",
       "      <td>prf-eccrois</td>\n",
       "      <td>0.021519</td>\n",
       "    </tr>\n",
       "    <tr>\n",
       "      <th>111</th>\n",
       "      <td>llava-hf/llava-1.5-13b-hf</td>\n",
       "      <td>7</td>\n",
       "      <td>hidden_states</td>\n",
       "      <td>prf-visualrois</td>\n",
       "      <td>0.113350</td>\n",
       "    </tr>\n",
       "  </tbody>\n",
       "</table>\n",
       "<p>112 rows × 5 columns</p>\n",
       "</div>"
      ],
      "text/plain": [
       "                               model_id  subject      hidden_state_name  \\\n",
       "0    Salesforce/instructblip-vicuna-13b        1  qformer_hidden_states   \n",
       "1    Salesforce/instructblip-vicuna-13b        1  qformer_hidden_states   \n",
       "2    Salesforce/instructblip-vicuna-13b        1  qformer_hidden_states   \n",
       "3    Salesforce/instructblip-vicuna-13b        1  qformer_hidden_states   \n",
       "4    Salesforce/instructblip-vicuna-13b        1  qformer_hidden_states   \n",
       "..                                  ...      ...                    ...   \n",
       "107           llava-hf/llava-1.5-13b-hf        7          hidden_states   \n",
       "108           llava-hf/llava-1.5-13b-hf        7          hidden_states   \n",
       "109           llava-hf/llava-1.5-13b-hf        7          hidden_states   \n",
       "110           llava-hf/llava-1.5-13b-hf        7          hidden_states   \n",
       "111           llava-hf/llava-1.5-13b-hf        7          hidden_states   \n",
       "\n",
       "                roi     score  \n",
       "0          HCP_MMP1  0.029587  \n",
       "1       floc-bodies  0.173579  \n",
       "2        floc-faces  0.066294  \n",
       "3       floc-places  0.132986  \n",
       "4        floc-words  0.041660  \n",
       "..              ...       ...  \n",
       "107      floc-faces  0.113482  \n",
       "108     floc-places  0.148197  \n",
       "109      floc-words  0.057720  \n",
       "110     prf-eccrois  0.021519  \n",
       "111  prf-visualrois  0.113350  \n",
       "\n",
       "[112 rows x 5 columns]"
      ]
     },
     "execution_count": 4,
     "metadata": {},
     "output_type": "execute_result"
    }
   ],
   "source": [
    "import os.path\n",
    "import pandas\n",
    "import pickle\n",
    "\n",
    "rows = []\n",
    "\n",
    "for model_id in MODEL_IDS:\n",
    "\n",
    "    for subject in SUBJECTS:\n",
    "        model_name = model_id.replace(\"/\", \"_\").replace(\" \", \"_\")\n",
    "\n",
    "        scores_dir = os.path.join(BASE_DIR, \"final_scores\", model_name, f\"subj{subject:02}\")\n",
    "\n",
    "        # trn_scores_filepath = os.path.join(scores_dir, \"training.pkl\")\n",
    "        val_scores_filepath = os.path.join(scores_dir, \"validation.pkl\")\n",
    "\n",
    "        # with open(trn_scores_filepath, \"rb\") as f:\n",
    "        #     trn_scores = pickle.load(f)\n",
    "        with open(val_scores_filepath, \"rb\") as f:\n",
    "            val_scores = pickle.load(f)\n",
    "\n",
    "        # for hs_name, hs_scores in trn_scores.items():\n",
    "        #     print(tabulate_scores(hs_name, hs_scores, False))\n",
    "        #     print(f\"MODEL='{model_id}' => {hs_name}, SUBJECT={subject}\")\n",
    "        #     print()\n",
    "\n",
    "        for hs_name, hs_scores in val_scores.items():\n",
    "            for roi in ROIS:\n",
    "                rows.append({\n",
    "                    \"model_id\": model_id,\n",
    "                    \"subject\": subject,\n",
    "                    \"hidden_state_name\": hs_name,\n",
    "                    \"roi\": roi,\n",
    "                    \"score\": hs_scores[roi],\n",
    "                })\n",
    "\n",
    "df_data = {\n",
    "    key: [r[key] for r in rows]\n",
    "    for key in rows[0].keys()\n",
    "}\n",
    "\n",
    "df = pandas.DataFrame(data=df_data)\n",
    "df"
   ]
  },
  {
   "cell_type": "code",
   "execution_count": 5,
   "id": "57608e32-155e-43ef-8ae3-e84be6e19a81",
   "metadata": {
    "tags": []
   },
   "outputs": [
    {
     "data": {
      "text/plain": [
       "0.13298571"
      ]
     },
     "execution_count": 5,
     "metadata": {},
     "output_type": "execute_result"
    }
   ],
   "source": [
    "df[(df[\"model_id\"] == \"Salesforce/instructblip-vicuna-13b\") & (df[\"roi\"] == \"floc-places\") & (df[\"subject\"] == 1) & (df[\"hidden_state_name\"] == \"qformer_hidden_states\")][\"score\"].values[0]"
   ]
  },
  {
   "cell_type": "code",
   "execution_count": 9,
   "id": "edd55203-795a-4951-a808-986619e3d764",
   "metadata": {
    "tags": []
   },
   "outputs": [
    {
     "data": {
      "application/vnd.plotly.v1+json": {
       "config": {
        "plotlyServerURL": "https://plot.ly"
       },
       "data": [
        {
         "error_y": {
          "array": [
           0.02464998047798872,
           0.030786020681262016,
           0.09048103727400303,
           0.05948938429355621,
           0.07027711533010006,
           0.024237229954451323,
           0.053614646196365356
          ],
          "type": "data"
         },
         "name": "Salesforce/instructblip-vicuna-13b : qformer_hidden_states",
         "type": "bar",
         "x": [
          "HCP_MMP1",
          "floc-bodies",
          "floc-faces",
          "floc-places",
          "floc-words",
          "prf-eccrois",
          "prf-visualrois"
         ],
         "y": [
          0.03995091188699007,
          0.14279297180473804,
          0.10354702733457088,
          0.15608428418636322,
          0.0709641370922327,
          0.0313027654774487,
          0.09762977063655853
         ]
        },
        {
         "error_y": {
          "array": [
           0.042864538030698895,
           0.06087286816909909,
           0.08294210070744157,
           0.06582272797822952,
           0.05185858020558953,
           0.02983222308102995,
           0.10684528201818466
          ],
          "type": "data"
         },
         "name": "Salesforce/instructblip-vicuna-13b : vision_hidden_states",
         "type": "bar",
         "x": [
          "HCP_MMP1",
          "floc-bodies",
          "floc-faces",
          "floc-places",
          "floc-words",
          "prf-eccrois",
          "prf-visualrois"
         ],
         "y": [
          0.07059897785075009,
          0.16805315064266324,
          0.1328215547837317,
          0.19577296823263168,
          0.09351892257109284,
          0.049448068835772574,
          0.17694969475269318
         ]
        },
        {
         "error_y": {
          "array": [
           0.02159836981445551,
           0.02948196418583393,
           0.08971544075757265,
           0.05647224187850952,
           0.0718185817822814,
           0.02578084310516715,
           0.049084123224020004
          ],
          "type": "data"
         },
         "name": "HuggingFaceM4/idefics-9b-instruct : hidden_states",
         "type": "bar",
         "x": [
          "HCP_MMP1",
          "floc-bodies",
          "floc-faces",
          "floc-places",
          "floc-words",
          "prf-eccrois",
          "prf-visualrois"
         ],
         "y": [
          0.03437562566250563,
          0.13626700453460217,
          0.09773148130625486,
          0.14906594157218933,
          0.06640387419611216,
          0.028118050191551447,
          0.08549461141228676
         ]
        },
        {
         "error_y": {
          "array": [
           0.025694135576486588,
           0.03245716914534569,
           0.09130685403943062,
           0.05787862464785576,
           0.06870445981621742,
           0.018266838043928146,
           0.0512252114713192
          ],
          "type": "data"
         },
         "name": "llava-hf/llava-1.5-13b-hf : hidden_states",
         "type": "bar",
         "x": [
          "HCP_MMP1",
          "floc-bodies",
          "floc-faces",
          "floc-places",
          "floc-words",
          "prf-eccrois",
          "prf-visualrois"
         ],
         "y": [
          0.060544345527887344,
          0.15230600908398628,
          0.11810046061873436,
          0.17467260733246803,
          0.08226246759295464,
          0.037315431982278824,
          0.15187284722924232
         ]
        }
       ],
       "layout": {
        "autosize": true,
        "barmode": "group",
        "template": {
         "data": {
          "bar": [
           {
            "error_x": {
             "color": "#2a3f5f"
            },
            "error_y": {
             "color": "#2a3f5f"
            },
            "marker": {
             "line": {
              "color": "#E5ECF6",
              "width": 0.5
             },
             "pattern": {
              "fillmode": "overlay",
              "size": 10,
              "solidity": 0.2
             }
            },
            "type": "bar"
           }
          ],
          "barpolar": [
           {
            "marker": {
             "line": {
              "color": "#E5ECF6",
              "width": 0.5
             },
             "pattern": {
              "fillmode": "overlay",
              "size": 10,
              "solidity": 0.2
             }
            },
            "type": "barpolar"
           }
          ],
          "carpet": [
           {
            "aaxis": {
             "endlinecolor": "#2a3f5f",
             "gridcolor": "white",
             "linecolor": "white",
             "minorgridcolor": "white",
             "startlinecolor": "#2a3f5f"
            },
            "baxis": {
             "endlinecolor": "#2a3f5f",
             "gridcolor": "white",
             "linecolor": "white",
             "minorgridcolor": "white",
             "startlinecolor": "#2a3f5f"
            },
            "type": "carpet"
           }
          ],
          "choropleth": [
           {
            "colorbar": {
             "outlinewidth": 0,
             "ticks": ""
            },
            "type": "choropleth"
           }
          ],
          "contour": [
           {
            "colorbar": {
             "outlinewidth": 0,
             "ticks": ""
            },
            "colorscale": [
             [
              0,
              "#0d0887"
             ],
             [
              0.1111111111111111,
              "#46039f"
             ],
             [
              0.2222222222222222,
              "#7201a8"
             ],
             [
              0.3333333333333333,
              "#9c179e"
             ],
             [
              0.4444444444444444,
              "#bd3786"
             ],
             [
              0.5555555555555556,
              "#d8576b"
             ],
             [
              0.6666666666666666,
              "#ed7953"
             ],
             [
              0.7777777777777778,
              "#fb9f3a"
             ],
             [
              0.8888888888888888,
              "#fdca26"
             ],
             [
              1,
              "#f0f921"
             ]
            ],
            "type": "contour"
           }
          ],
          "contourcarpet": [
           {
            "colorbar": {
             "outlinewidth": 0,
             "ticks": ""
            },
            "type": "contourcarpet"
           }
          ],
          "heatmap": [
           {
            "colorbar": {
             "outlinewidth": 0,
             "ticks": ""
            },
            "colorscale": [
             [
              0,
              "#0d0887"
             ],
             [
              0.1111111111111111,
              "#46039f"
             ],
             [
              0.2222222222222222,
              "#7201a8"
             ],
             [
              0.3333333333333333,
              "#9c179e"
             ],
             [
              0.4444444444444444,
              "#bd3786"
             ],
             [
              0.5555555555555556,
              "#d8576b"
             ],
             [
              0.6666666666666666,
              "#ed7953"
             ],
             [
              0.7777777777777778,
              "#fb9f3a"
             ],
             [
              0.8888888888888888,
              "#fdca26"
             ],
             [
              1,
              "#f0f921"
             ]
            ],
            "type": "heatmap"
           }
          ],
          "heatmapgl": [
           {
            "colorbar": {
             "outlinewidth": 0,
             "ticks": ""
            },
            "colorscale": [
             [
              0,
              "#0d0887"
             ],
             [
              0.1111111111111111,
              "#46039f"
             ],
             [
              0.2222222222222222,
              "#7201a8"
             ],
             [
              0.3333333333333333,
              "#9c179e"
             ],
             [
              0.4444444444444444,
              "#bd3786"
             ],
             [
              0.5555555555555556,
              "#d8576b"
             ],
             [
              0.6666666666666666,
              "#ed7953"
             ],
             [
              0.7777777777777778,
              "#fb9f3a"
             ],
             [
              0.8888888888888888,
              "#fdca26"
             ],
             [
              1,
              "#f0f921"
             ]
            ],
            "type": "heatmapgl"
           }
          ],
          "histogram": [
           {
            "marker": {
             "pattern": {
              "fillmode": "overlay",
              "size": 10,
              "solidity": 0.2
             }
            },
            "type": "histogram"
           }
          ],
          "histogram2d": [
           {
            "colorbar": {
             "outlinewidth": 0,
             "ticks": ""
            },
            "colorscale": [
             [
              0,
              "#0d0887"
             ],
             [
              0.1111111111111111,
              "#46039f"
             ],
             [
              0.2222222222222222,
              "#7201a8"
             ],
             [
              0.3333333333333333,
              "#9c179e"
             ],
             [
              0.4444444444444444,
              "#bd3786"
             ],
             [
              0.5555555555555556,
              "#d8576b"
             ],
             [
              0.6666666666666666,
              "#ed7953"
             ],
             [
              0.7777777777777778,
              "#fb9f3a"
             ],
             [
              0.8888888888888888,
              "#fdca26"
             ],
             [
              1,
              "#f0f921"
             ]
            ],
            "type": "histogram2d"
           }
          ],
          "histogram2dcontour": [
           {
            "colorbar": {
             "outlinewidth": 0,
             "ticks": ""
            },
            "colorscale": [
             [
              0,
              "#0d0887"
             ],
             [
              0.1111111111111111,
              "#46039f"
             ],
             [
              0.2222222222222222,
              "#7201a8"
             ],
             [
              0.3333333333333333,
              "#9c179e"
             ],
             [
              0.4444444444444444,
              "#bd3786"
             ],
             [
              0.5555555555555556,
              "#d8576b"
             ],
             [
              0.6666666666666666,
              "#ed7953"
             ],
             [
              0.7777777777777778,
              "#fb9f3a"
             ],
             [
              0.8888888888888888,
              "#fdca26"
             ],
             [
              1,
              "#f0f921"
             ]
            ],
            "type": "histogram2dcontour"
           }
          ],
          "mesh3d": [
           {
            "colorbar": {
             "outlinewidth": 0,
             "ticks": ""
            },
            "type": "mesh3d"
           }
          ],
          "parcoords": [
           {
            "line": {
             "colorbar": {
              "outlinewidth": 0,
              "ticks": ""
             }
            },
            "type": "parcoords"
           }
          ],
          "pie": [
           {
            "automargin": true,
            "type": "pie"
           }
          ],
          "scatter": [
           {
            "fillpattern": {
             "fillmode": "overlay",
             "size": 10,
             "solidity": 0.2
            },
            "type": "scatter"
           }
          ],
          "scatter3d": [
           {
            "line": {
             "colorbar": {
              "outlinewidth": 0,
              "ticks": ""
             }
            },
            "marker": {
             "colorbar": {
              "outlinewidth": 0,
              "ticks": ""
             }
            },
            "type": "scatter3d"
           }
          ],
          "scattercarpet": [
           {
            "marker": {
             "colorbar": {
              "outlinewidth": 0,
              "ticks": ""
             }
            },
            "type": "scattercarpet"
           }
          ],
          "scattergeo": [
           {
            "marker": {
             "colorbar": {
              "outlinewidth": 0,
              "ticks": ""
             }
            },
            "type": "scattergeo"
           }
          ],
          "scattergl": [
           {
            "marker": {
             "colorbar": {
              "outlinewidth": 0,
              "ticks": ""
             }
            },
            "type": "scattergl"
           }
          ],
          "scattermapbox": [
           {
            "marker": {
             "colorbar": {
              "outlinewidth": 0,
              "ticks": ""
             }
            },
            "type": "scattermapbox"
           }
          ],
          "scatterpolar": [
           {
            "marker": {
             "colorbar": {
              "outlinewidth": 0,
              "ticks": ""
             }
            },
            "type": "scatterpolar"
           }
          ],
          "scatterpolargl": [
           {
            "marker": {
             "colorbar": {
              "outlinewidth": 0,
              "ticks": ""
             }
            },
            "type": "scatterpolargl"
           }
          ],
          "scatterternary": [
           {
            "marker": {
             "colorbar": {
              "outlinewidth": 0,
              "ticks": ""
             }
            },
            "type": "scatterternary"
           }
          ],
          "surface": [
           {
            "colorbar": {
             "outlinewidth": 0,
             "ticks": ""
            },
            "colorscale": [
             [
              0,
              "#0d0887"
             ],
             [
              0.1111111111111111,
              "#46039f"
             ],
             [
              0.2222222222222222,
              "#7201a8"
             ],
             [
              0.3333333333333333,
              "#9c179e"
             ],
             [
              0.4444444444444444,
              "#bd3786"
             ],
             [
              0.5555555555555556,
              "#d8576b"
             ],
             [
              0.6666666666666666,
              "#ed7953"
             ],
             [
              0.7777777777777778,
              "#fb9f3a"
             ],
             [
              0.8888888888888888,
              "#fdca26"
             ],
             [
              1,
              "#f0f921"
             ]
            ],
            "type": "surface"
           }
          ],
          "table": [
           {
            "cells": {
             "fill": {
              "color": "#EBF0F8"
             },
             "line": {
              "color": "white"
             }
            },
            "header": {
             "fill": {
              "color": "#C8D4E3"
             },
             "line": {
              "color": "white"
             }
            },
            "type": "table"
           }
          ]
         },
         "layout": {
          "annotationdefaults": {
           "arrowcolor": "#2a3f5f",
           "arrowhead": 0,
           "arrowwidth": 1
          },
          "autotypenumbers": "strict",
          "coloraxis": {
           "colorbar": {
            "outlinewidth": 0,
            "ticks": ""
           }
          },
          "colorscale": {
           "diverging": [
            [
             0,
             "#8e0152"
            ],
            [
             0.1,
             "#c51b7d"
            ],
            [
             0.2,
             "#de77ae"
            ],
            [
             0.3,
             "#f1b6da"
            ],
            [
             0.4,
             "#fde0ef"
            ],
            [
             0.5,
             "#f7f7f7"
            ],
            [
             0.6,
             "#e6f5d0"
            ],
            [
             0.7,
             "#b8e186"
            ],
            [
             0.8,
             "#7fbc41"
            ],
            [
             0.9,
             "#4d9221"
            ],
            [
             1,
             "#276419"
            ]
           ],
           "sequential": [
            [
             0,
             "#0d0887"
            ],
            [
             0.1111111111111111,
             "#46039f"
            ],
            [
             0.2222222222222222,
             "#7201a8"
            ],
            [
             0.3333333333333333,
             "#9c179e"
            ],
            [
             0.4444444444444444,
             "#bd3786"
            ],
            [
             0.5555555555555556,
             "#d8576b"
            ],
            [
             0.6666666666666666,
             "#ed7953"
            ],
            [
             0.7777777777777778,
             "#fb9f3a"
            ],
            [
             0.8888888888888888,
             "#fdca26"
            ],
            [
             1,
             "#f0f921"
            ]
           ],
           "sequentialminus": [
            [
             0,
             "#0d0887"
            ],
            [
             0.1111111111111111,
             "#46039f"
            ],
            [
             0.2222222222222222,
             "#7201a8"
            ],
            [
             0.3333333333333333,
             "#9c179e"
            ],
            [
             0.4444444444444444,
             "#bd3786"
            ],
            [
             0.5555555555555556,
             "#d8576b"
            ],
            [
             0.6666666666666666,
             "#ed7953"
            ],
            [
             0.7777777777777778,
             "#fb9f3a"
            ],
            [
             0.8888888888888888,
             "#fdca26"
            ],
            [
             1,
             "#f0f921"
            ]
           ]
          },
          "colorway": [
           "#636efa",
           "#EF553B",
           "#00cc96",
           "#ab63fa",
           "#FFA15A",
           "#19d3f3",
           "#FF6692",
           "#B6E880",
           "#FF97FF",
           "#FECB52"
          ],
          "font": {
           "color": "#2a3f5f"
          },
          "geo": {
           "bgcolor": "white",
           "lakecolor": "white",
           "landcolor": "#E5ECF6",
           "showlakes": true,
           "showland": true,
           "subunitcolor": "white"
          },
          "hoverlabel": {
           "align": "left"
          },
          "hovermode": "closest",
          "mapbox": {
           "style": "light"
          },
          "paper_bgcolor": "white",
          "plot_bgcolor": "#E5ECF6",
          "polar": {
           "angularaxis": {
            "gridcolor": "white",
            "linecolor": "white",
            "ticks": ""
           },
           "bgcolor": "#E5ECF6",
           "radialaxis": {
            "gridcolor": "white",
            "linecolor": "white",
            "ticks": ""
           }
          },
          "scene": {
           "xaxis": {
            "backgroundcolor": "#E5ECF6",
            "gridcolor": "white",
            "gridwidth": 2,
            "linecolor": "white",
            "showbackground": true,
            "ticks": "",
            "zerolinecolor": "white"
           },
           "yaxis": {
            "backgroundcolor": "#E5ECF6",
            "gridcolor": "white",
            "gridwidth": 2,
            "linecolor": "white",
            "showbackground": true,
            "ticks": "",
            "zerolinecolor": "white"
           },
           "zaxis": {
            "backgroundcolor": "#E5ECF6",
            "gridcolor": "white",
            "gridwidth": 2,
            "linecolor": "white",
            "showbackground": true,
            "ticks": "",
            "zerolinecolor": "white"
           }
          },
          "shapedefaults": {
           "line": {
            "color": "#2a3f5f"
           }
          },
          "ternary": {
           "aaxis": {
            "gridcolor": "white",
            "linecolor": "white",
            "ticks": ""
           },
           "baxis": {
            "gridcolor": "white",
            "linecolor": "white",
            "ticks": ""
           },
           "bgcolor": "#E5ECF6",
           "caxis": {
            "gridcolor": "white",
            "linecolor": "white",
            "ticks": ""
           }
          },
          "title": {
           "x": 0.05
          },
          "xaxis": {
           "automargin": true,
           "gridcolor": "white",
           "linecolor": "white",
           "ticks": "",
           "title": {
            "standoff": 15
           },
           "zerolinecolor": "white",
           "zerolinewidth": 2
          },
          "yaxis": {
           "automargin": true,
           "gridcolor": "white",
           "linecolor": "white",
           "ticks": "",
           "title": {
            "standoff": 15
           },
           "zerolinecolor": "white",
           "zerolinewidth": 2
          }
         }
        },
        "xaxis": {
         "autorange": true,
         "range": [
          -0.5,
          6.5
         ],
         "tickangle": -45,
         "type": "category"
        },
        "yaxis": {
         "range": [
          0,
          0.3
         ],
         "type": "linear"
        }
       }
      },
      "image/png": "[encoded data removed]",
      "text/html": [
       "<div>                            <div id=\"90de6765-8ed3-47a9-987a-28d0eb1f5b2f\" class=\"plotly-graph-div\" style=\"height:525px; width:100%;\"></div>            <script type=\"text/javascript\">                require([\"plotly\"], function(Plotly) {                    window.PLOTLYENV=window.PLOTLYENV || {};                                    if (document.getElementById(\"90de6765-8ed3-47a9-987a-28d0eb1f5b2f\")) {                    Plotly.newPlot(                        \"90de6765-8ed3-47a9-987a-28d0eb1f5b2f\",                        [{\"error_y\":{\"array\":[0.02464998047798872,0.030786020681262016,0.09048103727400303,0.05948938429355621,0.07027711533010006,0.024237229954451323,0.053614646196365356],\"type\":\"data\"},\"name\":\"Salesforce\\u002finstructblip-vicuna-13b : qformer_hidden_states\",\"x\":[\"HCP_MMP1\",\"floc-bodies\",\"floc-faces\",\"floc-places\",\"floc-words\",\"prf-eccrois\",\"prf-visualrois\"],\"y\":[0.03995091188699007,0.14279297180473804,0.10354702733457088,0.15608428418636322,0.0709641370922327,0.0313027654774487,0.09762977063655853],\"type\":\"bar\"},{\"error_y\":{\"array\":[0.042864538030698895,0.06087286816909909,0.08294210070744157,0.06582272797822952,0.05185858020558953,0.02983222308102995,0.10684528201818466],\"type\":\"data\"},\"name\":\"Salesforce\\u002finstructblip-vicuna-13b : vision_hidden_states\",\"x\":[\"HCP_MMP1\",\"floc-bodies\",\"floc-faces\",\"floc-places\",\"floc-words\",\"prf-eccrois\",\"prf-visualrois\"],\"y\":[0.07059897785075009,0.16805315064266324,0.1328215547837317,0.19577296823263168,0.09351892257109284,0.049448068835772574,0.17694969475269318],\"type\":\"bar\"},{\"error_y\":{\"array\":[0.02159836981445551,0.02948196418583393,0.08971544075757265,0.05647224187850952,0.0718185817822814,0.02578084310516715,0.049084123224020004],\"type\":\"data\"},\"name\":\"HuggingFaceM4\\u002fidefics-9b-instruct : hidden_states\",\"x\":[\"HCP_MMP1\",\"floc-bodies\",\"floc-faces\",\"floc-places\",\"floc-words\",\"prf-eccrois\",\"prf-visualrois\"],\"y\":[0.03437562566250563,0.13626700453460217,0.09773148130625486,0.14906594157218933,0.06640387419611216,0.028118050191551447,0.08549461141228676],\"type\":\"bar\"},{\"error_y\":{\"array\":[0.025694135576486588,0.03245716914534569,0.09130685403943062,0.05787862464785576,0.06870445981621742,0.018266838043928146,0.0512252114713192],\"type\":\"data\"},\"name\":\"llava-hf\\u002fllava-1.5-13b-hf : hidden_states\",\"x\":[\"HCP_MMP1\",\"floc-bodies\",\"floc-faces\",\"floc-places\",\"floc-words\",\"prf-eccrois\",\"prf-visualrois\"],\"y\":[0.060544345527887344,0.15230600908398628,0.11810046061873436,0.17467260733246803,0.08226246759295464,0.037315431982278824,0.15187284722924232],\"type\":\"bar\"}],                        {\"template\":{\"data\":{\"histogram2dcontour\":[{\"type\":\"histogram2dcontour\",\"colorbar\":{\"outlinewidth\":0,\"ticks\":\"\"},\"colorscale\":[[0.0,\"#0d0887\"],[0.1111111111111111,\"#46039f\"],[0.2222222222222222,\"#7201a8\"],[0.3333333333333333,\"#9c179e\"],[0.4444444444444444,\"#bd3786\"],[0.5555555555555556,\"#d8576b\"],[0.6666666666666666,\"#ed7953\"],[0.7777777777777778,\"#fb9f3a\"],[0.8888888888888888,\"#fdca26\"],[1.0,\"#f0f921\"]]}],\"choropleth\":[{\"type\":\"choropleth\",\"colorbar\":{\"outlinewidth\":0,\"ticks\":\"\"}}],\"histogram2d\":[{\"type\":\"histogram2d\",\"colorbar\":{\"outlinewidth\":0,\"ticks\":\"\"},\"colorscale\":[[0.0,\"#0d0887\"],[0.1111111111111111,\"#46039f\"],[0.2222222222222222,\"#7201a8\"],[0.3333333333333333,\"#9c179e\"],[0.4444444444444444,\"#bd3786\"],[0.5555555555555556,\"#d8576b\"],[0.6666666666666666,\"#ed7953\"],[0.7777777777777778,\"#fb9f3a\"],[0.8888888888888888,\"#fdca26\"],[1.0,\"#f0f921\"]]}],\"heatmap\":[{\"type\":\"heatmap\",\"colorbar\":{\"outlinewidth\":0,\"ticks\":\"\"},\"colorscale\":[[0.0,\"#0d0887\"],[0.1111111111111111,\"#46039f\"],[0.2222222222222222,\"#7201a8\"],[0.3333333333333333,\"#9c179e\"],[0.4444444444444444,\"#bd3786\"],[0.5555555555555556,\"#d8576b\"],[0.6666666666666666,\"#ed7953\"],[0.7777777777777778,\"#fb9f3a\"],[0.8888888888888888,\"#fdca26\"],[1.0,\"#f0f921\"]]}],\"heatmapgl\":[{\"type\":\"heatmapgl\",\"colorbar\":{\"outlinewidth\":0,\"ticks\":\"\"},\"colorscale\":[[0.0,\"#0d0887\"],[0.1111111111111111,\"#46039f\"],[0.2222222222222222,\"#7201a8\"],[0.3333333333333333,\"#9c179e\"],[0.4444444444444444,\"#bd3786\"],[0.5555555555555556,\"#d8576b\"],[0.6666666666666666,\"#ed7953\"],[0.7777777777777778,\"#fb9f3a\"],[0.8888888888888888,\"#fdca26\"],[1.0,\"#f0f921\"]]}],\"contourcarpet\":[{\"type\":\"contourcarpet\",\"colorbar\":{\"outlinewidth\":0,\"ticks\":\"\"}}],\"contour\":[{\"type\":\"contour\",\"colorbar\":{\"outlinewidth\":0,\"ticks\":\"\"},\"colorscale\":[[0.0,\"#0d0887\"],[0.1111111111111111,\"#46039f\"],[0.2222222222222222,\"#7201a8\"],[0.3333333333333333,\"#9c179e\"],[0.4444444444444444,\"#bd3786\"],[0.5555555555555556,\"#d8576b\"],[0.6666666666666666,\"#ed7953\"],[0.7777777777777778,\"#fb9f3a\"],[0.8888888888888888,\"#fdca26\"],[1.0,\"#f0f921\"]]}],\"surface\":[{\"type\":\"surface\",\"colorbar\":{\"outlinewidth\":0,\"ticks\":\"\"},\"colorscale\":[[0.0,\"#0d0887\"],[0.1111111111111111,\"#46039f\"],[0.2222222222222222,\"#7201a8\"],[0.3333333333333333,\"#9c179e\"],[0.4444444444444444,\"#bd3786\"],[0.5555555555555556,\"#d8576b\"],[0.6666666666666666,\"#ed7953\"],[0.7777777777777778,\"#fb9f3a\"],[0.8888888888888888,\"#fdca26\"],[1.0,\"#f0f921\"]]}],\"mesh3d\":[{\"type\":\"mesh3d\",\"colorbar\":{\"outlinewidth\":0,\"ticks\":\"\"}}],\"scatter\":[{\"fillpattern\":{\"fillmode\":\"overlay\",\"size\":10,\"solidity\":0.2},\"type\":\"scatter\"}],\"parcoords\":[{\"type\":\"parcoords\",\"line\":{\"colorbar\":{\"outlinewidth\":0,\"ticks\":\"\"}}}],\"scatterpolargl\":[{\"type\":\"scatterpolargl\",\"marker\":{\"colorbar\":{\"outlinewidth\":0,\"ticks\":\"\"}}}],\"bar\":[{\"error_x\":{\"color\":\"#2a3f5f\"},\"error_y\":{\"color\":\"#2a3f5f\"},\"marker\":{\"line\":{\"color\":\"#E5ECF6\",\"width\":0.5},\"pattern\":{\"fillmode\":\"overlay\",\"size\":10,\"solidity\":0.2}},\"type\":\"bar\"}],\"scattergeo\":[{\"type\":\"scattergeo\",\"marker\":{\"colorbar\":{\"outlinewidth\":0,\"ticks\":\"\"}}}],\"scatterpolar\":[{\"type\":\"scatterpolar\",\"marker\":{\"colorbar\":{\"outlinewidth\":0,\"ticks\":\"\"}}}],\"histogram\":[{\"marker\":{\"pattern\":{\"fillmode\":\"overlay\",\"size\":10,\"solidity\":0.2}},\"type\":\"histogram\"}],\"scattergl\":[{\"type\":\"scattergl\",\"marker\":{\"colorbar\":{\"outlinewidth\":0,\"ticks\":\"\"}}}],\"scatter3d\":[{\"type\":\"scatter3d\",\"line\":{\"colorbar\":{\"outlinewidth\":0,\"ticks\":\"\"}},\"marker\":{\"colorbar\":{\"outlinewidth\":0,\"ticks\":\"\"}}}],\"scattermapbox\":[{\"type\":\"scattermapbox\",\"marker\":{\"colorbar\":{\"outlinewidth\":0,\"ticks\":\"\"}}}],\"scatterternary\":[{\"type\":\"scatterternary\",\"marker\":{\"colorbar\":{\"outlinewidth\":0,\"ticks\":\"\"}}}],\"scattercarpet\":[{\"type\":\"scattercarpet\",\"marker\":{\"colorbar\":{\"outlinewidth\":0,\"ticks\":\"\"}}}],\"carpet\":[{\"aaxis\":{\"endlinecolor\":\"#2a3f5f\",\"gridcolor\":\"white\",\"linecolor\":\"white\",\"minorgridcolor\":\"white\",\"startlinecolor\":\"#2a3f5f\"},\"baxis\":{\"endlinecolor\":\"#2a3f5f\",\"gridcolor\":\"white\",\"linecolor\":\"white\",\"minorgridcolor\":\"white\",\"startlinecolor\":\"#2a3f5f\"},\"type\":\"carpet\"}],\"table\":[{\"cells\":{\"fill\":{\"color\":\"#EBF0F8\"},\"line\":{\"color\":\"white\"}},\"header\":{\"fill\":{\"color\":\"#C8D4E3\"},\"line\":{\"color\":\"white\"}},\"type\":\"table\"}],\"barpolar\":[{\"marker\":{\"line\":{\"color\":\"#E5ECF6\",\"width\":0.5},\"pattern\":{\"fillmode\":\"overlay\",\"size\":10,\"solidity\":0.2}},\"type\":\"barpolar\"}],\"pie\":[{\"automargin\":true,\"type\":\"pie\"}]},\"layout\":{\"autotypenumbers\":\"strict\",\"colorway\":[\"#636efa\",\"#EF553B\",\"#00cc96\",\"#ab63fa\",\"#FFA15A\",\"#19d3f3\",\"#FF6692\",\"#B6E880\",\"#FF97FF\",\"#FECB52\"],\"font\":{\"color\":\"#2a3f5f\"},\"hovermode\":\"closest\",\"hoverlabel\":{\"align\":\"left\"},\"paper_bgcolor\":\"white\",\"plot_bgcolor\":\"#E5ECF6\",\"polar\":{\"bgcolor\":\"#E5ECF6\",\"angularaxis\":{\"gridcolor\":\"white\",\"linecolor\":\"white\",\"ticks\":\"\"},\"radialaxis\":{\"gridcolor\":\"white\",\"linecolor\":\"white\",\"ticks\":\"\"}},\"ternary\":{\"bgcolor\":\"#E5ECF6\",\"aaxis\":{\"gridcolor\":\"white\",\"linecolor\":\"white\",\"ticks\":\"\"},\"baxis\":{\"gridcolor\":\"white\",\"linecolor\":\"white\",\"ticks\":\"\"},\"caxis\":{\"gridcolor\":\"white\",\"linecolor\":\"white\",\"ticks\":\"\"}},\"coloraxis\":{\"colorbar\":{\"outlinewidth\":0,\"ticks\":\"\"}},\"colorscale\":{\"sequential\":[[0.0,\"#0d0887\"],[0.1111111111111111,\"#46039f\"],[0.2222222222222222,\"#7201a8\"],[0.3333333333333333,\"#9c179e\"],[0.4444444444444444,\"#bd3786\"],[0.5555555555555556,\"#d8576b\"],[0.6666666666666666,\"#ed7953\"],[0.7777777777777778,\"#fb9f3a\"],[0.8888888888888888,\"#fdca26\"],[1.0,\"#f0f921\"]],\"sequentialminus\":[[0.0,\"#0d0887\"],[0.1111111111111111,\"#46039f\"],[0.2222222222222222,\"#7201a8\"],[0.3333333333333333,\"#9c179e\"],[0.4444444444444444,\"#bd3786\"],[0.5555555555555556,\"#d8576b\"],[0.6666666666666666,\"#ed7953\"],[0.7777777777777778,\"#fb9f3a\"],[0.8888888888888888,\"#fdca26\"],[1.0,\"#f0f921\"]],\"diverging\":[[0,\"#8e0152\"],[0.1,\"#c51b7d\"],[0.2,\"#de77ae\"],[0.3,\"#f1b6da\"],[0.4,\"#fde0ef\"],[0.5,\"#f7f7f7\"],[0.6,\"#e6f5d0\"],[0.7,\"#b8e186\"],[0.8,\"#7fbc41\"],[0.9,\"#4d9221\"],[1,\"#276419\"]]},\"xaxis\":{\"gridcolor\":\"white\",\"linecolor\":\"white\",\"ticks\":\"\",\"title\":{\"standoff\":15},\"zerolinecolor\":\"white\",\"automargin\":true,\"zerolinewidth\":2},\"yaxis\":{\"gridcolor\":\"white\",\"linecolor\":\"white\",\"ticks\":\"\",\"title\":{\"standoff\":15},\"zerolinecolor\":\"white\",\"automargin\":true,\"zerolinewidth\":2},\"scene\":{\"xaxis\":{\"backgroundcolor\":\"#E5ECF6\",\"gridcolor\":\"white\",\"linecolor\":\"white\",\"showbackground\":true,\"ticks\":\"\",\"zerolinecolor\":\"white\",\"gridwidth\":2},\"yaxis\":{\"backgroundcolor\":\"#E5ECF6\",\"gridcolor\":\"white\",\"linecolor\":\"white\",\"showbackground\":true,\"ticks\":\"\",\"zerolinecolor\":\"white\",\"gridwidth\":2},\"zaxis\":{\"backgroundcolor\":\"#E5ECF6\",\"gridcolor\":\"white\",\"linecolor\":\"white\",\"showbackground\":true,\"ticks\":\"\",\"zerolinecolor\":\"white\",\"gridwidth\":2}},\"shapedefaults\":{\"line\":{\"color\":\"#2a3f5f\"}},\"annotationdefaults\":{\"arrowcolor\":\"#2a3f5f\",\"arrowhead\":0,\"arrowwidth\":1},\"geo\":{\"bgcolor\":\"white\",\"landcolor\":\"#E5ECF6\",\"subunitcolor\":\"white\",\"showland\":true,\"showlakes\":true,\"lakecolor\":\"white\"},\"title\":{\"x\":0.05},\"mapbox\":{\"style\":\"light\"}}},\"xaxis\":{\"tickangle\":-45},\"yaxis\":{\"range\":[0,0.3]},\"barmode\":\"group\"},                        {\"responsive\": true}                    ).then(function(){\n",
       "                            \n",
       "var gd = document.getElementById('90de6765-8ed3-47a9-987a-28d0eb1f5b2f');\n",
       "var x = new MutationObserver(function (mutations, observer) {{\n",
       "        var display = window.getComputedStyle(gd).display;\n",
       "        if (!display || display === 'none') {{\n",
       "            console.log([gd, 'removed!']);\n",
       "            Plotly.purge(gd);\n",
       "            observer.disconnect();\n",
       "        }}\n",
       "}});\n",
       "\n",
       "// Listen for the removal of the full notebook cells\n",
       "var notebookContainer = gd.closest('#notebook-container');\n",
       "if (notebookContainer) {{\n",
       "    x.observe(notebookContainer, {childList: true});\n",
       "}}\n",
       "\n",
       "// Listen for the clearing of the current output cell\n",
       "var outputEl = gd.closest('.output');\n",
       "if (outputEl) {{\n",
       "    x.observe(outputEl, {childList: true});\n",
       "}}\n",
       "\n",
       "                        })                };                });            </script>        </div>"
      ]
     },
     "metadata": {},
     "output_type": "display_data"
    }
   ],
   "source": [
    "import plotly.graph_objects as go\n",
    "\n",
    "fig = go.Figure()\n",
    "\n",
    "for model_id in MODEL_IDS:\n",
    "    hs_types = df[df[\"model_id\"] == model_id][\"hidden_state_name\"].unique()\n",
    "    roi_scores = {roi: 0 for roi in ROIS}\n",
    "    roi_maxes = {roi: -1 for roi in ROIS}\n",
    "    roi_mins = {roi: 1 for roi in ROIS}\n",
    "    for hs_type in hs_types:\n",
    "        for subject in SUBJECTS:\n",
    "            for roi in ROIS:\n",
    "                subject_roi_score = df[\n",
    "                    (df[\"model_id\"] == model_id) &\n",
    "                    (df[\"roi\"] == roi) &\n",
    "                    (df[\"subject\"] == subject) &\n",
    "                    (df[\"hidden_state_name\"] == hs_type)\n",
    "                ][\"score\"].values[0]\n",
    "\n",
    "                roi_scores[roi] += subject_roi_score\n",
    "                roi_maxes[roi] = max(subject_roi_score, roi_maxes[roi])\n",
    "                roi_mins[roi] = min(subject_roi_score, roi_mins[roi])\n",
    "\n",
    "        for roi, score in roi_scores.items():\n",
    "            roi_scores[roi] = score / 4\n",
    "\n",
    "        error_y = {roi: 1 for roi in ROIS}\n",
    "        for roi in ROIS:\n",
    "            error_y[roi] = max(\n",
    "                abs(roi_scores[roi] - roi_maxes[roi]),\n",
    "                abs(roi_scores[roi] - roi_mins[roi]),\n",
    "            )\n",
    "\n",
    "        fig.add_trace(go.Bar(\n",
    "            x=ROIS,\n",
    "            y=[roi_scores[roi] for roi in ROIS],\n",
    "            name=f\"{model_id} : {hs_type}\",\n",
    "            error_y=dict(type=\"data\", array=[error_y[roi] for roi in ROIS])\n",
    "        ))\n",
    "\n",
    "fig.update_layout(barmode=\"group\", xaxis_tickangle=-45, yaxis_range=[0, 0.3])\n",
    "fig.show()"
   ]
  }
 ],
 "metadata": {
  "kernelspec": {
   "display_name": "Python 3 (ipykernel)",
   "language": "python",
   "name": "python3"
  },
  "language_info": {
   "codemirror_mode": {
    "name": "ipython",
    "version": 3
   },
   "file_extension": ".py",
   "mimetype": "text/x-python",
   "name": "python",
   "nbconvert_exporter": "python",
   "pygments_lexer": "ipython3",
   "version": "3.10.13"
  }
 },
 "nbformat": 4,
 "nbformat_minor": 5
}
