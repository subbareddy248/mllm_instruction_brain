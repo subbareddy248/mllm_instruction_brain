{
 "cells": [
  {
   "cell_type": "code",
   "execution_count": 1,
   "id": "7e03303b-01b8-400a-b35b-3da5718e67ca",
   "metadata": {
    "tags": []
   },
   "outputs": [],
   "source": [
    "SUBJECT = 1\n",
    "BASE_DIR = \"/tmp/akshett.jindal\"\n",
    "MODEL_ID = \"Salesforce/instructblip-vicuna-7b\""
   ]
  },
  {
   "cell_type": "code",
   "execution_count": 2,
   "id": "d3c3d169-02d0-4f13-b5c0-2c5e1bdd2bcd",
   "metadata": {
    "tags": []
   },
   "outputs": [],
   "source": [
    "MODEL_NAME = MODEL_ID.replace(\"/\", \"_\").replace(\" \", \"_\")"
   ]
  },
  {
   "cell_type": "code",
   "execution_count": 3,
   "id": "cae9b58a-abd6-459e-b2f2-bcc7cb3e40a6",
   "metadata": {
    "tags": []
   },
   "outputs": [],
   "source": [
    "import os\n",
    "\n",
    "EXP_DESIGN_FPATH = os.path.join(BASE_DIR, \"nsd_expdesign.mat\")"
   ]
  },
  {
   "cell_type": "code",
   "execution_count": 4,
   "id": "ca1d93be-2702-44f5-adb4-43f890687175",
   "metadata": {
    "tags": []
   },
   "outputs": [],
   "source": [
    "OUTPUT_DIR = os.path.join(BASE_DIR, \"trained_models\", MODEL_NAME)"
   ]
  },
  {
   "cell_type": "code",
   "execution_count": 5,
   "id": "4d8a2ceb-700a-4bbc-a235-29f655d62f19",
   "metadata": {
    "tags": []
   },
   "outputs": [],
   "source": [
    "import glob\n",
    "\n",
    "IMAGE_EMBEDDINGS_DIR = os.path.join(\n",
    "    BASE_DIR,\n",
    "    \"image_embeddings\",\n",
    "    MODEL_NAME,\n",
    "    f\"subject_{SUBJECT:02}\",\n",
    "    \"batch_*.pkl\",\n",
    ")\n",
    "\n",
    "batch_paths = sorted(\n",
    "    glob.glob(IMAGE_EMBEDDINGS_DIR, recursive=True),\n",
    "    key=lambda i: int(i.split('_')[-1].split('.')[0]),\n",
    ")"
   ]
  },
  {
   "cell_type": "code",
   "execution_count": 6,
   "id": "bd5422b9-ea09-42b0-9517-c46f930a482b",
   "metadata": {
    "tags": []
   },
   "outputs": [],
   "source": [
    "import pickle\n",
    "\n",
    "VISION_HIDDEN_STATES = {}\n",
    "QFORMER_HIDDEN_STATES = {}\n",
    "\n",
    "VISION_LAYERS_COUNT = 0\n",
    "QFORMER_LAYERS_COUNT = 0\n",
    "\n",
    "for batch_filepath in batch_paths:\n",
    "\n",
    "    with open(batch_filepath, \"rb\") as batch_file:\n",
    "        batches = pickle.load(batch_file)\n",
    "\n",
    "    for batch in batches:\n",
    "        vision_hs = batch['vision_hidden_states']\n",
    "        qformer_hs = batch['qformer_hidden_states']\n",
    "\n",
    "        for image_num, image_id in enumerate(batch['image_ids']):\n",
    "            vhs = tuple(hs[image_num] for hs in vision_hs)\n",
    "            qhs = tuple(hs[image_num] for hs in qformer_hs)\n",
    "\n",
    "            VISION_LAYERS_COUNT = len(vhs)\n",
    "            QFORMER_LAYERS_COUNT = len(qhs)\n",
    "\n",
    "            VISION_HIDDEN_STATES[image_id] = vhs\n",
    "            QFORMER_HIDDEN_STATES[image_id] = qhs\n",
    "\n",
    "    del batches"
   ]
  },
  {
   "cell_type": "code",
   "execution_count": 7,
   "id": "aa0d9d72-d875-4cbc-b630-7a2a07810b71",
   "metadata": {
    "tags": []
   },
   "outputs": [
    {
     "data": {
      "text/plain": [
       "(40, 13)"
      ]
     },
     "execution_count": 7,
     "metadata": {},
     "output_type": "execute_result"
    }
   ],
   "source": [
    "VISION_LAYERS_COUNT, QFORMER_LAYERS_COUNT"
   ]
  },
  {
   "cell_type": "code",
   "execution_count": 8,
   "id": "a6dd84e6-942c-49be-bf61-a909c7bce701",
   "metadata": {
    "tags": []
   },
   "outputs": [
    {
     "data": {
      "text/plain": [
       "(14, 73000)"
      ]
     },
     "execution_count": 8,
     "metadata": {},
     "output_type": "execute_result"
    }
   ],
   "source": [
    "min(VISION_HIDDEN_STATES.keys()), max(VISION_HIDDEN_STATES.keys())"
   ]
  },
  {
   "cell_type": "code",
   "execution_count": 9,
   "id": "28c285a6-83b7-4f70-b971-199eee18fca6",
   "metadata": {
    "tags": []
   },
   "outputs": [
    {
     "data": {
      "text/plain": [
       "device(type='cuda')"
      ]
     },
     "execution_count": 9,
     "metadata": {},
     "output_type": "execute_result"
    }
   ],
   "source": [
    "import torch\n",
    "\n",
    "if torch.cuda.is_available():\n",
    "    device = torch.device(\"cuda\")\n",
    "else:\n",
    "    device = torch.device(\"cpu\")\n",
    "\n",
    "device"
   ]
  },
  {
   "cell_type": "code",
   "execution_count": 20,
   "id": "446e2702-31ec-45f0-a8fd-d12ee9578aac",
   "metadata": {
    "tags": []
   },
   "outputs": [
    {
     "data": {
      "application/vnd.jupyter.widget-view+json": {
       "model_id": "009c50cec4aa4054a75b8dbda7baffe9",
       "version_major": 2,
       "version_minor": 0
      },
      "text/plain": [
       "  0%|          | 0/40 [00:00<?, ?it/s]"
      ]
     },
     "metadata": {},
     "output_type": "display_data"
    },
    {
     "name": "stdout",
     "output_type": "stream",
     "text": [
      "Total number of voxels = 15724\n"
     ]
    }
   ],
   "source": [
    "from nsd_dataset import mind_eye_nsd_utils as menutils\n",
    "\n",
    "(\n",
    "    session_data,\n",
    "    (\n",
    "        trn_stim_ordering, trn_voxel_data,\n",
    "        val_stim_ordering, val_voxel_data\n",
    "    )\n",
    ") = menutils.get_split_data(BASE_DIR, SUBJECT)"
   ]
  },
  {
   "cell_type": "code",
   "execution_count": 21,
   "id": "b3d539af-12b8-4c62-a42e-f020b96fca21",
   "metadata": {
    "tags": []
   },
   "outputs": [
    {
     "data": {
      "text/plain": [
       "((3000,), 6, 26964)"
      ]
     },
     "execution_count": 21,
     "metadata": {},
     "output_type": "execute_result"
    }
   ],
   "source": [
    "import numpy as np\n",
    "\n",
    "np.random.seed(42)\n",
    "\n",
    "tst_indices = np.random.choice(\n",
    "    np.arange(trn_stim_ordering.shape[0]),\n",
    "    size=val_stim_ordering.shape[0],\n",
    "    replace=False,\n",
    ")\n",
    "\n",
    "tst_indices.shape, tst_indices.min(), tst_indices.max()"
   ]
  },
  {
   "cell_type": "code",
   "execution_count": 22,
   "id": "fa7637ed-2d92-42c4-a461-94fae4191f09",
   "metadata": {
    "tags": []
   },
   "outputs": [],
   "source": [
    "trn_mask = np.ones(trn_stim_ordering.shape[0], dtype=bool)\n",
    "trn_mask[tst_indices] = False\n",
    "\n",
    "train_stim_ordering = np.copy(trn_stim_ordering[trn_mask])\n",
    "train_voxel_data = np.copy(trn_voxel_data[trn_mask])\n",
    "\n",
    "tst_stim_ordering = np.copy(trn_stim_ordering[tst_indices])\n",
    "tst_voxel_data = np.copy(trn_voxel_data[tst_indices])\n",
    "\n",
    "del trn_stim_ordering, trn_voxel_data\n",
    "\n",
    "trn_stim_ordering = train_stim_ordering\n",
    "trn_voxel_data = train_voxel_data"
   ]
  },
  {
   "cell_type": "code",
   "execution_count": 23,
   "id": "65b5b29c-1a38-4e44-9df3-a2b365cf58fd",
   "metadata": {
    "tags": []
   },
   "outputs": [
    {
     "name": "stdout",
     "output_type": "stream",
     "text": [
      "session_data.shape = (30000, 15724)\n",
      "trn_stim_ordering.shape = (24000,)\n",
      "trn_voxel_data.shape = (24000, 15724)\n",
      "tst_stim_ordering.shape = (3000,)\n",
      "tst_voxel_data.shape = (3000, 15724)\n",
      "val_stim_ordering.shape = (3000,)\n",
      "val_voxel_data.shape = (3000, 15724)\n"
     ]
    }
   ],
   "source": [
    "print(f\"{session_data.shape = }\")\n",
    "print(f\"{trn_stim_ordering.shape = }\")\n",
    "print(f\"{trn_voxel_data.shape = }\")\n",
    "print(f\"{tst_stim_ordering.shape = }\")\n",
    "print(f\"{tst_voxel_data.shape = }\")\n",
    "print(f\"{val_stim_ordering.shape = }\")\n",
    "print(f\"{val_voxel_data.shape = }\")"
   ]
  },
  {
   "cell_type": "code",
   "execution_count": 25,
   "id": "b941b076-ad7b-4426-9dce-17b7dede0dfb",
   "metadata": {
    "tags": []
   },
   "outputs": [],
   "source": [
    "exp_design = menutils.load_exp_design_file(BASE_DIR)\n",
    "\n",
    "trial_images = exp_design[\"subjectim\"]"
   ]
  },
  {
   "cell_type": "code",
   "execution_count": 26,
   "id": "8549cdb2-cdae-4c3f-af71-2d9303b0879f",
   "metadata": {
    "tags": []
   },
   "outputs": [
    {
     "data": {
      "text/plain": [
       "((24000,), 13, 72999)"
      ]
     },
     "execution_count": 26,
     "metadata": {},
     "output_type": "execute_result"
    }
   ],
   "source": [
    "trn_images = trial_images[SUBJECT-1, trn_stim_ordering] - 1\n",
    "val_images = trial_images[SUBJECT-1, val_stim_ordering] - 1\n",
    "tst_images = trial_images[SUBJECT-1, tst_stim_ordering] - 1\n",
    "\n",
    "trn_images.shape, trn_images.min(), trn_images.max()"
   ]
  },
  {
   "cell_type": "code",
   "execution_count": 27,
   "id": "96e8ccf2-382b-4d71-9e9b-dd15628dd9b3",
   "metadata": {
    "tags": []
   },
   "outputs": [],
   "source": [
    "import numpy as np\n",
    "from sklearn.linear_model import LinearRegression\n",
    "from tqdm.auto import tqdm"
   ]
  },
  {
   "cell_type": "code",
   "execution_count": 35,
   "id": "609b64e3-8e1f-4b69-9146-16ca1b98d45c",
   "metadata": {
    "tags": []
   },
   "outputs": [
    {
     "data": {
      "application/vnd.jupyter.widget-view+json": {
       "model_id": "20528a440fa24d8cbc540aff3594fcae",
       "version_major": 2,
       "version_minor": 0
      },
      "text/plain": [
       "  0%|          | 0/40 [00:00<?, ?it/s]"
      ]
     },
     "metadata": {},
     "output_type": "display_data"
    },
    {
     "name": "stdout",
     "output_type": "stream",
     "text": [
      "trn_score = 0.028682754780758445, val_score = -0.03779669159937311, tst_score = -0.020642353123676793\n",
      "trn_score = 0.1108947503981467, val_score = -0.038034949606357255, tst_score = -0.007850153402664399\n",
      "trn_score = 0.1208771683883554, val_score = -0.02266480887861278, tst_score = 0.0044971426208716015\n",
      "trn_score = 0.12532272458102428, val_score = -0.01534778702239022, tst_score = 0.009413220471857544\n",
      "trn_score = 0.1272294593741032, val_score = -0.011754470586402003, tst_score = 0.012283025455522342\n",
      "trn_score = 0.12861114377253444, val_score = -0.011468425748263988, tst_score = 0.014214974616583559\n",
      "trn_score = 0.13172437365719653, val_score = -0.010363712811804102, tst_score = 0.016678135716765408\n",
      "trn_score = 0.13283024040366442, val_score = -0.006138949696787477, tst_score = 0.0182851654060913\n",
      "trn_score = 0.13442416211037245, val_score = -0.0036239039983349715, tst_score = 0.02106552072123469\n",
      "trn_score = 0.1359684154151906, val_score = -0.001238245408761083, tst_score = 0.022727192500975598\n",
      "trn_score = 0.13696906766382677, val_score = -0.0008934431746697714, tst_score = 0.022450268195758225\n",
      "trn_score = 0.1383792928969719, val_score = 0.0017705245884783193, tst_score = 0.025069443455239093\n",
      "trn_score = 0.13992844843239582, val_score = 0.005487389855000835, tst_score = 0.02793542900138076\n",
      "trn_score = 0.1409296574457041, val_score = 0.006155661449395399, tst_score = 0.02776217324056006\n",
      "trn_score = 0.14113588807453067, val_score = 0.007355282107566172, tst_score = 0.028383675711659246\n",
      "trn_score = 0.14110232780920465, val_score = 0.007535865701981952, tst_score = 0.027412384936544906\n",
      "trn_score = 0.14105896456904518, val_score = 0.007030716548587338, tst_score = 0.026642418282446\n",
      "trn_score = 0.14124901232745105, val_score = 0.008735535857195914, tst_score = 0.028119447654612925\n",
      "trn_score = 0.14185051011088665, val_score = 0.008575700460041845, tst_score = 0.02681745455927527\n",
      "trn_score = 0.1418576853834874, val_score = 0.006943114805982605, tst_score = 0.02770500285588271\n",
      "trn_score = 0.14246384282070806, val_score = 0.006669167095915974, tst_score = 0.0275553083887194\n",
      "trn_score = 0.14304221086914068, val_score = 0.006331288020702421, tst_score = 0.028059372422666477\n",
      "trn_score = 0.14324811590558673, val_score = 0.008933060033885642, tst_score = 0.028687480958761072\n",
      "trn_score = 0.1434681582485083, val_score = 0.008875290687354855, tst_score = 0.029021083462701037\n",
      "trn_score = 0.14384767357704506, val_score = 0.01071000504038398, tst_score = 0.030014692792304377\n",
      "trn_score = 0.14434348373650757, val_score = 0.011157726673451922, tst_score = 0.03134491937045359\n",
      "trn_score = 0.144211084185, val_score = 0.009553046286558545, tst_score = 0.0316713231206558\n",
      "trn_score = 0.14415756474929944, val_score = 0.010207432535411884, tst_score = 0.03174454397406056\n",
      "trn_score = 0.1427683741831081, val_score = 0.007466173450904898, tst_score = 0.029286521868678757\n",
      "trn_score = 0.14127915682408596, val_score = 0.0039732391269722235, tst_score = 0.02620451282241919\n",
      "trn_score = 0.14034936888200433, val_score = 0.0027601616483691337, tst_score = 0.024123949476679504\n",
      "trn_score = 0.13886072949571387, val_score = 0.0021632100675840894, tst_score = 0.024773463727015672\n",
      "trn_score = 0.1382044289425543, val_score = 0.002494681747588705, tst_score = 0.024373914112614053\n",
      "trn_score = 0.1377682456864232, val_score = 0.0014605321274964724, tst_score = 0.022662907090483818\n",
      "trn_score = 0.13674934405627873, val_score = 0.001188286437844762, tst_score = 0.020665976596048734\n",
      "trn_score = 0.13584884194149557, val_score = 0.0023656948139684207, tst_score = 0.019461182256153627\n",
      "trn_score = 0.13504700290513025, val_score = 0.0015758972548489856, tst_score = 0.019270714747624467\n",
      "trn_score = 0.134339753064487, val_score = 0.0013257476470750875, tst_score = 0.018591031463980202\n",
      "trn_score = 0.13388425982269994, val_score = 0.00042888375492847875, tst_score = 0.017528713542544098\n",
      "trn_score = 0.1335443892433576, val_score = -0.0008660515180493906, tst_score = 0.016999151752739996\n"
     ]
    }
   ],
   "source": [
    "VISION_MODELS = []\n",
    "\n",
    "for layer_num in tqdm(range(VISION_LAYERS_COUNT)):\n",
    "    trn_hs = np.array([\n",
    "        VISION_HIDDEN_STATES[image_id+1][layer_num]\n",
    "        for image_id in trn_images\n",
    "    ])\n",
    "    val_hs = np.array([\n",
    "        VISION_HIDDEN_STATES[image_id+1][layer_num]\n",
    "        for image_id in val_images\n",
    "    ])\n",
    "    tst_hs = np.array([\n",
    "        VISION_HIDDEN_STATES[image_id+1][layer_num]\n",
    "        for image_id in tst_images\n",
    "    ])\n",
    "\n",
    "    reg = LinearRegression(copy_X=True).fit(trn_hs, trn_voxel_data)\n",
    "    # print(f\"{reg.coef_ = }, {reg.intercept_ = }\")\n",
    "\n",
    "    # trn_voxel_data_pred = reg.predict(trn_hs)\n",
    "    # val_voxel_data_pred = reg.predict(val_hs)\n",
    "    # tst_voxel_data_pred = reg.predict(tst_hs)\n",
    "    # print(f\"{reg.score(val_hs, val_voxel_data_pred) = }\")\n",
    "    trn_score = reg.score(trn_hs, trn_voxel_data)\n",
    "    val_score = reg.score(val_hs, val_voxel_data)\n",
    "    tst_score = reg.score(tst_hs, tst_voxel_data)\n",
    "\n",
    "    print(f\"{trn_score = }, {val_score = }, {tst_score = }\")\n",
    "\n",
    "    VISION_MODELS.append({\n",
    "        \"model\": reg,\n",
    "        \"trn_score\": trn_score,\n",
    "        \"val_score\": val_score,\n",
    "        \"tst_score\": tst_score,\n",
    "    })"
   ]
  },
  {
   "cell_type": "code",
   "execution_count": 36,
   "id": "4fb190e1-2566-49df-8894-39c8cbf9c124",
   "metadata": {
    "tags": []
   },
   "outputs": [
    {
     "data": {
      "application/vnd.jupyter.widget-view+json": {
       "model_id": "20d3d46bd6474455a804631bc9a5a237",
       "version_major": 2,
       "version_minor": 0
      },
      "text/plain": [
       "  0%|          | 0/40 [00:00<?, ?it/s]"
      ]
     },
     "metadata": {},
     "output_type": "display_data"
    }
   ],
   "source": [
    "import os\n",
    "\n",
    "VISION_OUTPUT_DIR = os.path.join(OUTPUT_DIR, \"vision_models\")\n",
    "\n",
    "os.makedirs(VISION_OUTPUT_DIR, exist_ok=True)\n",
    "\n",
    "for layer_num, vision_model in tqdm(enumerate(VISION_MODELS), total=VISION_LAYERS_COUNT):\n",
    "    model_path = os.path.join(VISION_OUTPUT_DIR, f\"vision_model_{layer_num:03}.pkl\")\n",
    "\n",
    "    with open(model_path, \"wb\") as f:\n",
    "        pickle.dump(vision_model, f)"
   ]
  },
  {
   "cell_type": "code",
   "execution_count": 37,
   "id": "0ace0212-f7a6-45f8-8b78-ac04daa59774",
   "metadata": {
    "tags": []
   },
   "outputs": [
    {
     "data": {
      "application/vnd.jupyter.widget-view+json": {
       "model_id": "6cdf4a627aaf40e3a88307a686bb94e9",
       "version_major": 2,
       "version_minor": 0
      },
      "text/plain": [
       "  0%|          | 0/13 [00:00<?, ?it/s]"
      ]
     },
     "metadata": {},
     "output_type": "display_data"
    },
    {
     "name": "stdout",
     "output_type": "stream",
     "text": [
      "trn_score = -647.8032542599934, val_score = -656.703992052697, tst_score = -651.3269876241833\n",
      "trn_score = 0.10186745758306943, val_score = 0.032447047632183465, tst_score = 0.0388117268109571\n",
      "trn_score = 0.10117370847449735, val_score = 0.03259502559558541, tst_score = 0.03891480316568283\n",
      "trn_score = 0.10328137342532703, val_score = 0.03402737642056899, tst_score = 0.041064772420080595\n",
      "trn_score = 0.1029563530817451, val_score = 0.0341991851116097, tst_score = 0.040331787167316786\n",
      "trn_score = 0.1035336152030815, val_score = 0.03249932572491071, tst_score = 0.04045426875255142\n",
      "trn_score = 0.10306571375445212, val_score = 0.03321414505597879, tst_score = 0.0403112953498108\n",
      "trn_score = 0.10345277853194569, val_score = 0.033430877711817644, tst_score = 0.04000231737282121\n",
      "trn_score = 0.1031630259203365, val_score = 0.03348075971672413, tst_score = 0.0398832868153275\n",
      "trn_score = 0.10221488171637184, val_score = 0.03164539661738901, tst_score = 0.03866569364600632\n",
      "trn_score = 0.10191738502670689, val_score = 0.031792052798538764, tst_score = 0.0388091077116597\n",
      "trn_score = 0.10159788272040998, val_score = 0.03254888883636455, tst_score = 0.03897216859368095\n",
      "trn_score = 0.10131076627594196, val_score = 0.03235983289373893, tst_score = 0.03901764283214326\n"
     ]
    }
   ],
   "source": [
    "QFORMER_MODELS = []\n",
    "\n",
    "for layer_num in tqdm(range(QFORMER_LAYERS_COUNT)):\n",
    "    trn_hs = np.array([\n",
    "        QFORMER_HIDDEN_STATES[image_id+1][layer_num]\n",
    "        for image_id in trn_images\n",
    "    ])\n",
    "    val_hs = np.array([\n",
    "        QFORMER_HIDDEN_STATES[image_id+1][layer_num]\n",
    "        for image_id in val_images\n",
    "    ])\n",
    "    tst_hs = np.array([\n",
    "        QFORMER_HIDDEN_STATES[image_id+1][layer_num]\n",
    "        for image_id in tst_images\n",
    "    ])\n",
    "\n",
    "    reg = LinearRegression(copy_X=True).fit(trn_hs, trn_voxel_data)\n",
    "    # print(f\"{reg.coef_ = }, {reg.intercept_ = }\")\n",
    "\n",
    "    # trn_voxel_data_pred = reg.predict(trn_hs)\n",
    "    # val_voxel_data_pred = reg.predict(val_hs)\n",
    "    # tst_voxel_data_pred = reg.predict(tst_hs)\n",
    "    # # print(f\"{reg.score(val_hs, val_voxel_data_pred) = }\")\n",
    "    trn_score = reg.score(trn_hs, trn_voxel_data)\n",
    "    val_score = reg.score(val_hs, val_voxel_data)\n",
    "    tst_score = reg.score(tst_hs, tst_voxel_data)\n",
    "\n",
    "    print(f\"{trn_score = }, {val_score = }, {tst_score = }\")\n",
    "\n",
    "    QFORMER_MODELS.append({\n",
    "        \"model\": reg,\n",
    "        \"trn_score\": trn_score,\n",
    "        \"val_score\": val_score,\n",
    "        \"tst_score\": tst_score,\n",
    "    })"
   ]
  },
  {
   "cell_type": "code",
   "execution_count": 38,
   "id": "918ecdf1-1680-4e40-b386-5f1b88873f7e",
   "metadata": {
    "tags": []
   },
   "outputs": [
    {
     "data": {
      "application/vnd.jupyter.widget-view+json": {
       "model_id": "cdb42401472a4a5ca53492c9f3c1e8f7",
       "version_major": 2,
       "version_minor": 0
      },
      "text/plain": [
       "  0%|          | 0/13 [00:00<?, ?it/s]"
      ]
     },
     "metadata": {},
     "output_type": "display_data"
    }
   ],
   "source": [
    "import os\n",
    "\n",
    "QFORMER_OUTPUT_DIR = os.path.join(OUTPUT_DIR, \"qformer_models\")\n",
    "\n",
    "os.makedirs(QFORMER_OUTPUT_DIR, exist_ok=True)\n",
    "\n",
    "for layer_num, qformer_model in tqdm(enumerate(QFORMER_MODELS), total=QFORMER_LAYERS_COUNT):\n",
    "    model_path = os.path.join(QFORMER_OUTPUT_DIR, f\"qformer_model_{layer_num:03}.pkl\")\n",
    "\n",
    "    with open(model_path, \"wb\") as f:\n",
    "        pickle.dump(qformer_model, f)"
   ]
  },
  {
   "cell_type": "code",
   "execution_count": 40,
   "id": "b0513e1c-07f5-444b-8128-d2255d87d18b",
   "metadata": {},
   "outputs": [],
   "source": [
    "vision_x = range(1, VISION_LAYERS_COUNT+1)\n",
    "vision_trn_y = [metric[\"trn_score\"] for metric in VISION_MODELS]\n",
    "vision_tst_y = [metric[\"tst_score\"] for metric in VISION_MODELS]\n",
    "vision_val_y = [metric[\"val_score\"] for metric in VISION_MODELS]\n",
    "\n",
    "qformer_x = range(1, QFORMER_LAYERS_COUNT+1)\n",
    "qformer_trn_y = [metric[\"trn_score\"] for metric in QFORMER_MODELS]\n",
    "qformer_tst_y = [metric[\"tst_score\"] for metric in QFORMER_MODELS]\n",
    "qformer_val_y = [metric[\"val_score\"] for metric in QFORMER_MODELS]"
   ]
  },
  {
   "cell_type": "code",
   "execution_count": 47,
   "id": "3c82d707-4011-447f-b029-e1d0aa0b5f63",
   "metadata": {
    "tags": []
   },
   "outputs": [
    {
     "data": {
      "image/png": "[encoded data removed]",
      "text/plain": [
       "<Figure size 640x480 with 1 Axes>"
      ]
     },
     "metadata": {},
     "output_type": "display_data"
    },
    {
     "data": {
      "image/png": "[encoded data removed]",
      "text/plain": [
       "<Figure size 640x480 with 1 Axes>"
      ]
     },
     "metadata": {},
     "output_type": "display_data"
    }
   ],
   "source": [
    "import matplotlib.pyplot as plt\n",
    "\n",
    "plt.figure()\n",
    "plt.plot(vision_x, vision_trn_y, label=\"Training Dataset\")\n",
    "plt.plot(vision_x, vision_val_y, label=\"Validation Dataset\")\n",
    "plt.plot(vision_x, vision_tst_y, label=\"Testing Dataset\")\n",
    "plt.title(\"Vision Hidden States\")\n",
    "plt.xlabel(\"Hidden State\")\n",
    "plt.ylabel(\"R^2 Score\")\n",
    "plt.legend()\n",
    "plt.show()\n",
    "\n",
    "plt.figure()\n",
    "plt.plot(qformer_x[1:], qformer_trn_y[1:], label=\"Training Dataset\")\n",
    "plt.plot(qformer_x[1:], qformer_val_y[1:], label=\"Validation Dataset\")\n",
    "plt.plot(qformer_x[1:], qformer_tst_y[1:], label=\"Testing Dataset\")\n",
    "plt.title(\"QFormer Hidden States\")\n",
    "plt.xlabel(\"Hidden State\")\n",
    "plt.ylabel(\"R^2 Score\")\n",
    "plt.legend()\n",
    "plt.show()"
   ]
  }
 ],
 "metadata": {
  "kernelspec": {
   "display_name": "Python 3 (ipykernel)",
   "language": "python",
   "name": "python3"
  },
  "language_info": {
   "codemirror_mode": {
    "name": "ipython",
    "version": 3
   },
   "file_extension": ".py",
   "mimetype": "text/x-python",
   "name": "python",
   "nbconvert_exporter": "python",
   "pygments_lexer": "ipython3",
   "version": "3.10.13"
  }
 },
 "nbformat": 4,
 "nbformat_minor": 5
}
