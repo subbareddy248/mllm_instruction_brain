{
 "cells": [
  {
   "cell_type": "code",
   "execution_count": 1,
   "id": "7e03303b-01b8-400a-b35b-3da5718e67ca",
   "metadata": {
    "tags": []
   },
   "outputs": [],
   "source": [
    "SUBJECT = 1\n",
    "BASE_DIR = \"/tmp/akshett.jindal\"\n",
    "MODEL_ID = \"Salesforce/instructblip-vicuna-7b\""
   ]
  },
  {
   "cell_type": "code",
   "execution_count": 2,
   "id": "d3c3d169-02d0-4f13-b5c0-2c5e1bdd2bcd",
   "metadata": {
    "tags": []
   },
   "outputs": [],
   "source": [
    "MODEL_NAME = MODEL_ID.replace(\"/\", \"_\").replace(\" \", \"_\")"
   ]
  },
  {
   "cell_type": "code",
   "execution_count": 3,
   "id": "cae9b58a-abd6-459e-b2f2-bcc7cb3e40a6",
   "metadata": {
    "tags": []
   },
   "outputs": [],
   "source": [
    "import os\n",
    "\n",
    "EXP_DESIGN_FPATH = os.path.join(BASE_DIR, \"nsd_expdesign.mat\")"
   ]
  },
  {
   "cell_type": "code",
   "execution_count": 4,
   "id": "ca1d93be-2702-44f5-adb4-43f890687175",
   "metadata": {
    "tags": []
   },
   "outputs": [],
   "source": [
    "OUTPUT_DIR = os.path.join(BASE_DIR, \"trained_models\", MODEL_NAME)"
   ]
  },
  {
   "cell_type": "code",
   "execution_count": 5,
   "id": "4d8a2ceb-700a-4bbc-a235-29f655d62f19",
   "metadata": {
    "tags": []
   },
   "outputs": [],
   "source": [
    "import glob\n",
    "\n",
    "IMAGE_EMBEDDINGS_DIR = os.path.join(\n",
    "    BASE_DIR,\n",
    "    \"image_embeddings\",\n",
    "    MODEL_NAME,\n",
    "    f\"subject_{SUBJECT:02}\",\n",
    "    \"batch_*.pkl\",\n",
    ")\n",
    "\n",
    "batch_paths = sorted(\n",
    "    glob.glob(IMAGE_EMBEDDINGS_DIR, recursive=True),\n",
    "    key=lambda i: int(i.split('_')[-1].split('.')[0]),\n",
    ")"
   ]
  },
  {
   "cell_type": "code",
   "execution_count": 6,
   "id": "bd5422b9-ea09-42b0-9517-c46f930a482b",
   "metadata": {
    "tags": []
   },
   "outputs": [],
   "source": [
    "import pickle\n",
    "\n",
    "VISION_HIDDEN_STATES = {}\n",
    "QFORMER_HIDDEN_STATES = {}\n",
    "\n",
    "VISION_LAYERS_COUNT = 0\n",
    "QFORMER_LAYERS_COUNT = 0\n",
    "\n",
    "for batch_filepath in batch_paths:\n",
    "\n",
    "    with open(batch_filepath, \"rb\") as batch_file:\n",
    "        batches = pickle.load(batch_file)\n",
    "\n",
    "    for batch in batches:\n",
    "        vision_hs = batch['vision_hidden_states']\n",
    "        qformer_hs = batch['qformer_hidden_states']\n",
    "\n",
    "        for image_num, image_id in enumerate(batch['image_ids']):\n",
    "            vhs = tuple(hs[image_num] for hs in vision_hs)\n",
    "            qhs = tuple(hs[image_num] for hs in qformer_hs)\n",
    "\n",
    "            VISION_LAYERS_COUNT = len(vhs)\n",
    "            QFORMER_LAYERS_COUNT = len(qhs)\n",
    "\n",
    "            VISION_HIDDEN_STATES[image_id] = vhs\n",
    "            QFORMER_HIDDEN_STATES[image_id] = qhs\n",
    "\n",
    "    del batches"
   ]
  },
  {
   "cell_type": "code",
   "execution_count": 7,
   "id": "aa0d9d72-d875-4cbc-b630-7a2a07810b71",
   "metadata": {
    "tags": []
   },
   "outputs": [
    {
     "data": {
      "text/plain": [
       "(40, 13)"
      ]
     },
     "execution_count": 7,
     "metadata": {},
     "output_type": "execute_result"
    }
   ],
   "source": [
    "VISION_LAYERS_COUNT, QFORMER_LAYERS_COUNT"
   ]
  },
  {
   "cell_type": "code",
   "execution_count": 8,
   "id": "a6dd84e6-942c-49be-bf61-a909c7bce701",
   "metadata": {
    "tags": []
   },
   "outputs": [
    {
     "data": {
      "text/plain": [
       "(14, 73000)"
      ]
     },
     "execution_count": 8,
     "metadata": {},
     "output_type": "execute_result"
    }
   ],
   "source": [
    "min(VISION_HIDDEN_STATES.keys()), max(VISION_HIDDEN_STATES.keys())"
   ]
  },
  {
   "cell_type": "code",
   "execution_count": 10,
   "id": "446e2702-31ec-45f0-a8fd-d12ee9578aac",
   "metadata": {
    "tags": []
   },
   "outputs": [
    {
     "name": "stdout",
     "output_type": "stream",
     "text": [
      "Total number of voxels = 15724\n"
     ]
    }
   ],
   "source": [
    "from nsd_dataset import mind_eye_nsd_utils as menutils\n",
    "\n",
    "(\n",
    "    trial_order,\n",
    "    session_data,\n",
    "    (\n",
    "        trn_stim_ordering, trn_voxel_data,\n",
    "        val_stim_ordering, val_voxel_data\n",
    "    )\n",
    ") = menutils.get_split_data(BASE_DIR, SUBJECT, average_out_fmri=True)"
   ]
  },
  {
   "cell_type": "code",
   "execution_count": 11,
   "id": "8ac7ca9d-a21d-4ac1-9e91-ecedf52922f9",
   "metadata": {
    "tags": []
   },
   "outputs": [
    {
     "name": "stdout",
     "output_type": "stream",
     "text": [
      "trial_order.shape = (10000,), trial_order.min() = 1, trial_order.max() = 10000\n",
      "session_data.shape = (10000, 15724), session_data.min() = -32768.0, session_data.max() = 32767.0\n",
      "trn_stim_ordering.shape = (9000,), trn_stim_ordering.min() = 1000, trn_stim_ordering.max() = 9999\n",
      "trn_voxel_data.shape = (9000, 15724), trn_voxel_data.min() = -32768.0, trn_voxel_data.max() = 32767.0\n",
      "val_stim_ordering.shape = (1000,), val_stim_ordering.min() = 0, val_stim_ordering.max() = 999\n",
      "val_voxel_data.shape = (1000, 15724), val_voxel_data.min() = -28514.333333333332, val_voxel_data.max() = 32767.0\n"
     ]
    }
   ],
   "source": [
    "print(f\"{trial_order.shape = }, {trial_order.min() = }, {trial_order.max() = }\")\n",
    "print(f\"{session_data.shape = }, {session_data.min() = }, {session_data.max() = }\")\n",
    "print(f\"{trn_stim_ordering.shape = }, {trn_stim_ordering.min() = }, {trn_stim_ordering.max() = }\")\n",
    "print(f\"{trn_voxel_data.shape = }, {trn_voxel_data.min() = }, {trn_voxel_data.max() = }\")\n",
    "print(f\"{val_stim_ordering.shape = }, {val_stim_ordering.min() = }, {val_stim_ordering.max() = }\")\n",
    "print(f\"{val_voxel_data.shape = }, {val_voxel_data.min() = }, {val_voxel_data.max() = }\")"
   ]
  },
  {
   "cell_type": "code",
   "execution_count": 12,
   "id": "b3d539af-12b8-4c62-a42e-f020b96fca21",
   "metadata": {
    "tags": []
   },
   "outputs": [
    {
     "data": {
      "text/plain": [
       "((1000,), 8, 8999)"
      ]
     },
     "execution_count": 12,
     "metadata": {},
     "output_type": "execute_result"
    }
   ],
   "source": [
    "import numpy as np\n",
    "\n",
    "np.random.seed(42)\n",
    "\n",
    "tst_indices = np.random.choice(\n",
    "    np.arange(trn_stim_ordering.shape[0]),\n",
    "    size=val_stim_ordering.shape[0],\n",
    "    replace=False,\n",
    ")\n",
    "\n",
    "tst_indices.shape, tst_indices.min(), tst_indices.max()"
   ]
  },
  {
   "cell_type": "code",
   "execution_count": null,
   "id": "fa7637ed-2d92-42c4-a461-94fae4191f09",
   "metadata": {
    "tags": []
   },
   "outputs": [],
   "source": [
    "trn_mask = np.ones(trn_stim_ordering.shape[0], dtype=bool)\n",
    "trn_mask[tst_indices] = False\n",
    "\n",
    "train_stim_ordering = np.copy(trn_stim_ordering[trn_mask])\n",
    "train_voxel_data = np.copy(trn_voxel_data[trn_mask])\n",
    "\n",
    "tst_stim_ordering = np.copy(trn_stim_ordering[tst_indices])\n",
    "tst_voxel_data = np.copy(trn_voxel_data[tst_indices])\n",
    "\n",
    "del trn_stim_ordering, trn_voxel_data\n",
    "\n",
    "trn_stim_ordering = train_stim_ordering\n",
    "trn_voxel_data = train_voxel_data"
   ]
  },
  {
   "cell_type": "code",
   "execution_count": 13,
   "id": "65b5b29c-1a38-4e44-9df3-a2b365cf58fd",
   "metadata": {
    "tags": []
   },
   "outputs": [
    {
     "name": "stdout",
     "output_type": "stream",
     "text": [
      "session_data.shape = (10000, 15724)\n",
      "trn_stim_ordering.shape = (9000,)\n",
      "trn_voxel_data.shape = (9000, 15724)\n",
      "val_stim_ordering.shape = (1000,)\n",
      "val_voxel_data.shape = (1000, 15724)\n"
     ]
    }
   ],
   "source": [
    "print(f\"{session_data.shape = }\")\n",
    "print(f\"{trn_stim_ordering.shape = }\")\n",
    "print(f\"{trn_voxel_data.shape = }\")\n",
    "# print(f\"{tst_stim_ordering.shape = }\")\n",
    "# print(f\"{tst_voxel_data.shape = }\")\n",
    "print(f\"{val_stim_ordering.shape = }\")\n",
    "print(f\"{val_voxel_data.shape = }\")"
   ]
  },
  {
   "cell_type": "code",
   "execution_count": 14,
   "id": "b941b076-ad7b-4426-9dce-17b7dede0dfb",
   "metadata": {
    "tags": []
   },
   "outputs": [],
   "source": [
    "exp_design = menutils.load_exp_design_file(BASE_DIR)\n",
    "\n",
    "trial_images = exp_design[\"subjectim\"]"
   ]
  },
  {
   "cell_type": "code",
   "execution_count": 15,
   "id": "8549cdb2-cdae-4c3f-af71-2d9303b0879f",
   "metadata": {
    "tags": []
   },
   "outputs": [
    {
     "data": {
      "text/plain": [
       "((9000,), 13, 72999)"
      ]
     },
     "execution_count": 15,
     "metadata": {},
     "output_type": "execute_result"
    }
   ],
   "source": [
    "trn_images = trial_images[SUBJECT-1, trn_stim_ordering] - 1\n",
    "val_images = trial_images[SUBJECT-1, val_stim_ordering] - 1\n",
    "# tst_images = trial_images[SUBJECT-1, tst_stim_ordering] - 1\n",
    "\n",
    "trn_images.shape, trn_images.min(), trn_images.max()"
   ]
  },
  {
   "cell_type": "code",
   "execution_count": 16,
   "id": "96e8ccf2-382b-4d71-9e9b-dd15628dd9b3",
   "metadata": {
    "tags": []
   },
   "outputs": [],
   "source": [
    "import numpy as np\n",
    "from tqdm.auto import tqdm"
   ]
  },
  {
   "cell_type": "markdown",
   "id": "59e58f9e-1b9a-4dad-8400-ecc496a67115",
   "metadata": {
    "jp-MarkdownHeadingCollapsed": true,
    "tags": []
   },
   "source": [
    "### Linear Regresssion"
   ]
  },
  {
   "cell_type": "code",
   "execution_count": null,
   "id": "7d3c1877-cb96-4f08-9b89-82622b4ae061",
   "metadata": {
    "tags": []
   },
   "outputs": [],
   "source": [
    "from sklearn.linear_model import LinearRegression"
   ]
  },
  {
   "cell_type": "code",
   "execution_count": null,
   "id": "609b64e3-8e1f-4b69-9146-16ca1b98d45c",
   "metadata": {
    "tags": []
   },
   "outputs": [],
   "source": [
    "VISION_MODELS = []\n",
    "\n",
    "for layer_num in tqdm(range(VISION_LAYERS_COUNT)):\n",
    "    trn_hs = np.array([\n",
    "        VISION_HIDDEN_STATES[image_id+1][layer_num]\n",
    "        for image_id in trn_images\n",
    "    ])\n",
    "    val_hs = np.array([\n",
    "        VISION_HIDDEN_STATES[image_id+1][layer_num]\n",
    "        for image_id in val_images\n",
    "    ])\n",
    "    tst_hs = np.array([\n",
    "        VISION_HIDDEN_STATES[image_id+1][layer_num]\n",
    "        for image_id in tst_images\n",
    "    ])\n",
    "\n",
    "    reg = LinearRegression(copy_X=True).fit(trn_hs, trn_voxel_data)\n",
    "    # print(f\"{reg.coef_ = }, {reg.intercept_ = }\")\n",
    "\n",
    "    # trn_voxel_data_pred = reg.predict(trn_hs)\n",
    "    # val_voxel_data_pred = reg.predict(val_hs)\n",
    "    # tst_voxel_data_pred = reg.predict(tst_hs)\n",
    "    # print(f\"{reg.score(val_hs, val_voxel_data_pred) = }\")\n",
    "    trn_score = reg.score(trn_hs, trn_voxel_data)\n",
    "    val_score = reg.score(val_hs, val_voxel_data)\n",
    "    tst_score = reg.score(tst_hs, tst_voxel_data)\n",
    "\n",
    "    print(f\"[{layer_num+1:02}/{VISION_LAYERS_COUNT:02}] {trn_score = }, {val_score = }, {tst_score = }\")\n",
    "\n",
    "    VISION_MODELS.append({\n",
    "        \"model\": reg,\n",
    "        \"trn_score\": trn_score,\n",
    "        \"val_score\": val_score,\n",
    "        \"tst_score\": tst_score,\n",
    "    })"
   ]
  },
  {
   "cell_type": "code",
   "execution_count": null,
   "id": "4fb190e1-2566-49df-8894-39c8cbf9c124",
   "metadata": {
    "tags": []
   },
   "outputs": [],
   "source": [
    "import os\n",
    "\n",
    "VISION_OUTPUT_DIR = os.path.join(OUTPUT_DIR, \"linear_models\", \"vision_models\")\n",
    "\n",
    "os.makedirs(VISION_OUTPUT_DIR, exist_ok=True)\n",
    "\n",
    "for layer_num, vision_model in tqdm(enumerate(VISION_MODELS), total=VISION_LAYERS_COUNT):\n",
    "    model_path = os.path.join(VISION_OUTPUT_DIR, f\"vision_model_{layer_num:03}.pkl\")\n",
    "\n",
    "    with open(model_path, \"wb\") as f:\n",
    "        pickle.dump(vision_model, f)"
   ]
  },
  {
   "cell_type": "code",
   "execution_count": null,
   "id": "0ace0212-f7a6-45f8-8b78-ac04daa59774",
   "metadata": {
    "tags": []
   },
   "outputs": [],
   "source": [
    "QFORMER_MODELS = []\n",
    "\n",
    "for layer_num in tqdm(range(QFORMER_LAYERS_COUNT)):\n",
    "    trn_hs = np.array([\n",
    "        QFORMER_HIDDEN_STATES[image_id+1][layer_num]\n",
    "        for image_id in trn_images\n",
    "    ])\n",
    "    val_hs = np.array([\n",
    "        QFORMER_HIDDEN_STATES[image_id+1][layer_num]\n",
    "        for image_id in val_images\n",
    "    ])\n",
    "    tst_hs = np.array([\n",
    "        QFORMER_HIDDEN_STATES[image_id+1][layer_num]\n",
    "        for image_id in tst_images\n",
    "    ])\n",
    "\n",
    "    reg = LinearRegression(copy_X=True).fit(trn_hs, trn_voxel_data)\n",
    "    # print(f\"{reg.coef_ = }, {reg.intercept_ = }\")\n",
    "\n",
    "    # trn_voxel_data_pred = reg.predict(trn_hs)\n",
    "    # val_voxel_data_pred = reg.predict(val_hs)\n",
    "    # tst_voxel_data_pred = reg.predict(tst_hs)\n",
    "    # # print(f\"{reg.score(val_hs, val_voxel_data_pred) = }\")\n",
    "    trn_score = reg.score(trn_hs, trn_voxel_data)\n",
    "    val_score = reg.score(val_hs, val_voxel_data)\n",
    "    tst_score = reg.score(tst_hs, tst_voxel_data)\n",
    "\n",
    "    print(f\"[{layer_num+1:02}/{QFORMER_LAYERS_COUNT:02}] {trn_score = }, {val_score = }, {tst_score = }\")\n",
    "\n",
    "    QFORMER_MODELS.append({\n",
    "        \"model\": reg,\n",
    "        \"trn_score\": trn_score,\n",
    "        \"val_score\": val_score,\n",
    "        \"tst_score\": tst_score,\n",
    "    })"
   ]
  },
  {
   "cell_type": "code",
   "execution_count": null,
   "id": "918ecdf1-1680-4e40-b386-5f1b88873f7e",
   "metadata": {
    "tags": []
   },
   "outputs": [],
   "source": [
    "import os\n",
    "\n",
    "QFORMER_OUTPUT_DIR = os.path.join(OUTPUT_DIR, \"linear_models\", \"qformer_models\")\n",
    "\n",
    "os.makedirs(QFORMER_OUTPUT_DIR, exist_ok=True)\n",
    "\n",
    "for layer_num, qformer_model in tqdm(enumerate(QFORMER_MODELS), total=QFORMER_LAYERS_COUNT):\n",
    "    model_path = os.path.join(QFORMER_OUTPUT_DIR, f\"qformer_model_{layer_num:03}.pkl\")\n",
    "\n",
    "    with open(model_path, \"wb\") as f:\n",
    "        pickle.dump(qformer_model, f)"
   ]
  },
  {
   "cell_type": "code",
   "execution_count": null,
   "id": "b0513e1c-07f5-444b-8128-d2255d87d18b",
   "metadata": {},
   "outputs": [],
   "source": [
    "vision_x = range(1, VISION_LAYERS_COUNT+1)\n",
    "vision_trn_y = [metric[\"trn_score\"] for metric in VISION_MODELS]\n",
    "vision_tst_y = [metric[\"tst_score\"] for metric in VISION_MODELS]\n",
    "vision_val_y = [metric[\"val_score\"] for metric in VISION_MODELS]\n",
    "\n",
    "qformer_x = range(1, QFORMER_LAYERS_COUNT+1)\n",
    "qformer_trn_y = [metric[\"trn_score\"] for metric in QFORMER_MODELS]\n",
    "qformer_tst_y = [metric[\"tst_score\"] for metric in QFORMER_MODELS]\n",
    "qformer_val_y = [metric[\"val_score\"] for metric in QFORMER_MODELS]"
   ]
  },
  {
   "cell_type": "code",
   "execution_count": null,
   "id": "77562a61-6046-4cce-a4c1-d07981c5d26a",
   "metadata": {
    "tags": []
   },
   "outputs": [],
   "source": [
    "import matplotlib.pyplot as plt\n",
    "\n",
    "plt.figure()\n",
    "plt.plot(vision_x, vision_trn_y, label=\"Training Dataset\")\n",
    "plt.plot(vision_x, vision_val_y, label=\"Validation Dataset\")\n",
    "plt.plot(vision_x, vision_tst_y, label=\"Testing Dataset\")\n",
    "plt.title(\"Vision Hidden States\")\n",
    "plt.xlabel(\"Hidden State\")\n",
    "plt.ylabel(\"R^2 Score\")\n",
    "plt.legend()\n",
    "plt.savefig(os.path.join(OUTPUT_DIR, f\"visual_models_{MODEL_NAME}_linear.png\"))\n",
    "plt.show()\n",
    "plt.close()\n",
    "\n",
    "plt.figure()\n",
    "plt.plot(qformer_x[1:], qformer_trn_y[1:], label=\"Training Dataset\")\n",
    "plt.plot(qformer_x[1:], qformer_val_y[1:], label=\"Validation Dataset\")\n",
    "plt.plot(qformer_x[1:], qformer_tst_y[1:], label=\"Testing Dataset\")\n",
    "plt.title(\"QFormer Hidden States\")\n",
    "plt.xlabel(\"Hidden State\")\n",
    "plt.ylabel(\"R^2 Score\")\n",
    "plt.legend()\n",
    "plt.savefig(os.path.join(OUTPUT_DIR, f\"qformer_models_{MODEL_NAME}_linear.png\"))\n",
    "plt.show()\n",
    "plt.close()"
   ]
  },
  {
   "cell_type": "markdown",
   "id": "37097351-3321-4298-ba1c-c84c43cdc543",
   "metadata": {
    "jp-MarkdownHeadingCollapsed": true,
    "tags": []
   },
   "source": [
    "### Ridge Regresssion"
   ]
  },
  {
   "cell_type": "code",
   "execution_count": 31,
   "id": "d53ac191-db8c-46b0-9b78-9df9b887bd1b",
   "metadata": {
    "tags": []
   },
   "outputs": [],
   "source": [
    "from sklearn.linear_model import Ridge\n",
    "\n",
    "RIDGE_ALPHA = 1000"
   ]
  },
  {
   "cell_type": "code",
   "execution_count": 32,
   "id": "c4376a34-14f8-43f5-bcd4-6148a7ef78a0",
   "metadata": {
    "tags": []
   },
   "outputs": [
    {
     "data": {
      "application/vnd.jupyter.widget-view+json": {
       "model_id": "9a1dd8289d524e9daad359a99852cbec",
       "version_major": 2,
       "version_minor": 0
      },
      "text/plain": [
       "  0%|          | 0/40 [00:00<?, ?it/s]"
      ]
     },
     "metadata": {},
     "output_type": "display_data"
    },
    {
     "name": "stdout",
     "output_type": "stream",
     "text": [
      "[01/40] trn_score = 0.014055900959250004, val_score = 0.010154971424756548\n",
      "[02/40] trn_score = 0.05678898443872628, val_score = 0.05034108236880723\n",
      "[03/40] trn_score = 0.07217944755811292, val_score = 0.06553251460116\n",
      "[04/40] trn_score = 0.08052869656059466, val_score = 0.07198485700150153\n",
      "[05/40] trn_score = 0.08842811703877702, val_score = 0.07793258846441646\n",
      "[06/40] trn_score = 0.09685548565078121, val_score = 0.08361010866687045\n",
      "[07/40] trn_score = 0.11059071620873996, val_score = 0.09485216535510768\n",
      "[08/40] trn_score = 0.1177649567477515, val_score = 0.09995122075936555\n",
      "[09/40] trn_score = 0.12377115437276417, val_score = 0.1042274784364142\n",
      "[10/40] trn_score = 0.1309587118761816, val_score = 0.11123697640082188\n",
      "[11/40] trn_score = 0.13513477084649408, val_score = 0.11437630792927321\n",
      "[12/40] trn_score = 0.14066863481327582, val_score = 0.11837313690545839\n",
      "[13/40] trn_score = 0.14703672140183605, val_score = 0.12307882143773789\n",
      "[14/40] trn_score = 0.14901411019410474, val_score = 0.12497987440958891\n",
      "[15/40] trn_score = 0.1490052399390183, val_score = 0.12586726658697517\n",
      "[16/40] trn_score = 0.14774571783433174, val_score = 0.12489349254681484\n",
      "[17/40] trn_score = 0.1491656895554496, val_score = 0.12531293890437256\n",
      "[18/40] trn_score = 0.14972364957303935, val_score = 0.12567008899821952\n",
      "[19/40] trn_score = 0.15224270988027447, val_score = 0.12829399919807535\n",
      "[20/40] trn_score = 0.15232467814336173, val_score = 0.12831843531561626\n",
      "[21/40] trn_score = 0.1509063058677537, val_score = 0.12772495600132047\n",
      "[22/40] trn_score = 0.14793615849316868, val_score = 0.12684415216478165\n",
      "[23/40] trn_score = 0.14409654108871606, val_score = 0.12553441249527017\n",
      "[24/40] trn_score = 0.14062962122261624, val_score = 0.12416270146601723\n",
      "[25/40] trn_score = 0.1351007530207263, val_score = 0.121426568954417\n",
      "[26/40] trn_score = 0.13115281587344477, val_score = 0.11928121939509473\n",
      "[27/40] trn_score = 0.12959594234590388, val_score = 0.11814338652526302\n",
      "[28/40] trn_score = 0.13063390063802727, val_score = 0.11842665638084701\n",
      "[29/40] trn_score = 0.13108176371799393, val_score = 0.11766647647563205\n",
      "[30/40] trn_score = 0.13303556923585966, val_score = 0.11792985698659639\n",
      "[31/40] trn_score = 0.13632324539730362, val_score = 0.11847428235426133\n",
      "[32/40] trn_score = 0.14069739525345235, val_score = 0.11932352510328917\n",
      "[33/40] trn_score = 0.14540624075921302, val_score = 0.12006320159837369\n",
      "[34/40] trn_score = 0.15064489626387434, val_score = 0.12101895964215052\n",
      "[35/40] trn_score = 0.156604474952558, val_score = 0.12172328641863725\n",
      "[36/40] trn_score = 0.16260893909216903, val_score = 0.12163889268773612\n",
      "[37/40] trn_score = 0.16869229404280245, val_score = 0.12028473678279186\n",
      "[38/40] trn_score = 0.17434316297698182, val_score = 0.11897815116837183\n",
      "[39/40] trn_score = 0.17829173648776217, val_score = 0.11773105894355437\n",
      "[40/40] trn_score = 0.1812887862913712, val_score = 0.11633579937313535\n"
     ]
    }
   ],
   "source": [
    "VISION_MODELS = []\n",
    "\n",
    "for layer_num in tqdm(range(VISION_LAYERS_COUNT)):\n",
    "    trn_hs = np.array([\n",
    "        VISION_HIDDEN_STATES[image_id+1][layer_num]\n",
    "        for image_id in trn_images\n",
    "    ])\n",
    "    val_hs = np.array([\n",
    "        VISION_HIDDEN_STATES[image_id+1][layer_num]\n",
    "        for image_id in val_images\n",
    "    ])\n",
    "    # tst_hs = np.array([\n",
    "    #     VISION_HIDDEN_STATES[image_id+1][layer_num]\n",
    "    #     for image_id in tst_images\n",
    "    # ])\n",
    "\n",
    "    reg = Ridge(alpha=RIDGE_ALPHA).fit(trn_hs, trn_voxel_data)\n",
    "    # print(f\"{reg.coef_ = }, {reg.intercept_ = }\")\n",
    "\n",
    "    # trn_voxel_data_pred = reg.predict(trn_hs)\n",
    "    # val_voxel_data_pred = reg.predict(val_hs)\n",
    "    # tst_voxel_data_pred = reg.predict(tst_hs)\n",
    "    # print(f\"{reg.score(val_hs, val_voxel_data_pred) = }\")\n",
    "    trn_score = reg.score(trn_hs, trn_voxel_data)\n",
    "    val_score = reg.score(val_hs, val_voxel_data)\n",
    "    # tst_score = reg.score(tst_hs, tst_voxel_data)\n",
    "\n",
    "    print(f\"[{layer_num+1:02}/{VISION_LAYERS_COUNT:02}] {trn_score = }, {val_score = }\")\n",
    "    # print(f\"[{layer_num+1:02}/{VISION_LAYERS_COUNT:02}] {trn_score = }, {val_score = }, {tst_score = }\")\n",
    "\n",
    "    VISION_MODELS.append({\n",
    "        \"model\": reg,\n",
    "        \"trn_score\": trn_score,\n",
    "        \"val_score\": val_score,\n",
    "        # \"tst_score\": tst_score,\n",
    "    })"
   ]
  },
  {
   "cell_type": "code",
   "execution_count": 33,
   "id": "3cd7ff3d-5932-4b72-b519-63540e115a0d",
   "metadata": {
    "tags": []
   },
   "outputs": [
    {
     "data": {
      "application/vnd.jupyter.widget-view+json": {
       "model_id": "e874d8ded0fe4af0abe90147e7e1a864",
       "version_major": 2,
       "version_minor": 0
      },
      "text/plain": [
       "  0%|          | 0/40 [00:00<?, ?it/s]"
      ]
     },
     "metadata": {},
     "output_type": "display_data"
    }
   ],
   "source": [
    "import os\n",
    "\n",
    "VISION_OUTPUT_DIR = os.path.join(OUTPUT_DIR, \"ridge_models\", \"vision_models\")\n",
    "\n",
    "os.makedirs(VISION_OUTPUT_DIR, exist_ok=True)\n",
    "\n",
    "for layer_num, vision_model in tqdm(enumerate(VISION_MODELS), total=VISION_LAYERS_COUNT):\n",
    "    model_path = os.path.join(VISION_OUTPUT_DIR, f\"{RIDGE_ALPHA}_vision_model_{layer_num:03}.pkl\")\n",
    "\n",
    "    with open(model_path, \"wb\") as f:\n",
    "        pickle.dump(vision_model, f)"
   ]
  },
  {
   "cell_type": "code",
   "execution_count": 34,
   "id": "c208645a-9a07-436f-b192-904963209f68",
   "metadata": {
    "tags": []
   },
   "outputs": [
    {
     "data": {
      "application/vnd.jupyter.widget-view+json": {
       "model_id": "19c652aa46aa4185844897cc2df9435b",
       "version_major": 2,
       "version_minor": 0
      },
      "text/plain": [
       "  0%|          | 0/13 [00:00<?, ?it/s]"
      ]
     },
     "metadata": {},
     "output_type": "display_data"
    },
    {
     "name": "stdout",
     "output_type": "stream",
     "text": [
      "[01/13] trn_score = -4.395683723736771e-12, val_score = -0.004602706647313572\n",
      "[02/13] trn_score = 0.12483125661109859, val_score = 0.11052390266617688\n",
      "[03/13] trn_score = 0.12497831701525064, val_score = 0.1100728185555176\n",
      "[04/13] trn_score = 0.1416927225511454, val_score = 0.11882397553246223\n",
      "[05/13] trn_score = 0.13702755280606393, val_score = 0.11703034578735166\n",
      "[06/13] trn_score = 0.1443815609556518, val_score = 0.1197615819647138\n",
      "[07/13] trn_score = 0.13739270434672307, val_score = 0.11775306998078743\n",
      "[08/13] trn_score = 0.14605762319377286, val_score = 0.12083248977315593\n",
      "[09/13] trn_score = 0.1404058964547301, val_score = 0.11846674975526639\n",
      "[10/13] trn_score = 0.14353007681765922, val_score = 0.11823276547643412\n",
      "[11/13] trn_score = 0.13881964308491407, val_score = 0.11620450146282102\n",
      "[12/13] trn_score = 0.1373780056060364, val_score = 0.11558204171722734\n",
      "[13/13] trn_score = 0.13464993325669863, val_score = 0.11433138705987163\n"
     ]
    }
   ],
   "source": [
    "QFORMER_MODELS = []\n",
    "\n",
    "for layer_num in tqdm(range(QFORMER_LAYERS_COUNT)):\n",
    "    trn_hs = np.array([\n",
    "        QFORMER_HIDDEN_STATES[image_id+1][layer_num]\n",
    "        for image_id in trn_images\n",
    "    ])\n",
    "    val_hs = np.array([\n",
    "        QFORMER_HIDDEN_STATES[image_id+1][layer_num]\n",
    "        for image_id in val_images\n",
    "    ])\n",
    "    # tst_hs = np.array([\n",
    "    #     QFORMER_HIDDEN_STATES[image_id+1][layer_num]\n",
    "    #     for image_id in tst_images\n",
    "    # ])\n",
    "\n",
    "    reg = Ridge(alpha=RIDGE_ALPHA).fit(trn_hs, trn_voxel_data)\n",
    "    # print(f\"{reg.coef_ = }, {reg.intercept_ = }\")\n",
    "\n",
    "    # trn_voxel_data_pred = reg.predict(trn_hs)\n",
    "    # val_voxel_data_pred = reg.predict(val_hs)\n",
    "    # tst_voxel_data_pred = reg.predict(tst_hs)\n",
    "    # # print(f\"{reg.score(val_hs, val_voxel_data_pred) = }\")\n",
    "    trn_score = reg.score(trn_hs, trn_voxel_data)\n",
    "    val_score = reg.score(val_hs, val_voxel_data)\n",
    "    # tst_score = reg.score(tst_hs, tst_voxel_data)\n",
    "\n",
    "    print(f\"[{layer_num+1:02}/{QFORMER_LAYERS_COUNT:02}] {trn_score = }, {val_score = }\")\n",
    "    # print(f\"[{layer_num+1:02}/{QFORMER_LAYERS_COUNT:02}] {trn_score = }, {val_score = }, {tst_score = }\")\n",
    "\n",
    "    QFORMER_MODELS.append({\n",
    "        \"model\": reg,\n",
    "        \"trn_score\": trn_score,\n",
    "        \"val_score\": val_score,\n",
    "        # \"tst_score\": tst_score,\n",
    "    })"
   ]
  },
  {
   "cell_type": "code",
   "execution_count": 35,
   "id": "f41b5213-07a1-4e00-b06b-332137fa4e18",
   "metadata": {
    "tags": []
   },
   "outputs": [
    {
     "data": {
      "application/vnd.jupyter.widget-view+json": {
       "model_id": "92139a13b18441ba9498e81fc255a1e9",
       "version_major": 2,
       "version_minor": 0
      },
      "text/plain": [
       "  0%|          | 0/13 [00:00<?, ?it/s]"
      ]
     },
     "metadata": {},
     "output_type": "display_data"
    }
   ],
   "source": [
    "import os\n",
    "\n",
    "QFORMER_OUTPUT_DIR = os.path.join(OUTPUT_DIR, \"ridge_models\", \"qformer_models\")\n",
    "\n",
    "os.makedirs(QFORMER_OUTPUT_DIR, exist_ok=True)\n",
    "\n",
    "for layer_num, qformer_model in tqdm(enumerate(QFORMER_MODELS), total=QFORMER_LAYERS_COUNT):\n",
    "    model_path = os.path.join(QFORMER_OUTPUT_DIR, f\"{RIDGE_ALPHA}_qformer_model_{layer_num:03}.pkl\")\n",
    "\n",
    "    with open(model_path, \"wb\") as f:\n",
    "        pickle.dump(qformer_model, f)"
   ]
  },
  {
   "cell_type": "code",
   "execution_count": 36,
   "id": "3ed78cdf-c8fc-4386-95c1-fae9dbb30ffe",
   "metadata": {
    "tags": []
   },
   "outputs": [],
   "source": [
    "vision_x = range(1, VISION_LAYERS_COUNT+1)\n",
    "vision_trn_y = [metric[\"trn_score\"] for metric in VISION_MODELS]\n",
    "# vision_tst_y = [metric[\"tst_score\"] for metric in VISION_MODELS]\n",
    "vision_val_y = [metric[\"val_score\"] for metric in VISION_MODELS]\n",
    "\n",
    "qformer_x = range(1, QFORMER_LAYERS_COUNT+1)\n",
    "qformer_trn_y = [metric[\"trn_score\"] for metric in QFORMER_MODELS]\n",
    "# qformer_tst_y = [metric[\"tst_score\"] for metric in QFORMER_MODELS]\n",
    "qformer_val_y = [metric[\"val_score\"] for metric in QFORMER_MODELS]"
   ]
  },
  {
   "cell_type": "code",
   "execution_count": 37,
   "id": "3c82d707-4011-447f-b029-e1d0aa0b5f63",
   "metadata": {
    "tags": []
   },
   "outputs": [
    {
     "data": {
      "image/png": "[encoded data removed]",
      "text/plain": [
       "<Figure size 1000x500 with 1 Axes>"
      ]
     },
     "metadata": {},
     "output_type": "display_data"
    },
    {
     "data": {
      "image/png": "[encoded data removed]",
      "text/plain": [
       "<Figure size 1000x500 with 1 Axes>"
      ]
     },
     "metadata": {},
     "output_type": "display_data"
    }
   ],
   "source": [
    "import matplotlib.pyplot as plt\n",
    "\n",
    "plt.figure(figsize=(10, 5))\n",
    "plt.plot(vision_x, vision_trn_y, label=\"Training Dataset\")\n",
    "plt.plot(vision_x, vision_val_y, label=\"Validation Dataset\")\n",
    "# plt.plot(vision_x, vision_tst_y, label=\"Testing Dataset\")\n",
    "plt.title(\"Vision Hidden States\")\n",
    "plt.xlabel(\"Hidden State\")\n",
    "plt.ylabel(\"R^2 Score\")\n",
    "plt.legend()\n",
    "plt.savefig(os.path.join(OUTPUT_DIR, f\"visual_models_{MODEL_NAME}_ridge_{RIDGE_ALPHA}.png\"))\n",
    "plt.show()\n",
    "\n",
    "plt.figure(figsize=(10, 5))\n",
    "plt.plot(qformer_x, qformer_trn_y, label=\"Training Dataset\")\n",
    "plt.plot(qformer_x, qformer_val_y, label=\"Validation Dataset\")\n",
    "# plt.plot(qformer_x, qformer_tst_y, label=\"Testing Dataset\")\n",
    "# plt.plot(qformer_x[1:], qformer_trn_y[1:], label=\"Training Dataset\")\n",
    "# plt.plot(qformer_x[1:], qformer_val_y[1:], label=\"Validation Dataset\")\n",
    "# plt.plot(qformer_x[1:], qformer_tst_y[1:], label=\"Testing Dataset\")\n",
    "plt.title(\"QFormer Hidden States\")\n",
    "plt.xlabel(\"Hidden State\")\n",
    "plt.ylabel(\"R^2 Score\")\n",
    "plt.legend()\n",
    "plt.savefig(os.path.join(OUTPUT_DIR, f\"qformer_models_{MODEL_NAME}_ridge_{RIDGE_ALPHA}.png\"))\n",
    "plt.show()"
   ]
  },
  {
   "cell_type": "code",
   "execution_count": 38,
   "id": "70502df1-8c7c-4610-83f3-3be381a5aae4",
   "metadata": {
    "tags": []
   },
   "outputs": [],
   "source": [
    "for i in range(len(VISION_MODELS)):\n",
    "    del VISION_MODELS[i]['model']\n",
    "\n",
    "for i in range(len(QFORMER_MODELS)):\n",
    "    del QFORMER_MODELS[i]['model']\n",
    "\n",
    "del VISION_MODELS\n",
    "del QFORMER_MODELS"
   ]
  },
  {
   "cell_type": "markdown",
   "id": "68a8f650-ac01-4aac-82a8-37749cd5604c",
   "metadata": {
    "tags": []
   },
   "source": [
    "### VoxelWise-Tutorials"
   ]
  },
  {
   "cell_type": "code",
   "execution_count": null,
   "id": "1379847a-15c5-407e-99a1-8911381d14b4",
   "metadata": {},
   "outputs": [],
   "source": []
  }
 ],
 "metadata": {
  "kernelspec": {
   "display_name": "Python 3 (ipykernel)",
   "language": "python",
   "name": "python3"
  },
  "language_info": {
   "codemirror_mode": {
    "name": "ipython",
    "version": 3
   },
   "file_extension": ".py",
   "mimetype": "text/x-python",
   "name": "python",
   "nbconvert_exporter": "python",
   "pygments_lexer": "ipython3",
   "version": "3.10.13"
  }
 },
 "nbformat": 4,
 "nbformat_minor": 5
}
