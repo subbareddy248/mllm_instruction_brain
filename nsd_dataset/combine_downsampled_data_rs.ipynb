{
 "cells": [
  {
   "cell_type": "code",
   "execution_count": 2,
   "id": "b4277bf9-c7ec-40da-a616-7e9e18985d5f",
   "metadata": {},
   "outputs": [
    {
     "name": "stdout",
     "output_type": "stream",
     "text": [
      "Hello World!\n"
     ]
    }
   ],
   "source": [
    "// This requires Rust Jupyter Kernel\n",
    "\n",
    "println!(\"Hello World!\");"
   ]
  },
  {
   "cell_type": "code",
   "execution_count": 3,
   "id": "1194b0b9-aa8e-4f2b-a654-082c57fc52ee",
   "metadata": {},
   "outputs": [],
   "source": [
    ":dep hdf5 = \"*\"\n",
    ":dep ndarray = \"*\""
   ]
  },
  {
   "cell_type": "code",
   "execution_count": 4,
   "id": "f6d850ce-45a2-49f5-afe2-d0a6d34ee17d",
   "metadata": {},
   "outputs": [],
   "source": [
    "use hdf5::{File, H5Type, Result};\n",
    "use ndarray::{arr3, Array3, Array4, Axis, s};"
   ]
  },
  {
   "cell_type": "code",
   "execution_count": 5,
   "id": "1afef75f-ab8f-45f1-a431-0f29b2d17fae",
   "metadata": {},
   "outputs": [
    {
     "data": {
      "text/plain": [
       "[73000, 227, 227, 3]"
      ]
     },
     "execution_count": 5,
     "metadata": {},
     "output_type": "execute_result"
    }
   ],
   "source": [
    "let mut downsampled_images = Array4::<u8>::zeros((0, 227, 227, 3));\n",
    "\n",
    "for i in 0..73000 {\n",
    "    let image_filepath = format!(\"/tmp/akshett.jindal/nsddata_stimuli/downsampled/{i}_stimuli_227.h5py\");\n",
    "    let image_file = File::open(&image_filepath)?;\n",
    "    let ds = image_file.dataset(\"stimuli\")?;\n",
    "    let image: Array3<u8> = ds.read()?;\n",
    "    downsampled_images.push(Axis(0), image.view());\n",
    "}\n",
    "\n",
    "downsampled_images.shape()"
   ]
  },
  {
   "cell_type": "code",
   "execution_count": 6,
   "id": "05c6214d-c425-4083-bc20-bcc6495f6e43",
   "metadata": {},
   "outputs": [
    {
     "data": {
      "text/plain": [
       "[73000, 227, 227, 3]"
      ]
     },
     "execution_count": 6,
     "metadata": {},
     "output_type": "execute_result"
    }
   ],
   "source": [
    "downsampled_images.shape()"
   ]
  },
  {
   "cell_type": "code",
   "execution_count": 7,
   "id": "f5b21456-b4a0-465e-a3b5-84ebb7d768b3",
   "metadata": {},
   "outputs": [],
   "source": [
    "let output_file = File::create(\"/tmp/akshett.jindal/nsddata_stimuli/nsd_stimuli_227.hdf5\")?;\n",
    "let ds = output_file.new_dataset_builder().with_data(downsampled_images.view()).create(\"imgBrick\")?;"
   ]
  },
  {
   "cell_type": "code",
   "execution_count": 8,
   "id": "a2dd32e5-1ac9-4955-a23e-53c1c0d86d30",
   "metadata": {},
   "outputs": [],
   "source": [
    "drop(ds);\n",
    "drop(output_file);"
   ]
  },
  {
   "cell_type": "code",
   "execution_count": 9,
   "id": "37ce0f1e-acb1-4e9a-a3a9-5ae5f076c0cf",
   "metadata": {},
   "outputs": [],
   "source": [
    "let downsampled_file = File::open(\"/tmp/akshett.jindal/nsddata_stimuli/nsd_stimuli_227.hdf5\")?;"
   ]
  },
  {
   "cell_type": "code",
   "execution_count": 13,
   "id": "0e0a7aab-8638-46fe-ada8-8872db9eb31a",
   "metadata": {},
   "outputs": [
    {
     "name": "stdout",
     "output_type": "stream",
     "text": [
      "/imgBrick\n"
     ]
    },
    {
     "data": {
      "text/plain": [
       "()"
      ]
     },
     "execution_count": 13,
     "metadata": {},
     "output_type": "execute_result"
    }
   ],
   "source": [
    "for dataset in downsampled_file.datasets()? {\n",
    "    println!(\"{}\", dataset.name());\n",
    "}"
   ]
  }
 ],
 "metadata": {
  "kernelspec": {
   "display_name": "Rust",
   "language": "rust",
   "name": "rust"
  },
  "language_info": {
   "codemirror_mode": "rust",
   "file_extension": ".rs",
   "mimetype": "text/rust",
   "name": "Rust",
   "pygment_lexer": "rust",
   "version": ""
  }
 },
 "nbformat": 4,
 "nbformat_minor": 5
}
