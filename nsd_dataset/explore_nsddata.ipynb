{
 "cells": [
  {
   "cell_type": "code",
   "execution_count": 2,
   "id": "bdee79e6-45b1-42f5-a83b-62b4bdeaec56",
   "metadata": {},
   "outputs": [
    {
     "name": "stdout",
     "output_type": "stream",
     "text": [
      "\n",
      "     active environment : subba\n",
      "    active env location : /home2/akshett.jindal/miniconda3/envs/subba\n",
      "            shell level : 2\n",
      "       user config file : /home2/akshett.jindal/.condarc\n",
      " populated config files : /home2/akshett.jindal/.condarc\n",
      "          conda version : 23.9.0\n",
      "    conda-build version : not installed\n",
      "         python version : 3.11.5.final.0\n",
      "       virtual packages : __archspec=1=x86_64\n",
      "                          __glibc=2.27=0\n",
      "                          __linux=4.15.0=0\n",
      "                          __unix=0=0\n",
      "       base environment : /home2/akshett.jindal/miniconda3  (writable)\n",
      "      conda av data dir : /home2/akshett.jindal/miniconda3/etc/conda\n",
      "  conda av metadata url : None\n",
      "           channel URLs : https://repo.anaconda.com/pkgs/main/linux-64\n",
      "                          https://repo.anaconda.com/pkgs/main/noarch\n",
      "                          https://repo.anaconda.com/pkgs/r/linux-64\n",
      "                          https://repo.anaconda.com/pkgs/r/noarch\n",
      "          package cache : /home2/akshett.jindal/miniconda3/pkgs\n",
      "                          /home2/akshett.jindal/.conda/pkgs\n",
      "       envs directories : /home2/akshett.jindal/miniconda3/envs\n",
      "                          /home2/akshett.jindal/.conda/envs\n",
      "               platform : linux-64\n",
      "             user-agent : conda/23.9.0 requests/2.31.0 CPython/3.11.5 Linux/4.15.0-213-generic ubuntu/18.04.6 glibc/2.27\n",
      "                UID:GID : 2466:2003\n",
      "             netrc file : /home2/akshett.jindal/.netrc\n",
      "           offline mode : False\n",
      "\n",
      "\n"
     ]
    }
   ],
   "source": [
    "!conda info"
   ]
  },
  {
   "cell_type": "code",
   "execution_count": 44,
   "id": "43e4f4b7-1409-4bae-8ced-6ec42b5aed40",
   "metadata": {},
   "outputs": [],
   "source": [
    "!pip install -q scipy nibabel pandas"
   ]
  },
  {
   "cell_type": "code",
   "execution_count": 45,
   "id": "c0d4ff41-00f6-4555-9ac2-0314240d4f73",
   "metadata": {},
   "outputs": [],
   "source": [
    "from nsd_gnet8x.src.file_utility import load_mask_from_nii, view_data\n",
    "from nsd_gnet8x.src.roi import roi_map, iterate_roi\n",
    "from nsd_gnet8x.src.load_nsd import image_feature_fn, ordering_split, load_betas\n",
    "import scipy.io as sio\n",
    "import numpy as np\n",
    "import h5py\n",
    "import pandas as pd"
   ]
  },
  {
   "cell_type": "code",
   "execution_count": 4,
   "id": "d7016284-c9d7-4959-a1f7-58abb2540596",
   "metadata": {},
   "outputs": [],
   "source": [
    "# ALL_SUBJECTS = [1, 2, 5, 7]\n",
    "ALL_SUBJECTS = [1]"
   ]
  },
  {
   "cell_type": "code",
   "execution_count": 5,
   "id": "20811b86-bd02-4965-a652-2f8101007a20",
   "metadata": {},
   "outputs": [
    {
     "data": {
      "text/plain": [
       "dict_keys(['__header__', '__version__', '__globals__', 'basiccnt', 'masterordering', 'sharedix', 'stimpattern', 'subjectim'])"
      ]
     },
     "execution_count": 5,
     "metadata": {},
     "output_type": "execute_result"
    }
   ],
   "source": [
    "exp_design_file = \"/tmp/akshett.jindal/nsd_expdesign.mat\"\n",
    "exp_design = sio.loadmat(exp_design_file)\n",
    "exp_design.keys()"
   ]
  },
  {
   "cell_type": "code",
   "execution_count": 6,
   "id": "2c606ffd-98dc-4bc6-9d44-7f87ef4680ea",
   "metadata": {},
   "outputs": [
    {
     "data": {
      "text/plain": [
       "(30000,)"
      ]
     },
     "execution_count": 6,
     "metadata": {},
     "output_type": "execute_result"
    }
   ],
   "source": [
    "ordering = exp_design[\"masterordering\"].flatten() - 1\n",
    "ordering.shape"
   ]
  },
  {
   "cell_type": "code",
   "execution_count": 7,
   "id": "7f3eacf2-2809-41b8-994e-3ed10155225e",
   "metadata": {},
   "outputs": [],
   "source": [
    "basic_cnt    = exp_design['basiccnt']\n",
    "shared_idx   = exp_design['sharedix']\n",
    "subject_idx  = exp_design['subjectim']\n",
    "trial_order  = exp_design['masterordering']\n",
    "stim_pattern = exp_design['stimpattern']"
   ]
  },
  {
   "cell_type": "code",
   "execution_count": 33,
   "id": "15f5080e-3b71-4a3b-848a-e8b5214e192e",
   "metadata": {},
   "outputs": [
    {
     "name": "stdout",
     "output_type": "stream",
     "text": [
      "basic_cnt.shape = (3, 40), basic_cnt.min() = 22, basic_cnt.max() = 465\n",
      "shared_idx.shape = (1, 1000), shared_idx.min() = 2951, shared_idx.max() = 72949\n",
      "subject_idx.shape = (8, 10000), subject_idx.min() = 1, subject_idx.max() = 73000\n",
      "trial_order.shape = (1, 30000), trial_order.min() = 1, trial_order.max() = 10000\n",
      "stim_pattern.shape = (40, 12, 75), stim_pattern.min() = 0, stim_pattern.max() = 1\n"
     ]
    }
   ],
   "source": [
    "print(f\"{basic_cnt.shape = }, {basic_cnt.min() = }, {basic_cnt.max() = }\")\n",
    "print(f\"{shared_idx.shape = }, {shared_idx.min() = }, {shared_idx.max() = }\")\n",
    "print(f\"{subject_idx.shape = }, {subject_idx.min() = }, {subject_idx.max() = }\")\n",
    "print(f\"{trial_order.shape = }, {trial_order.min() = }, {trial_order.max() = }\")\n",
    "print(f\"{stim_pattern.shape = }, {stim_pattern.min() = }, {stim_pattern.max() = }\")"
   ]
  },
  {
   "cell_type": "code",
   "execution_count": 41,
   "id": "ee499d54-5a3b-45d9-be27-bd313a08fb0c",
   "metadata": {},
   "outputs": [
    {
     "data": {
      "text/plain": [
       "array([[46002, 61882,   828, ..., 53167,  1943,  5033],\n",
       "       [46002, 42019, 22499, ..., 61375, 42647, 69767],\n",
       "       [46002, 19256, 36385, ...,  5026, 53735, 29181],\n",
       "       ...,\n",
       "       [46002, 21396, 18924, ..., 48121, 63633, 17859],\n",
       "       [46002, 16506,  9386, ..., 34540, 31243, 55230],\n",
       "       [46002, 57483, 41827, ...,  4293, 23655, 29037]], dtype=int32)"
      ]
     },
     "execution_count": 41,
     "metadata": {},
     "output_type": "execute_result"
    }
   ],
   "source": [
    "(subject_idx[:,trial_order[0]-1]-1)"
   ]
  },
  {
   "cell_type": "code",
   "execution_count": null,
   "id": "de2dbbee-d94b-42a6-8a29-a2604672a79b",
   "metadata": {},
   "outputs": [],
   "source": [
    "dataset_filepath = f\"/tmp/akshett.jindal/nsddata_stimuli/nsd_stimuli_227.hdf5\"\n",
    "image_dataset = np.array(h5py.File(dataset_filepath, \"r\")['imgBrick'])"
   ]
  },
  {
   "cell_type": "code",
   "execution_count": null,
   "id": "00bd6883-fc5e-4db8-a6d1-e4e85e245bd7",
   "metadata": {},
   "outputs": [],
   "source": [
    "BASE_DIRECTORY = \"/tmp/akshett.jindal\""
   ]
  },
  {
   "cell_type": "code",
   "execution_count": 13,
   "id": "788de541-a6f5-42de-a254-975f0ab354dd",
   "metadata": {},
   "outputs": [
    {
     "name": "stdout",
     "output_type": "stream",
     "text": [
      "Total number of voxels = 15724\n",
      "trn_stim_ordering.shape = (27000,), trn_voxel_data.shape = (27000, 15724)\n",
      "val_stim_ordering.shape = (3000,), val_voxel_data.shape = (3000, 15724)\n"
     ]
    }
   ],
   "source": [
    "for subject in ALL_SUBJECTS:\n",
    "    brain_mask_full = load_mask_from_nii(\n",
    "        f\"{BASE_DIRECTORY}/nsddata_brain_masks/subj{subject:02}/brainmask.nii.gz\"\n",
    "    )\n",
    "    maskdata = load_mask_from_nii(\n",
    "        f\"{BASE_DIRECTORY}/nsddata_voxels/subj{subject:02}/nsdgeneral.nii.gz\"\n",
    "    )\n",
    "    voxels = np.where(maskdata == 1)\n",
    "    subject_image_ids = subject_idx[subject-1] - 1\n",
    "\n",
    "    combined_session_data = None\n",
    "\n",
    "    for session in range(1, 41):\n",
    "        maindata = load_mask_from_nii(\n",
    "            f\"{BASE_DIRECTORY}/nsddata_sessions/subj{subject:02}/betas_session{session:02}.nii.gz\"\n",
    "        ).transpose(3, 0, 1, 2)\n",
    "\n",
    "        # print(f\"{maindata.shape = }\")\n",
    "        # print(f\"{maskdata.shape = }\")\n",
    "        # print(f\"{brain_mask_full.shape = }\")\n",
    "\n",
    "        current_session_data = maindata[:, voxels[0], voxels[1], voxels[2]]\n",
    "        if combined_session_data is None:\n",
    "            combined_session_data = current_session_data\n",
    "        else:\n",
    "            combined_session_data = np.concatenate((combined_session_data, current_session_data), axis=0)\n",
    "\n",
    "    trn_stim_ordering, trn_voxel_data, val_stim_ordering, val_voxel_data = ordering_split(combined_session_data, ordering, combine_trial=False)\n",
    "    print(f\"{trn_stim_ordering.shape = }, {trn_voxel_data.shape = }\")\n",
    "    print(f\"{val_stim_ordering.shape = }, {val_voxel_data.shape = }\")"
   ]
  },
  {
   "cell_type": "code",
   "execution_count": 31,
   "id": "5509efef-be14-4454-815b-ac09df502a0b",
   "metadata": {},
   "outputs": [
    {
     "data": {
      "text/plain": [
       "(10000,)"
      ]
     },
     "execution_count": 31,
     "metadata": {},
     "output_type": "execute_result"
    }
   ],
   "source": [
    "subject_image_ids = subject_idx[0] - 1\n",
    "subject_image_ids.shape"
   ]
  },
  {
   "cell_type": "code",
   "execution_count": 27,
   "id": "a9d4d039-279c-43b6-a141-203eb658659f",
   "metadata": {},
   "outputs": [
    {
     "data": {
      "text/plain": [
       "(10000, 227, 227, 3)"
      ]
     },
     "execution_count": 27,
     "metadata": {},
     "output_type": "execute_result"
    }
   ],
   "source": [
    "image_dataset[subject_image_ids].shape"
   ]
  }
 ],
 "metadata": {
  "kernelspec": {
   "display_name": "Python 3 (ipykernel)",
   "language": "python",
   "name": "python3"
  },
  "language_info": {
   "codemirror_mode": {
    "name": "ipython",
    "version": 3
   },
   "file_extension": ".py",
   "mimetype": "text/x-python",
   "name": "python",
   "nbconvert_exporter": "python",
   "pygments_lexer": "ipython3",
   "version": "3.12.0"
  }
 },
 "nbformat": 4,
 "nbformat_minor": 5
}
